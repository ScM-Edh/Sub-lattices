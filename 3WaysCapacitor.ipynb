{
 "cells": [
  {
   "cell_type": "code",
   "execution_count": 1,
   "metadata": {},
   "outputs": [],
   "source": [
    "%load_ext autoreload\n",
    "%autoreload 2"
   ]
  },
  {
   "cell_type": "code",
   "execution_count": 55,
   "metadata": {},
   "outputs": [],
   "source": [
    "from qiskit_metal import draw, Dict, designs, MetalGUI\n",
    "from qiskit_metal.toolbox_metal import math_and_overrides\n",
    "from qiskit_metal.qlibrary.core import QComponent\n",
    "import numpy as np\n",
    "from math import ceil"
   ]
  },
  {
   "cell_type": "code",
   "execution_count": 89,
   "metadata": {},
   "outputs": [],
   "source": [
    "class TriCapacitor(QComponent):\n",
    "    \"\"\"\n",
    "    Use this class as a template for your components - have fun\n",
    "\n",
    "    Description:\n",
    "\n",
    "    Options:\n",
    "    \"\"\"\n",
    "\n",
    "    # Edit these to define your own template options for creation\n",
    "    # Default drawing options\n",
    "    default_options = Dict(\n",
    "        cap_length='50um',\n",
    "        cap_gap='2um',\n",
    "        cpw_width='20um',\n",
    "        cpw_length='10um',\n",
    "        cpw_gap='12um',\n",
    "        gap_to_gnd='12um',\n",
    "        pos_x='0um',\n",
    "        pos_y='0um',\n",
    "        orientation='0',\n",
    "        layer='1'\n",
    "    )\n",
    "    \"\"\"Default drawing options\"\"\"\n",
    "\n",
    "    # Name prefix of component, if user doesn't provide name\n",
    "    component_metadata = Dict(short_name='capacitor',\n",
    "                             _qgeometry_table_poly='True',\n",
    "                             _qgeometry_table_path='True')\n",
    "    \"\"\"Component metadata\"\"\"\n",
    "\n",
    "    def make(self):\n",
    "        \"\"\"Convert self.options into QGeometry.\"\"\"\n",
    "\n",
    "        p = self.parse_options()  # Parse the string options into numbers\n",
    "\n",
    "        # EDIT HERE - Replace the following with your code\n",
    "        # Create some raw geometry\n",
    "        # Use autocompletion for the `draw.` module (use tab key)\n",
    "        # making the base of the capacitor\n",
    "        rect1 = draw.rectangle(p.cap_length, p.cap_length*1.7,0,0)\n",
    "        rect2 = rect1\n",
    "        rect3 = rect1\n",
    "\n",
    "        rect2 = draw.rotate(rect2, 60)\n",
    "        rect3 = draw.rotate(rect3, -60)\n",
    "\n",
    "        pads = draw.union(rect1, rect2, rect3)\n",
    "        pads = draw.rotate(pads, 30)\n",
    "\n",
    "        # defining the gaps on the capacitor\n",
    "        gap = draw.shapely.geometry.Point(0,0).buffer(p.cap_gap/3)\n",
    "        rect4 = draw.rectangle(p.cap_gap, 1.1*p.cap_length, 0, (1.1*p.cap_length)/2)\n",
    "        rect5 = rect4\n",
    "        rect6 = rect4\n",
    "        rect5 = draw.rotate(rect5,120,origin=(0,0))\n",
    "        rect6 = draw.rotate(rect6,-120, origin=(0,0))\n",
    "        gap = draw.union(gap,rect4,rect5,rect6)\n",
    "        pads = draw.subtract(pads, gap)\n",
    "\n",
    "        # defining cpw gates\n",
    "\n",
    "        # cpw1 = draw.rectangle(p.cpw_width,p.cpw_length,0,-p.cpw_length/2-(p.cap_length-p.cpw_width/(2*np.sqrt(3))))\n",
    "        # cpw2 = cpw1\n",
    "        # cpw3 = cpw1\n",
    "        # cpw2 = draw.rotate(cpw2,120,origin=(0,0))\n",
    "        # cpw3 = draw.rotate(cpw3,-120,origin=(0,0))\n",
    "\n",
    "        cpw1 = draw.shapely.geometry.LineString([[0,-(p.cap_length-p.cpw_width/(2*1.2))],[0,-(p.cap_length-p.cpw_width/(2*1.2))-p.cpw_length]])\n",
    "        cpw2 = cpw1\n",
    "        cpw3 = cpw1\n",
    "        cpw2 = draw.rotate(cpw2,120,origin=(0,0))\n",
    "        cpw3 = draw.rotate(cpw3,-120,origin=(0,0))\n",
    "\n",
    "        to_cut1 = draw.rectangle(p.cpw_width,2*p.cpw_width/(2*1.7),0,-(2*p.cpw_width/(2*1.7))/2-(p.cap_length-p.cpw_width/(2*1.2)))\n",
    "        to_cut2 = to_cut1\n",
    "        to_cut3 = to_cut1\n",
    "        to_cut2 = draw.rotate(to_cut2,120,origin=(0,0))\n",
    "        to_cut3 = draw.rotate(to_cut3,-120,origin=(0,0))\n",
    "        pads = draw.subtract(pads,to_cut1)\n",
    "        pads = draw.subtract(pads,to_cut2)\n",
    "        pads = draw.subtract(pads,to_cut3)\n",
    "\n",
    "        # making the gap to ground of the capacitor\n",
    "        rect7 = draw.rectangle(p.cap_length+2*p.gap_to_gnd/np.sqrt(3), (p.cap_length+2*p.gap_to_gnd/np.sqrt(3))*np.sqrt(3),0,0)\n",
    "        rect8 = rect7\n",
    "        rect9 = rect7\n",
    "\n",
    "        rect8 = draw.rotate(rect8, 60)\n",
    "        rect9 = draw.rotate(rect9, -60)\n",
    "\n",
    "        cap_etch = draw.union(rect7, rect8, rect9)\n",
    "        cap_etch = draw.rotate(cap_etch, 30)\n",
    "\n",
    "        # making the gap to ground of the cpw\n",
    "        # cpw1_etch = draw.rectangle(p.cpw_width+2*p.cpw_gap,p.cpw_length,0,-p.cpw_length/2-(p.cap_length-p.cpw_width/(2*np.sqrt(3))))\n",
    "        # cpw2_etch = cpw1_etch\n",
    "        # cpw3_etch = cpw1_etch\n",
    "        \n",
    "        # cpw2_etch = draw.rotate(cpw2_etch,120,origin=(0,0))\n",
    "        # cpw3_etch = draw.rotate(cpw3_etch,-120,origin=(0,0))\n",
    "\n",
    "        # Rotating and translating\n",
    "        geom_list = [pads,cpw1,cpw2,cpw3,cap_etch]\n",
    "        geom_list = draw.rotate(geom_list, p.orientation, origin=(0,0))\n",
    "        geom_list = draw.translate(geom_list, p.pos_x, p.pos_y)\n",
    "        [pads,cpw1,cpw2,cpw3,cap_etch] = geom_list\n",
    "\n",
    "        self.add_qgeometry('poly', {'pads':pads}, layer=p.layer)\n",
    "        self.add_qgeometry('poly', {'cap_etch':cap_etch}, layer=p.layer, subtract=True)\n",
    "        self.add_qgeometry('path', {'cpw1':cpw1, 'cpw2':cpw2, 'cpw3':cpw3}, layer=p.layer, width = p.cpw_width)\n",
    "        self.add_qgeometry('path', {'cpw1_etch':cpw1, 'cpw2_etch':cpw2, 'cpw3_etch':cpw3}, layer=p.layer, width = p.cpw_width+2*p.cpw_gap, subtract=True)\n",
    "\n",
    "        self.add_pin('pin_1', cpw1.coords, width = p.cpw_width, gap = p.cpw_gap, input_as_norm=True)\n",
    "        self.add_pin('pin_2', cpw2.coords, width = p.cpw_width, gap = p.cpw_gap, input_as_norm=True)\n",
    "        self.add_pin('pin_3', cpw3.coords, width = p.cpw_width, gap = p.cpw_gap, input_as_norm=True)\n",
    "\n",
    "               "
   ]
  },
  {
   "cell_type": "markdown",
   "metadata": {},
   "source": [
    "# Testing each step of the construction"
   ]
  },
  {
   "cell_type": "code",
   "execution_count": 48,
   "metadata": {},
   "outputs": [
    {
     "data": {
      "image/svg+xml": [
       "<svg xmlns=\"http://www.w3.org/2000/svg\" xmlns:xlink=\"http://www.w3.org/1999/xlink\" width=\"100.0\" height=\"100.0\" viewBox=\"-9.369024293495611 -10.650113206741148 18.738048586991223 21.300226413482296\" preserveAspectRatio=\"xMinYMin meet\"><g transform=\"matrix(1,0,0,-1,0,0.0)\"><path fill-rule=\"evenodd\" fill=\"#66cc99\" stroke=\"#555555\" stroke-width=\"0.4260045282696459\" opacity=\"0.6\" d=\"M -0.08012701892219454,-9.86121593216773 L -0.1602540378443882,-9.722431864335457 L -8.33974596215562,-4.999999999999997 L -8.500000000000002,-4.999999999999998 L -8.500000000000002,-4.907477288111819 L -8.580127018922193,-4.861215932167729 L -8.500000000000002,-4.722431864335461 L -8.5,4.722431864335457 L -8.580127018922193,4.861215932167729 L -8.5,4.907477288111821 L -8.5,5.000000000000002 L -8.339745962155611,5.000000000000003 L -0.1602540378443882,9.722431864335455 L -0.08012701892219365,9.86121593216773 L 8.881784197001252e-16,9.814954576223638 L 0.08012701892219454,9.86121593216773 L 0.1602540378443882,9.722431864335457 L 8.33974596215562,4.999999999999997 L 8.500000000000002,4.999999999999998 L 8.500000000000002,4.907477288111819 L 8.580127018922193,4.861215932167729 L 8.500000000000002,4.722431864335461 L 8.5,-4.722431864335457 L 8.580127018922193,-4.861215932167729 L 8.5,-4.907477288111821 L 8.5,-5.000000000000002 L 8.339745962155611,-5.000000000000003 L 0.1602540378443882,-9.722431864335455 L 0.08012701892219365,-9.86121593216773 L -8.881784197001252e-16,-9.814954576223638 L -0.08012701892219454,-9.86121593216773 z\" /></g></svg>"
      ],
      "text/plain": [
       "<POLYGON ((-0.08 -9.861, -0.16 -9.722, -8.34 -5, -8.5 -5, -8.5 -4.907, -8.58...>"
      ]
     },
     "execution_count": 48,
     "metadata": {},
     "output_type": "execute_result"
    }
   ],
   "source": [
    "rect1 = draw.rectangle(10,1.7*10,0,0) # aqui\n",
    "rect2 = rect1\n",
    "rect3 = rect1\n",
    "\n",
    "rect2 = draw.rotate(rect2, 60)\n",
    "rect3 = draw.rotate(rect3, -60)\n",
    "\n",
    "pads = draw.union(rect1,rect2,rect3)\n",
    "pads = draw.rotate(pads, 30)\n",
    "pads"
   ]
  },
  {
   "cell_type": "code",
   "execution_count": 49,
   "metadata": {},
   "outputs": [
    {
     "data": {
      "image/svg+xml": [
       "<svg xmlns=\"http://www.w3.org/2000/svg\" xmlns:xlink=\"http://www.w3.org/1999/xlink\" width=\"100.0\" height=\"100.0\" viewBox=\"-9.344079828490262 -10.625168741735799 18.688159656980524 20.62672585833788\" preserveAspectRatio=\"xMinYMin meet\"><g transform=\"matrix(1,0,0,-1,0,-0.6236116251337158)\"><g><path fill-rule=\"evenodd\" fill=\"#66cc99\" stroke=\"#555555\" stroke-width=\"0.4125345171667576\" opacity=\"0.6\" d=\"M -0.1602540378443882,-9.722431864335457 L -7.5000000000000036,-5.484827557301443 L 0.0,-1.1547005383792515 L 7.5000000000000036,-5.484827557301443 L 0.1602540378443882,-9.722431864335455 L 0.08012701892219365,-9.86121593216773 L -8.881784197001252e-16,-9.814954576223638 L -0.08012701892219454,-9.86121593216773 L -0.1602540378443882,-9.722431864335457 z\" /><path fill-rule=\"evenodd\" fill=\"#66cc99\" stroke=\"#555555\" stroke-width=\"0.4125345171667576\" opacity=\"0.6\" d=\"M -8.5,4.722431864335457 L -8.580127018922193,4.861215932167729 L -8.5,4.907477288111821 L -8.5,5.000000000000002 L -8.339745962155611,5.000000000000003 L -1.0,9.237604307034012 L -1.0,0.5773502691896258 L -8.500000000000002,-3.7527767497325657 L -8.5,4.722431864335457 z\" /><path fill-rule=\"evenodd\" fill=\"#66cc99\" stroke=\"#555555\" stroke-width=\"0.4125345171667576\" opacity=\"0.6\" d=\"M 8.33974596215562,4.999999999999997 L 8.500000000000002,4.999999999999998 L 8.500000000000002,4.907477288111819 L 8.580127018922193,4.861215932167729 L 8.500000000000002,4.722431864335461 L 8.5,-3.752776749732565 L 1.0,0.5773502691896258 L 1.0,9.237604307034013 L 8.33974596215562,4.999999999999997 z\" /></g></g></svg>"
      ],
      "text/plain": [
       "<MULTIPOLYGON (((-0.16 -9.722, -7.5 -5.485, 0 -1.155, 7.5 -5.485, 0.16 -9.72...>"
      ]
     },
     "execution_count": 49,
     "metadata": {},
     "output_type": "execute_result"
    }
   ],
   "source": [
    "center = draw.shapely.geometry.Point(0,0).buffer(0.5) # aqui\n",
    "rect4 = draw.rectangle(2, 10+10*0.1, 0, (10+10*0.1)/2) # aqui\n",
    "rect5 = rect4\n",
    "rect6 = rect4\n",
    "rect5 = draw.rotate(rect5,120,origin=(0,0))\n",
    "rect6 = draw.rotate(rect6,-120,origin=(0,0))\n",
    "gap = draw.union(center,rect4,rect5,rect6)\n",
    "\n",
    "gap\n",
    "pads = draw.subtract(pads,gap)\n",
    "pads\n"
   ]
  },
  {
   "cell_type": "code",
   "execution_count": 50,
   "metadata": {},
   "outputs": [
    {
     "data": {
      "image/svg+xml": [
       "<svg xmlns=\"http://www.w3.org/2000/svg\" xmlns:xlink=\"http://www.w3.org/1999/xlink\" width=\"100.0\" height=\"100.0\" viewBox=\"-18.455533849569488 -19.36707658144959 36.911067699138975 32.33222937425249\" preserveAspectRatio=\"xMinYMin meet\"><g transform=\"matrix(1,0,0,-1,0,-6.4019237886466875)\"><g><path fill-rule=\"evenodd\" fill=\"#66cc99\" stroke=\"#555555\" stroke-width=\"0.7382213539827795\" opacity=\"0.6\" d=\"M -3.0,-18.0 L -3.0,-8.082903768654761 L -7.5000000000000036,-5.484827557301443 L 0.0,-1.1547005383792515 L 7.5000000000000036,-5.484827557301443 L 3.0,-8.082903768654761 L 3.0,-18.0 L -3.0,-18.0 z\" /><path fill-rule=\"evenodd\" fill=\"#66cc99\" stroke=\"#555555\" stroke-width=\"0.7382213539827795\" opacity=\"0.6\" d=\"M -1.0,9.237604307034012 L -1.0,0.5773502691896258 L -8.500000000000002,-3.7527767497325657 L -8.5,1.4433756729740634 L -17.088457268119896,6.40192378864668 L -14.088457268119896,11.598076211353312 L -5.500000000000003,6.639528095680695 L -1.0,9.237604307034012 z\" /><path fill-rule=\"evenodd\" fill=\"#66cc99\" stroke=\"#555555\" stroke-width=\"0.7382213539827795\" opacity=\"0.6\" d=\"M 1.0,0.5773502691896258 L 1.0,9.237604307034013 L 5.5000000000000036,6.639528095680696 L 14.088457268119896,11.598076211353312 L 17.088457268119896,6.40192378864668 L 8.500000000000002,1.4433756729740632 L 8.5,-3.752776749732565 L 1.0,0.5773502691896258 z\" /></g></g></svg>"
      ],
      "text/plain": [
       "<MULTIPOLYGON (((-3 -18, -3 -8.083, -7.5 -5.485, 0 -1.155, 7.5 -5.485, 3 -8....>"
      ]
     },
     "execution_count": 50,
     "metadata": {},
     "output_type": "execute_result"
    }
   ],
   "source": [
    "l = 10\n",
    "x = 6\n",
    "y = 10\n",
    "gnd = 2\n",
    "\n",
    "cpw1 = draw.rectangle(x,y,0,-y/2-(l-x/(2*1.5))) # aqui\n",
    "cpw2 = cpw1\n",
    "cpw3 = cpw1\n",
    "cpw2 = draw.rotate(cpw2,120,origin=(0,0))\n",
    "cpw3 = draw.rotate(cpw3,-120,origin=(0,0))\n",
    "\n",
    "pads = draw.union(pads,cpw1,cpw2,cpw3)   \n",
    "\n",
    "pads\n"
   ]
  },
  {
   "cell_type": "code",
   "execution_count": 12,
   "metadata": {},
   "outputs": [
    {
     "data": {
      "image/svg+xml": [
       "<svg xmlns=\"http://www.w3.org/2000/svg\" xmlns:xlink=\"http://www.w3.org/1999/xlink\" width=\"100.0\" height=\"100.0\" viewBox=\"-11.645006123985068 -13.294153162899182 23.290012247970136 26.588306325798364\" preserveAspectRatio=\"xMinYMin meet\"><g transform=\"matrix(1,0,0,-1,0,0.0)\"><path fill-rule=\"evenodd\" fill=\"#66cc99\" stroke=\"#555555\" stroke-width=\"0.5317661265159672\" opacity=\"0.6\" d=\"M -1.7763568394002505e-15,-12.309401076758501 L -2.6645352591003757e-15,-12.309401076758501 L -10.660254037844387,-6.1547005383792515 L -10.660254037844386,-6.15470053837925 L -10.660254037844387,-6.15470053837925 L -10.660254037844386,6.15470053837925 L -10.660254037844386,6.1547005383792515 L -10.660254037844386,6.154700538379252 L 8.881784197001252e-16,12.309401076758501 L 1.7763568394002505e-15,12.309401076758501 L 2.6645352591003757e-15,12.309401076758501 L 10.660254037844387,6.1547005383792515 L 10.660254037844386,6.15470053837925 L 10.660254037844387,6.15470053837925 L 10.660254037844386,-6.15470053837925 L 10.660254037844386,-6.1547005383792515 L 10.660254037844386,-6.154700538379252 L -8.881784197001252e-16,-12.309401076758501 L -1.7763568394002505e-15,-12.309401076758501 z\" /></g></svg>"
      ],
      "text/plain": [
       "<POLYGON ((0 -12.309, 0 -12.309, -10.66 -6.155, -10.66 -6.155, -10.66 -6.155...>"
      ]
     },
     "execution_count": 12,
     "metadata": {},
     "output_type": "execute_result"
    }
   ],
   "source": [
    "etch1 = draw.rectangle(l+2*gnd/np.sqrt(3),(l+2*gnd/np.sqrt(3))*np.sqrt(3),0,0)\n",
    "etch2 = etch1\n",
    "etch3 = etch1\n",
    "\n",
    "etch2 = draw.rotate(etch2,60)\n",
    "etch3 = draw.rotate(etch3,-60)\n",
    "\n",
    "cap_etch = draw.union(etch1,etch2,etch3)\n",
    "cap_etch = draw.rotate(cap_etch, 30)\n",
    "\n",
    "cap_etch"
   ]
  },
  {
   "cell_type": "code",
   "execution_count": 13,
   "metadata": {},
   "outputs": [
    {
     "data": {
      "image/svg+xml": [
       "<svg xmlns=\"http://www.w3.org/2000/svg\" xmlns:xlink=\"http://www.w3.org/1999/xlink\" width=\"100.0\" height=\"100.0\" viewBox=\"-11.575724091682313 -11.492820323027551 23.151448183364625 24.717691453623978\" preserveAspectRatio=\"xMinYMin meet\"><g transform=\"matrix(1,0,0,-1,0,1.732050807568875)\"><path fill-rule=\"evenodd\" fill=\"#66cc99\" stroke=\"#555555\" stroke-width=\"0.49435382907247954\" opacity=\"0.6\" d=\"M -10.660254037844387,-6.1547005383792515 L -10.660254037844386,-6.15470053837925 L -10.660254037844387,-6.15470053837925 L -10.660254037844386,2.6905989232414944 L -8.660254037844387,1.5358983848622438 L -8.660254037844386,1.535898384862247 L -8.660254037844387,-3.8452994616207468 L -1.0,0.5773502691896258 L -1.0,9.422649730810374 L -5.660254037844388,6.732050807568876 L -7.660254037844388,7.886751345948127 L 8.881784197001252e-16,12.309401076758501 L 1.7763568394002505e-15,12.309401076758501 L 2.6645352591003757e-15,12.309401076758501 L 7.660254037844389,7.886751345948127 L 5.660254037844389,6.732050807568877 L 1.0,9.422649730810374 L 1.0,0.5773502691896258 L 8.660254037844384,-3.845299461620745 L 8.660254037844386,1.5358983848622463 L 8.660254037844387,1.5358983848622438 L 10.660254037844387,2.690598923241495 L 10.660254037844386,-6.15470053837925 L 10.660254037844386,-6.1547005383792515 L 10.660254037844386,-6.154700538379252 L 3.0,-10.577350269189624 L 3.0,-8.267949192431123 L 2.999999999999997,-8.267949192431123 L 7.660254037844388,-5.577350269189624 L 0.0,-1.154700538379252 L -7.660254037844388,-5.577350269189624 L -2.999999999999997,-8.267949192431123 L -3.0,-8.267949192431123 L -3.0,-10.577350269189626 L -10.660254037844387,-6.1547005383792515 z M -8.660254037844387,-5.0 L -8.660254037844386,-5.000000000000001 L -8.660254037844387,-4.999999999999998 L -8.660254037844387,-4.999999999999999 L -8.660254037844387,-5.0 z\" /></g></svg>"
      ],
      "text/plain": [
       "<POLYGON ((-10.66 -6.155, -10.66 -6.155, -10.66 -6.155, -10.66 2.691, -8.66 ...>"
      ]
     },
     "execution_count": 13,
     "metadata": {},
     "output_type": "execute_result"
    }
   ],
   "source": [
    "sub = draw.subtract(cap_etch, pads)\n",
    "sub"
   ]
  },
  {
   "cell_type": "code",
   "execution_count": 10,
   "metadata": {},
   "outputs": [
    {
     "name": "stdout",
     "output_type": "stream",
     "text": [
      "1.7320508075688772\n"
     ]
    }
   ],
   "source": [
    "print(np.sqrt(3))"
   ]
  },
  {
   "cell_type": "code",
   "execution_count": 54,
   "metadata": {},
   "outputs": [],
   "source": [
    "testedesign = designs.DesignPlanar(overwrite_enabled=True)"
   ]
  },
  {
   "cell_type": "code",
   "execution_count": 56,
   "metadata": {},
   "outputs": [],
   "source": [
    "gui = MetalGUI(testedesign)"
   ]
  },
  {
   "cell_type": "code",
   "execution_count": 90,
   "metadata": {},
   "outputs": [],
   "source": [
    "cap = TriCapacitor(testedesign,'cap')\n",
    "\n",
    "gui.rebuild()\n",
    "gui.zoom_on_components(['cap'])"
   ]
  },
  {
   "cell_type": "code",
   "execution_count": 91,
   "metadata": {},
   "outputs": [
    {
     "name": "stderr",
     "output_type": "stream",
     "text": [
      "04:54PM 52s WARNING [_import_junctions_to_one_cell]: Not able to find file:\"../resources/Fake_Junctions.GDS\".  Not used to replace junction. Checked directory:\"d:\\Users\\e196203\\Desktop\\Git Hub\\Dodecahedral-lattice\\resources\".\n"
     ]
    },
    {
     "data": {
      "text/plain": [
       "1"
      ]
     },
     "execution_count": 91,
     "metadata": {},
     "output_type": "execute_result"
    }
   ],
   "source": [
    "from qiskit_metal import renderers\n",
    "\n",
    "testedesign.renderers.gds.export_to_gds('cap3ways.gds')"
   ]
  },
  {
   "cell_type": "code",
   "execution_count": 70,
   "metadata": {},
   "outputs": [],
   "source": [
    "ansys = testedesign.renderers.q3d"
   ]
  },
  {
   "cell_type": "code",
   "execution_count": 71,
   "metadata": {},
   "outputs": [
    {
     "name": "stderr",
     "output_type": "stream",
     "text": [
      "INFO 04:34PM [connect_project]: Connecting to Ansys Desktop API...\n",
      "INFO 04:34PM [load_ansys_project]: \tOpened Ansys App\n",
      "INFO 04:34PM [load_ansys_project]: \tOpened Ansys Desktop v2023.1.0\n",
      "INFO 04:34PM [load_ansys_project]: \tOpened Ansys Project\n",
      "\tFolder:    D:/Users/e196203/Documents/Ansoft/\n",
      "\tProject:   Project9\n",
      "INFO 04:34PM [connect_design]: \tOpened active design\n",
      "\tDesign:    3ways_capacitor [Solution type: Q3D]\n",
      "INFO 04:34PM [get_setup]: \tOpened setup `Setup`  (<class 'pyEPR.ansys.AnsysQ3DSetup'>)\n",
      "INFO 04:34PM [connect]: \tConnected to project \"Project9\" and design \"3ways_capacitor\" 😀 \n",
      "\n"
     ]
    }
   ],
   "source": [
    "ansys.connect_ansys()"
   ]
  },
  {
   "cell_type": "code",
   "execution_count": 92,
   "metadata": {},
   "outputs": [],
   "source": [
    "ansys.clean_active_design()\n",
    "ansys.render_design()"
   ]
  },
  {
   "cell_type": "code",
   "execution_count": 93,
   "metadata": {},
   "outputs": [],
   "source": [
    "ansys.disconnect_ansys()"
   ]
  },
  {
   "cell_type": "code",
   "execution_count": 94,
   "metadata": {},
   "outputs": [
    {
     "data": {
      "text/plain": [
       "True"
      ]
     },
     "execution_count": 94,
     "metadata": {},
     "output_type": "execute_result"
    }
   ],
   "source": [
    "gui.main_window.close()"
   ]
  }
 ],
 "metadata": {
  "kernelspec": {
   "display_name": "qiskit-metal",
   "language": "python",
   "name": "python3"
  },
  "language_info": {
   "codemirror_mode": {
    "name": "ipython",
    "version": 3
   },
   "file_extension": ".py",
   "mimetype": "text/x-python",
   "name": "python",
   "nbconvert_exporter": "python",
   "pygments_lexer": "ipython3",
   "version": "3.11.10"
  }
 },
 "nbformat": 4,
 "nbformat_minor": 2
}
