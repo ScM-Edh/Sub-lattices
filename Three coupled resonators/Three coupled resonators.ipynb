{
 "cells": [
  {
   "cell_type": "code",
   "execution_count": 1,
   "metadata": {},
   "outputs": [],
   "source": [
    "%load_ext autoreload\n",
    "%autoreload 2"
   ]
  },
  {
   "cell_type": "code",
   "execution_count": 2,
   "metadata": {},
   "outputs": [],
   "source": [
    "import qiskit_metal as metal\n",
    "from qiskit_metal import Dict, designs, MetalGUI"
   ]
  },
  {
   "cell_type": "code",
   "execution_count": 3,
   "metadata": {},
   "outputs": [],
   "source": [
    "design = designs.DesignPlanar(overwrite_enabled=True)"
   ]
  },
  {
   "cell_type": "code",
   "execution_count": 4,
   "metadata": {},
   "outputs": [],
   "source": [
    "gui = MetalGUI(design)"
   ]
  },
  {
   "cell_type": "code",
   "execution_count": 5,
   "metadata": {},
   "outputs": [],
   "source": [
    "design.variables['cpw_width']='20um'\n",
    "design.variables['cpw_gap']='12um'"
   ]
  },
  {
   "cell_type": "markdown",
   "metadata": {},
   "source": [
    "# Tricapacitor"
   ]
  },
  {
   "cell_type": "code",
   "execution_count": 6,
   "metadata": {},
   "outputs": [],
   "source": [
    "from ThreeWaysCapacitor import TriCapacitor"
   ]
  },
  {
   "cell_type": "code",
   "execution_count": 7,
   "metadata": {},
   "outputs": [],
   "source": [
    "cap_opt = Dict(\n",
    "    cap_gap='10um',\n",
    "    cap_length='80um',\n",
    "    cpw_length='13um',\n",
    ")\n",
    "central_cap = TriCapacitor(design, 'CENTRAL', options=cap_opt)\n",
    "\n",
    "gui.rebuild()\n",
    "gui.autoscale()"
   ]
  },
  {
   "cell_type": "code",
   "execution_count": 8,
   "metadata": {},
   "outputs": [
    {
     "data": {
      "text/plain": [
       "\u001b[95m\u001b[1mname:    \u001b[94m\u001b[1mCENTRAL\u001b[0m\n",
       "\u001b[95m\u001b[1mclass:   \u001b[94m\u001b[1mTriCapacitor          \u001b[0m\n",
       "\u001b[95m\u001b[1moptions: \u001b[0m\n",
       "  'pos_x'             : '0um',                        \n",
       "  'pos_y'             : '0um',                        \n",
       "  'orientation'       : '0',                          \n",
       "  'chip'              : 'main',                       \n",
       "  'layer'             : '1',                          \n",
       "  'cap_length'        : '80um',                       \n",
       "  'cap_gap'           : '10um',                       \n",
       "  'cpw_width'         : '20um',                       \n",
       "  'cpw_length'        : '13um',                       \n",
       "  'cpw_gap'           : '12um',                       \n",
       "  'gap_to_gnd'        : '12um',                       \n",
       "  'hfss_wire_bonds'   : False,                        \n",
       "  'q3d_wire_bonds'    : False,                        \n",
       "\u001b[95m\u001b[1mmodule:  \u001b[94m\u001b[1mThreeWaysCapacitor\u001b[0m\n",
       "\u001b[95m\u001b[1mid:      \u001b[94m\u001b[1m1\u001b[0m"
      ]
     },
     "execution_count": 8,
     "metadata": {},
     "output_type": "execute_result"
    }
   ],
   "source": [
    "central_cap"
   ]
  },
  {
   "cell_type": "markdown",
   "metadata": {},
   "source": [
    "# Adding capacitors"
   ]
  },
  {
   "cell_type": "code",
   "execution_count": 9,
   "metadata": {},
   "outputs": [
    {
     "data": {
      "text/plain": [
       "{'pos_x': '0.0um',\n",
       " 'pos_y': '0.0um',\n",
       " 'orientation': '0.0',\n",
       " 'chip': 'main',\n",
       " 'layer': '1',\n",
       " 'north_width': '10um',\n",
       " 'north_gap': '6um',\n",
       " 'south_width': '10um',\n",
       " 'south_gap': '6um',\n",
       " 'cap_width': '10um',\n",
       " 'cap_gap': '6um',\n",
       " 'cap_gap_ground': '6um',\n",
       " 'finger_length': '20um',\n",
       " 'finger_count': '5',\n",
       " 'cap_distance': '50um',\n",
       " 'hfss_wire_bonds': False,\n",
       " 'q3d_wire_bonds': False}"
      ]
     },
     "execution_count": 9,
     "metadata": {},
     "output_type": "execute_result"
    }
   ],
   "source": [
    "from qiskit_metal.qlibrary.lumped.cap_n_interdigital import CapNInterdigital\n",
    "\n",
    "CapNInterdigital.get_template_options(design)"
   ]
  },
  {
   "cell_type": "code",
   "execution_count": 10,
   "metadata": {},
   "outputs": [],
   "source": [
    "cap_opt = Dict(\n",
    "    north_width='20um',\n",
    "    north_gap='12um',\n",
    "    south_width='20um',\n",
    "    south_gap='12um',\n",
    "    cap_width='5um',\n",
    "    cap_gap_ground='12um',\n",
    "    finger_count='3',\n",
    "    cap_distance='1um',\n",
    "    finger_length='55um'\n",
    ")"
   ]
  },
  {
   "cell_type": "code",
   "execution_count": 11,
   "metadata": {},
   "outputs": [],
   "source": [
    "cap_opt.pos_x='0mm'\n",
    "cap_opt.pos_y='-3700um'\n",
    "cap_opt.orientation='0'\n",
    "cap1 = CapNInterdigital(design, 'CAP1', options=cap_opt)\n",
    "\n",
    "gui.rebuild()\n",
    "gui.autoscale()"
   ]
  },
  {
   "cell_type": "code",
   "execution_count": 12,
   "metadata": {},
   "outputs": [],
   "source": [
    "cap_opt.pos_x='3510um'\n",
    "cap_opt.pos_y='2000um'\n",
    "cap_opt.orientation='120'\n",
    "cap2 = CapNInterdigital(design, 'CAP2', options=cap_opt)\n",
    "\n",
    "gui.rebuild()\n",
    "gui.autoscale()"
   ]
  },
  {
   "cell_type": "code",
   "execution_count": 13,
   "metadata": {},
   "outputs": [],
   "source": [
    "cap_opt.pos_x='-3510um'\n",
    "cap_opt.pos_y='2000um'\n",
    "cap_opt.orientation='-120'\n",
    "cap3 = CapNInterdigital(design, 'CAP3', options=cap_opt)\n",
    "\n",
    "gui.rebuild()\n",
    "gui.autoscale()"
   ]
  },
  {
   "cell_type": "code",
   "execution_count": 14,
   "metadata": {},
   "outputs": [
    {
     "data": {
      "text/plain": [
       "\u001b[95m\u001b[1mname:    \u001b[94m\u001b[1mCAP1\u001b[0m\n",
       "\u001b[95m\u001b[1mclass:   \u001b[94m\u001b[1mCapNInterdigital      \u001b[0m\n",
       "\u001b[95m\u001b[1moptions: \u001b[0m\n",
       "  'pos_x'             : '0mm',                        \n",
       "  'pos_y'             : '-3700um',                    \n",
       "  'orientation'       : '0',                          \n",
       "  'chip'              : 'main',                       \n",
       "  'layer'             : '1',                          \n",
       "  'north_width'       : '20um',                       \n",
       "  'north_gap'         : '12um',                       \n",
       "  'south_width'       : '20um',                       \n",
       "  'south_gap'         : '12um',                       \n",
       "  'cap_width'         : '5um',                        \n",
       "  'cap_gap'           : '6um',                        \n",
       "  'cap_gap_ground'    : '12um',                       \n",
       "  'finger_length'     : '55um',                       \n",
       "  'finger_count'      : '3',                          \n",
       "  'cap_distance'      : '1um',                        \n",
       "  'hfss_wire_bonds'   : False,                        \n",
       "  'q3d_wire_bonds'    : False,                        \n",
       "\u001b[95m\u001b[1mmodule:  \u001b[94m\u001b[1mqiskit_metal.qlibrary.lumped.cap_n_interdigital\u001b[0m\n",
       "\u001b[95m\u001b[1mid:      \u001b[94m\u001b[1m2\u001b[0m"
      ]
     },
     "execution_count": 14,
     "metadata": {},
     "output_type": "execute_result"
    }
   ],
   "source": [
    "cap1"
   ]
  },
  {
   "cell_type": "markdown",
   "metadata": {},
   "source": [
    "# Adding resonators"
   ]
  },
  {
   "cell_type": "code",
   "execution_count": 15,
   "metadata": {},
   "outputs": [
    {
     "data": {
      "text/plain": [
       "{'chip': 'main',\n",
       " 'layer': '1',\n",
       " 'pin_inputs': {'start_pin': {'component': '', 'pin': ''},\n",
       "  'end_pin': {'component': '', 'pin': ''}},\n",
       " 'fillet': '0',\n",
       " 'lead': {'start_straight': '0mm',\n",
       "  'end_straight': '0mm',\n",
       "  'start_jogged_extension': '',\n",
       "  'end_jogged_extension': ''},\n",
       " 'total_length': '7mm',\n",
       " 'trace_width': 'cpw_width',\n",
       " 'meander': {'spacing': '200um', 'asymmetry': '0um'},\n",
       " 'snap': 'true',\n",
       " 'prevent_short_edges': 'true',\n",
       " 'hfss_wire_bonds': False,\n",
       " 'q3d_wire_bonds': False}"
      ]
     },
     "execution_count": 15,
     "metadata": {},
     "output_type": "execute_result"
    }
   ],
   "source": [
    "from qiskit_metal.qlibrary.tlines.meandered import RouteMeander\n",
    "\n",
    "RouteMeander.get_template_options(design)"
   ]
  },
  {
   "cell_type": "code",
   "execution_count": 16,
   "metadata": {},
   "outputs": [],
   "source": [
    "res_opt = Dict(\n",
    "    pin_inputs=Dict(\n",
    "        start_pin=Dict(\n",
    "            component='CENTRAL',\n",
    "            pin='pin_1'\n",
    "        ),\n",
    "        end_pin=Dict(\n",
    "            component='CAP1',\n",
    "            pin='north_end'\n",
    "        )\n",
    "    ),\n",
    "    fillet='130um',\n",
    "    lead=Dict(\n",
    "        start_straight='500um',\n",
    "        end_straight='800um'\n",
    "    ),\n",
    "    meander=Dict(spacing='280um'),\n",
    "    total_length='16.8mm',\n",
    "    snap='false',\n",
    "    prevent_short_edges='false',\n",
    "    hfss_wire_bonds=True\n",
    ")"
   ]
  },
  {
   "cell_type": "code",
   "execution_count": 17,
   "metadata": {},
   "outputs": [],
   "source": [
    "res1 = RouteMeander(design, 'RES1', options=res_opt)\n",
    "\n",
    "gui.rebuild()\n",
    "gui.autoscale()"
   ]
  },
  {
   "cell_type": "code",
   "execution_count": 18,
   "metadata": {},
   "outputs": [],
   "source": [
    "res_opt.pin_inputs.start_pin.pin='pin_2'\n",
    "res_opt.pin_inputs.end_pin.component='CAP2'\n",
    "res_opt.lead.end_straight='500um'\n",
    "res_opt.lead.start_straight='800um'\n",
    "\n",
    "res2 = RouteMeander(design, 'RES2', options=res_opt)\n",
    "\n",
    "gui.rebuild()\n",
    "gui.autoscale()"
   ]
  },
  {
   "cell_type": "code",
   "execution_count": 19,
   "metadata": {},
   "outputs": [],
   "source": [
    "res_opt.pin_inputs.start_pin.pin='pin_3'\n",
    "res_opt.pin_inputs.end_pin.component='CAP3'\n",
    "\n",
    "res3 = RouteMeander(design, 'RES3', options=res_opt)\n",
    "\n",
    "gui.rebuild()\n",
    "gui.autoscale()"
   ]
  },
  {
   "cell_type": "code",
   "execution_count": 20,
   "metadata": {},
   "outputs": [
    {
     "data": {
      "text/plain": [
       "\u001b[95m\u001b[1mname:    \u001b[94m\u001b[1mRES2\u001b[0m\n",
       "\u001b[95m\u001b[1mclass:   \u001b[94m\u001b[1mRouteMeander          \u001b[0m\n",
       "\u001b[95m\u001b[1moptions: \u001b[0m\n",
       "  'chip'              : 'main',                       \n",
       "  'layer'             : '1',                          \n",
       "  \u001b[1m'pin_inputs'        \u001b[0m: {\n",
       "       \u001b[1m'start_pin'         \u001b[0m: {\n",
       "            'component'         : 'CENTRAL',                    \n",
       "            'pin'               : 'pin_2',                      \n",
       "                             },\n",
       "       \u001b[1m'end_pin'           \u001b[0m: {\n",
       "            'component'         : 'CAP2',                       \n",
       "            'pin'               : 'north_end',                  \n",
       "                             },\n",
       "                        },\n",
       "  'fillet'            : '130um',                      \n",
       "  \u001b[1m'lead'              \u001b[0m: {\n",
       "       'start_straight'    : '800um',                      \n",
       "       'end_straight'      : '500um',                      \n",
       "       'start_jogged_extension': '',                           \n",
       "       'end_jogged_extension': '',                           \n",
       "                        },\n",
       "  'total_length'      : '16.8mm',                     \n",
       "  'trace_width'       : 'cpw_width',                  \n",
       "  \u001b[1m'meander'           \u001b[0m: {\n",
       "       'spacing'           : '280um',                      \n",
       "       'asymmetry'         : '0um',                        \n",
       "                        },\n",
       "  'snap'              : 'false',                      \n",
       "  'prevent_short_edges': 'false',                      \n",
       "  'hfss_wire_bonds'   : True,                         \n",
       "  'q3d_wire_bonds'    : False,                        \n",
       "  'trace_gap'         : 'cpw_gap',                    \n",
       "  '_actual_length'    : '16.799999999999994 mm',      \n",
       "\u001b[95m\u001b[1mmodule:  \u001b[94m\u001b[1mqiskit_metal.qlibrary.tlines.meandered\u001b[0m\n",
       "\u001b[95m\u001b[1mid:      \u001b[94m\u001b[1m6\u001b[0m"
      ]
     },
     "execution_count": 20,
     "metadata": {},
     "output_type": "execute_result"
    }
   ],
   "source": [
    "res2"
   ]
  },
  {
   "cell_type": "markdown",
   "metadata": {},
   "source": [
    "# Lines"
   ]
  },
  {
   "cell_type": "code",
   "execution_count": 21,
   "metadata": {},
   "outputs": [
    {
     "data": {
      "text/plain": [
       "{'pos_x': '0.0um',\n",
       " 'pos_y': '0.0um',\n",
       " 'orientation': '0.0',\n",
       " 'chip': 'main',\n",
       " 'layer': '1',\n",
       " 'width': '10um',\n",
       " 'gap': '6um',\n",
       " 'termination_gap': '6um'}"
      ]
     },
     "execution_count": 21,
     "metadata": {},
     "output_type": "execute_result"
    }
   ],
   "source": [
    "from qiskit_metal.qlibrary.tlines.straight_path import RouteStraight\n",
    "from qiskit_metal.qlibrary.terminations.open_to_ground import OpenToGround\n",
    "\n",
    "OpenToGround.get_template_options(design)"
   ]
  },
  {
   "cell_type": "code",
   "execution_count": 22,
   "metadata": {},
   "outputs": [],
   "source": [
    "otg_opt=Dict(\n",
    "    pos_y='-4000um',\n",
    "    width='20um',\n",
    "    gap='12um',\n",
    "    termination_gap='12um',\n",
    "    orientation='-90'\n",
    ")\n",
    "\n",
    "otg1 = OpenToGround(design, 'OTG1', options=otg_opt)\n",
    "\n",
    "otg_opt.pos_x='4.5mm'\n",
    "otg_opt.pos_y='2.3mm'\n",
    "otg_opt.orientation='0'\n",
    "otg2 = OpenToGround(design, 'OTG2', options=otg_opt)\n",
    "\n",
    "otg_opt.pos_x='-4.5mm'\n",
    "otg_opt.pos_y='2.3mm'\n",
    "otg_opt.orientation='180'\n",
    "otg3 = OpenToGround(design, 'OTG3', options=otg_opt)\n",
    "\n",
    "gui.rebuild()\n",
    "gui.autoscale()"
   ]
  },
  {
   "cell_type": "code",
   "execution_count": 23,
   "metadata": {},
   "outputs": [
    {
     "data": {
      "text/plain": [
       "{'chip': 'main',\n",
       " 'layer': '1',\n",
       " 'pin_inputs': {'start_pin': {'component': '', 'pin': ''},\n",
       "  'end_pin': {'component': '', 'pin': ''}},\n",
       " 'fillet': '0',\n",
       " 'lead': {'start_straight': '0mm',\n",
       "  'end_straight': '0mm',\n",
       "  'start_jogged_extension': '',\n",
       "  'end_jogged_extension': ''},\n",
       " 'total_length': '7mm',\n",
       " 'trace_width': 'cpw_width',\n",
       " 'hfss_wire_bonds': False,\n",
       " 'q3d_wire_bonds': False}"
      ]
     },
     "execution_count": 23,
     "metadata": {},
     "output_type": "execute_result"
    }
   ],
   "source": [
    "RouteStraight.get_template_options(design)"
   ]
  },
  {
   "cell_type": "code",
   "execution_count": 24,
   "metadata": {},
   "outputs": [],
   "source": [
    "line_opt=Dict(\n",
    "    pin_inputs=Dict(\n",
    "        start_pin=Dict(\n",
    "            component='CAP1',\n",
    "            pin='south_end'\n",
    "        ),\n",
    "        end_pin=Dict(\n",
    "            component='OTG1',\n",
    "            pin='open'\n",
    "        )\n",
    "    ),\n",
    "    fillet='200um',\n",
    "    total_length='10mm'\n",
    ")\n",
    "\n",
    "line1 = RouteStraight(design, 'LINE1', options=line_opt)\n",
    "\n",
    "line_opt.pin_inputs.start_pin.component='CAP2'\n",
    "line_opt.pin_inputs.end_pin.component='OTG2'\n",
    "line_opt.lead.start_straight='250um'\n",
    "line_opt.lead.end_straight='250um'\n",
    "line2 = RouteStraight(design, 'LINE2', options=line_opt)\n",
    "\n",
    "line_opt.pin_inputs.start_pin.component='CAP3'\n",
    "line_opt.pin_inputs.end_pin.component='OTG3'\n",
    "line_opt.lead.start_straight='250um'\n",
    "line_opt.lead.end_straight='250um'\n",
    "line3 = RouteStraight(design, 'LINE3', options=line_opt)\n",
    "\n",
    "\n",
    "\n",
    "gui.rebuild()\n",
    "gui.zoom_on_components(['LINE2'])\n",
    "#gui.autoscale()"
   ]
  },
  {
   "cell_type": "markdown",
   "metadata": {},
   "source": [
    "# Eigenmode Simulation"
   ]
  },
  {
   "cell_type": "code",
   "execution_count": 259,
   "metadata": {},
   "outputs": [],
   "source": [
    "from qiskit_metal.analyses.em.cpw_calculations import guided_wavelength\n",
    "\n",
    "[lambdaG, etfSqrt, q] = guided_wavelength(3.6e9,20e-6,12e-6,750e-6,200e-9,11.45)"
   ]
  },
  {
   "cell_type": "code",
   "execution_count": 260,
   "metadata": {},
   "outputs": [
    {
     "name": "stdout",
     "output_type": "stream",
     "text": [
      "16.79900327133896\n"
     ]
    }
   ],
   "source": [
    "print(lambdaG/2*1000)"
   ]
  },
  {
   "cell_type": "code",
   "execution_count": 86,
   "metadata": {},
   "outputs": [],
   "source": [
    "from qiskit_metal import renderers"
   ]
  },
  {
   "cell_type": "code",
   "execution_count": 87,
   "metadata": {},
   "outputs": [],
   "source": [
    "ansys = design.renderers.hfss"
   ]
  },
  {
   "cell_type": "code",
   "execution_count": 88,
   "metadata": {},
   "outputs": [
    {
     "name": "stderr",
     "output_type": "stream",
     "text": [
      "INFO 01:40PM [connect_project]: Connecting to Ansys Desktop API...\n",
      "INFO 01:40PM [load_ansys_project]: \tOpened Ansys App\n",
      "INFO 01:40PM [load_ansys_project]: \tOpened Ansys Desktop v2023.1.0\n",
      "INFO 01:40PM [load_ansys_project]: \tOpened Ansys Project\n",
      "\tFolder:    D:/Users/e196203/Desktop/Simulações/qiskit metal/Three coupled resonators/\n",
      "\tProject:   Simulating three coupled\n",
      "INFO 01:40PM [connect_design]: \tOpened active design\n",
      "\tDesign:    Resonator [Solution type: Eigenmode]\n",
      "INFO 01:40PM [get_setup]: \tOpened setup `Setup`  (<class 'pyEPR.ansys.HfssEMSetup'>)\n",
      "INFO 01:40PM [connect]: \tConnected to project \"Simulating three coupled\" and design \"Resonator\" 😀 \n",
      "\n"
     ]
    }
   ],
   "source": [
    "ansys.connect_ansys()"
   ]
  },
  {
   "cell_type": "code",
   "execution_count": 89,
   "metadata": {},
   "outputs": [
    {
     "name": "stderr",
     "output_type": "stream",
     "text": [
      "INFO 01:40PM [connect_design]: \tOpened active design\n",
      "\tDesign:    Resonator [Solution type: Eigenmode]\n"
     ]
    }
   ],
   "source": [
    "ansys.activate_ansys_design('Resonator')"
   ]
  },
  {
   "cell_type": "code",
   "execution_count": 90,
   "metadata": {},
   "outputs": [],
   "source": [
    "ansys.clean_active_design()\n",
    "ansys.render_design(\n",
    "    selection=['CENTRAL', 'CAP1', 'RES1'],\n",
    "    open_pins=[],\n",
    "    port_list=[]\n",
    ")"
   ]
  },
  {
   "cell_type": "code",
   "execution_count": 91,
   "metadata": {},
   "outputs": [
    {
     "name": "stderr",
     "output_type": "stream",
     "text": [
      "INFO 01:43PM [get_setup]: \tOpened setup `Resonance`  (<class 'pyEPR.ansys.HfssEMSetup'>)\n"
     ]
    }
   ],
   "source": [
    "ansys.activate_ansys_setup('Resonance')"
   ]
  },
  {
   "cell_type": "code",
   "execution_count": 92,
   "metadata": {},
   "outputs": [
    {
     "name": "stderr",
     "output_type": "stream",
     "text": [
      "INFO 01:43PM [get_setup]: \tOpened setup `Resonance`  (<class 'pyEPR.ansys.HfssEMSetup'>)\n",
      "INFO 01:43PM [analyze]: Analyzing setup Resonance\n"
     ]
    }
   ],
   "source": [
    "ansys.analyze_setup('Resonance')"
   ]
  },
  {
   "cell_type": "code",
   "execution_count": 93,
   "metadata": {},
   "outputs": [
    {
     "data": {
      "text/plain": [
       "([3.48736801607, 7.00051884163], None)"
      ]
     },
     "execution_count": 93,
     "metadata": {},
     "output_type": "execute_result"
    }
   ],
   "source": [
    "ansys.pinfo.setup.get_solutions().eigenmodes()"
   ]
  },
  {
   "cell_type": "code",
   "execution_count": 296,
   "metadata": {},
   "outputs": [
    {
     "name": "stderr",
     "output_type": "stream",
     "text": [
      "02:12AM 36s WARNING [plot_ansys_fields]: This method is deprecated. Change your scripts to use plot_fields()\n"
     ]
    }
   ],
   "source": [
    "ansys.plot_ansys_fields('main')"
   ]
  },
  {
   "cell_type": "markdown",
   "metadata": {},
   "source": [
    "#################"
   ]
  },
  {
   "cell_type": "code",
   "execution_count": 97,
   "metadata": {},
   "outputs": [
    {
     "name": "stderr",
     "output_type": "stream",
     "text": [
      "02:04PM 56s WARNING [add_eigenmode_design]: This method is deprecated. Change your scripts to use new_ansys_design()\n",
      "INFO 02:04PM [connect_design]: \tOpened active design\n",
      "\tDesign:    Resonator 2 [Solution type: Eigenmode]\n",
      "WARNING 02:04PM [connect_setup]: \tNo design setup detected.\n",
      "WARNING 02:04PM [connect_setup]: \tCreating eigenmode default setup.\n",
      "INFO 02:04PM [get_setup]: \tOpened setup `Setup`  (<class 'pyEPR.ansys.HfssEMSetup'>)\n"
     ]
    }
   ],
   "source": [
    "ansys.add_eigenmode_design('Resonator 2')"
   ]
  },
  {
   "cell_type": "code",
   "execution_count": 98,
   "metadata": {},
   "outputs": [],
   "source": [
    "ansys.clean_active_design()\n",
    "ansys.render_design(\n",
    "    selection=['CENTRAL', 'CAP2', 'RES2'],\n",
    "    open_pins=[],\n",
    "    port_list=[]\n",
    ")"
   ]
  },
  {
   "cell_type": "code",
   "execution_count": 99,
   "metadata": {},
   "outputs": [
    {
     "data": {
      "text/plain": [
       "<pyEPR.ansys.HfssEMSetup at 0x275861bb290>"
      ]
     },
     "execution_count": 99,
     "metadata": {},
     "output_type": "execute_result"
    }
   ],
   "source": [
    "ansys.add_eigenmode_setup(\n",
    "    name='resonances',\n",
    "    n_modes=2,\n",
    "    max_passes=15,\n",
    "    min_converged=2\n",
    ")"
   ]
  },
  {
   "cell_type": "code",
   "execution_count": 100,
   "metadata": {},
   "outputs": [
    {
     "name": "stderr",
     "output_type": "stream",
     "text": [
      "INFO 02:08PM [get_setup]: \tOpened setup `resonances`  (<class 'pyEPR.ansys.HfssEMSetup'>)\n",
      "INFO 02:08PM [analyze]: Analyzing setup resonances\n"
     ]
    }
   ],
   "source": [
    "ansys.analyze_setup('resonances')"
   ]
  },
  {
   "cell_type": "code",
   "execution_count": 101,
   "metadata": {},
   "outputs": [
    {
     "data": {
      "text/plain": [
       "([3.47184470793, 6.96642478649], None)"
      ]
     },
     "execution_count": 101,
     "metadata": {},
     "output_type": "execute_result"
    }
   ],
   "source": [
    "ansys.pinfo.setup.get_solutions().eigenmodes()"
   ]
  },
  {
   "cell_type": "markdown",
   "metadata": {},
   "source": [
    "# Drivenmodal"
   ]
  },
  {
   "cell_type": "code",
   "execution_count": 105,
   "metadata": {},
   "outputs": [
    {
     "name": "stderr",
     "output_type": "stream",
     "text": [
      "11:24AM 44s WARNING [add_drivenmodal_design]: This method is deprecated. Change your scripts to use new_ansys_design()\n",
      "INFO 11:24AM [connect_design]: \tOpened active design\n",
      "\tDesign:    S parameter 3 [Solution type: HFSS Hybrid Modal Network]\n",
      "WARNING 11:24AM [connect_setup]: \tNo design setup detected.\n",
      "ERROR 11:24AM [connect_setup]: Original error 😭: 'NoneType' object has no attribute 'name'\n",
      "\n"
     ]
    },
    {
     "ename": "Exception",
     "evalue": " Did you provide the correct setup name?                            Failed to pull up setup. 😭",
     "output_type": "error",
     "traceback": [
      "\u001b[1;31m---------------------------------------------------------------------------\u001b[0m",
      "\u001b[1;31mAttributeError\u001b[0m                            Traceback (most recent call last)",
      "File \u001b[1;32md:\\Users\\e196203\\.conda\\envs\\qiskit-metal\\Lib\\site-packages\\pyEPR\\project_info.py:335\u001b[0m, in \u001b[0;36mProjectInfo.connect_setup\u001b[1;34m(self)\u001b[0m\n\u001b[0;32m    334\u001b[0m         setup \u001b[38;5;241m=\u001b[39m \u001b[38;5;28mself\u001b[39m\u001b[38;5;241m.\u001b[39mdesign\u001b[38;5;241m.\u001b[39mcreate_q3d_setup()\n\u001b[1;32m--> 335\u001b[0m     \u001b[38;5;28mself\u001b[39m\u001b[38;5;241m.\u001b[39msetup_name \u001b[38;5;241m=\u001b[39m \u001b[43msetup\u001b[49m\u001b[38;5;241;43m.\u001b[39;49m\u001b[43mname\u001b[49m\n\u001b[0;32m    336\u001b[0m \u001b[38;5;28;01melse\u001b[39;00m:\n",
      "\u001b[1;31mAttributeError\u001b[0m: 'NoneType' object has no attribute 'name'",
      "\nDuring handling of the above exception, another exception occurred:\n",
      "\u001b[1;31mException\u001b[0m                                 Traceback (most recent call last)",
      "Cell \u001b[1;32mIn[105], line 1\u001b[0m\n\u001b[1;32m----> 1\u001b[0m \u001b[43mansys\u001b[49m\u001b[38;5;241;43m.\u001b[39;49m\u001b[43madd_drivenmodal_design\u001b[49m\u001b[43m(\u001b[49m\u001b[38;5;124;43m'\u001b[39;49m\u001b[38;5;124;43mS parameter 3\u001b[39;49m\u001b[38;5;124;43m'\u001b[39;49m\u001b[43m)\u001b[49m\n",
      "File \u001b[1;32md:\\Users\\e196203\\.conda\\envs\\qiskit-metal\\Lib\\site-packages\\qiskit_metal\\renderers\\renderer_ansys\\hfss_renderer.py:416\u001b[0m, in \u001b[0;36mQHFSSRenderer.add_drivenmodal_design\u001b[1;34m(self, name, connect)\u001b[0m\n\u001b[0;32m    410\u001b[0m \u001b[38;5;250m\u001b[39m\u001b[38;5;124;03m\"\"\"\u001b[39;00m\n\u001b[0;32m    411\u001b[0m \u001b[38;5;124;03m(deprecated) use new_ansys_design()\u001b[39;00m\n\u001b[0;32m    412\u001b[0m \u001b[38;5;124;03m\"\"\"\u001b[39;00m\n\u001b[0;32m    413\u001b[0m \u001b[38;5;28mself\u001b[39m\u001b[38;5;241m.\u001b[39mlogger\u001b[38;5;241m.\u001b[39mwarning(\n\u001b[0;32m    414\u001b[0m     \u001b[38;5;124m'\u001b[39m\u001b[38;5;124mThis method is deprecated. Change your scripts to use new_ansys_design()\u001b[39m\u001b[38;5;124m'\u001b[39m\n\u001b[0;32m    415\u001b[0m )\n\u001b[1;32m--> 416\u001b[0m \u001b[38;5;28;43mself\u001b[39;49m\u001b[38;5;241;43m.\u001b[39;49m\u001b[43mnew_ansys_design\u001b[49m\u001b[43m(\u001b[49m\u001b[43mname\u001b[49m\u001b[43m,\u001b[49m\u001b[43m \u001b[49m\u001b[38;5;124;43m'\u001b[39;49m\u001b[38;5;124;43mdrivenmodal\u001b[39;49m\u001b[38;5;124;43m'\u001b[39;49m\u001b[43m,\u001b[49m\u001b[43m \u001b[49m\u001b[43mconnect\u001b[49m\u001b[43m)\u001b[49m\n",
      "File \u001b[1;32md:\\Users\\e196203\\.conda\\envs\\qiskit-metal\\Lib\\site-packages\\qiskit_metal\\renderers\\renderer_ansys\\ansys_renderer.py:794\u001b[0m, in \u001b[0;36mQAnsysRenderer.new_ansys_design\u001b[1;34m(self, design_name, solution_type, connect)\u001b[0m\n\u001b[0;32m    792\u001b[0m         \u001b[38;5;28;01mraise\u001b[39;00m\n\u001b[0;32m    793\u001b[0m     \u001b[38;5;28;01mif\u001b[39;00m connect:\n\u001b[1;32m--> 794\u001b[0m         \u001b[38;5;28;43mself\u001b[39;49m\u001b[38;5;241;43m.\u001b[39;49m\u001b[43mconnect_ansys_design\u001b[49m\u001b[43m(\u001b[49m\u001b[43madesign\u001b[49m\u001b[38;5;241;43m.\u001b[39;49m\u001b[43mname\u001b[49m\u001b[43m)\u001b[49m\n\u001b[0;32m    795\u001b[0m     \u001b[38;5;28;01mreturn\u001b[39;00m adesign\n\u001b[0;32m    796\u001b[0m \u001b[38;5;28;01melse\u001b[39;00m:\n",
      "File \u001b[1;32md:\\Users\\e196203\\.conda\\envs\\qiskit-metal\\Lib\\site-packages\\qiskit_metal\\renderers\\renderer_ansys\\ansys_renderer.py:462\u001b[0m, in \u001b[0;36mQAnsysRenderer.connect_ansys_design\u001b[1;34m(self, design_name)\u001b[0m\n\u001b[0;32m    460\u001b[0m \u001b[38;5;28;01mtry\u001b[39;00m:\n\u001b[0;32m    461\u001b[0m     \u001b[38;5;28mself\u001b[39m\u001b[38;5;241m.\u001b[39mpinfo\u001b[38;5;241m.\u001b[39mconnect_design(design_name)\n\u001b[1;32m--> 462\u001b[0m     \u001b[38;5;28;43mself\u001b[39;49m\u001b[38;5;241;43m.\u001b[39;49m\u001b[43mpinfo\u001b[49m\u001b[38;5;241;43m.\u001b[39;49m\u001b[43mconnect_setup\u001b[49m\u001b[43m(\u001b[49m\u001b[43m)\u001b[49m\n\u001b[0;32m    463\u001b[0m \u001b[38;5;28;01mexcept\u001b[39;00m \u001b[38;5;167;01mAttributeError\u001b[39;00m:\n\u001b[0;32m    464\u001b[0m     \u001b[38;5;28mself\u001b[39m\u001b[38;5;241m.\u001b[39mlogger\u001b[38;5;241m.\u001b[39merror(\n\u001b[0;32m    465\u001b[0m         \u001b[38;5;124m\"\u001b[39m\u001b[38;5;124mPlease install a more recent version of pyEPR (>=0.8.4.3)\u001b[39m\u001b[38;5;124m\"\u001b[39m\n\u001b[0;32m    466\u001b[0m     )\n",
      "File \u001b[1;32md:\\Users\\e196203\\.conda\\envs\\qiskit-metal\\Lib\\site-packages\\pyEPR\\project_info.py:346\u001b[0m, in \u001b[0;36mProjectInfo.connect_setup\u001b[1;34m(self)\u001b[0m\n\u001b[0;32m    344\u001b[0m         _traceback \u001b[38;5;241m=\u001b[39m sys\u001b[38;5;241m.\u001b[39mexc_info()[\u001b[38;5;241m2\u001b[39m]\n\u001b[0;32m    345\u001b[0m         logger\u001b[38;5;241m.\u001b[39merror(\u001b[38;5;124mf\u001b[39m\u001b[38;5;124m\"\u001b[39m\u001b[38;5;124mOriginal error \u001b[39m\u001b[38;5;130;01m\\N{loudly crying face}\u001b[39;00m\u001b[38;5;124m: \u001b[39m\u001b[38;5;132;01m{\u001b[39;00me\u001b[38;5;132;01m}\u001b[39;00m\u001b[38;5;130;01m\\n\u001b[39;00m\u001b[38;5;124m\"\u001b[39m)\n\u001b[1;32m--> 346\u001b[0m         \u001b[38;5;28;01mraise\u001b[39;00m \u001b[38;5;167;01mException\u001b[39;00m(\u001b[38;5;124m'\u001b[39m\u001b[38;5;124m Did you provide the correct setup name?\u001b[39m\u001b[38;5;130;01m\\\u001b[39;00m\n\u001b[0;32m    347\u001b[0m \u001b[38;5;124m                    Failed to pull up setup. \u001b[39m\u001b[38;5;130;01m\\N{loudly crying face}\u001b[39;00m\u001b[38;5;124m'\u001b[39m\n\u001b[0;32m    348\u001b[0m                         )\u001b[38;5;241m.\u001b[39mwith_traceback(_traceback)\n\u001b[0;32m    350\u001b[0m \u001b[38;5;28;01melse\u001b[39;00m:\n\u001b[0;32m    351\u001b[0m     \u001b[38;5;28mself\u001b[39m\u001b[38;5;241m.\u001b[39msetup \u001b[38;5;241m=\u001b[39m \u001b[38;5;28;01mNone\u001b[39;00m\n",
      "File \u001b[1;32md:\\Users\\e196203\\.conda\\envs\\qiskit-metal\\Lib\\site-packages\\pyEPR\\project_info.py:335\u001b[0m, in \u001b[0;36mProjectInfo.connect_setup\u001b[1;34m(self)\u001b[0m\n\u001b[0;32m    333\u001b[0m         logger\u001b[38;5;241m.\u001b[39mwarning(\u001b[38;5;124m'\u001b[39m\u001b[38;5;130;01m\\t\u001b[39;00m\u001b[38;5;124mCreating Q3D default setup.\u001b[39m\u001b[38;5;124m'\u001b[39m)\n\u001b[0;32m    334\u001b[0m         setup \u001b[38;5;241m=\u001b[39m \u001b[38;5;28mself\u001b[39m\u001b[38;5;241m.\u001b[39mdesign\u001b[38;5;241m.\u001b[39mcreate_q3d_setup()\n\u001b[1;32m--> 335\u001b[0m     \u001b[38;5;28mself\u001b[39m\u001b[38;5;241m.\u001b[39msetup_name \u001b[38;5;241m=\u001b[39m \u001b[43msetup\u001b[49m\u001b[38;5;241;43m.\u001b[39;49m\u001b[43mname\u001b[49m\n\u001b[0;32m    336\u001b[0m \u001b[38;5;28;01melse\u001b[39;00m:\n\u001b[0;32m    337\u001b[0m     \u001b[38;5;28mself\u001b[39m\u001b[38;5;241m.\u001b[39msetup_name \u001b[38;5;241m=\u001b[39m setup_names[\u001b[38;5;241m0\u001b[39m]\n",
      "\u001b[1;31mException\u001b[0m:  Did you provide the correct setup name?                            Failed to pull up setup. 😭"
     ]
    }
   ],
   "source": [
    "ansys.add_drivenmodal_design('S parameter 3')"
   ]
  },
  {
   "cell_type": "code",
   "execution_count": 106,
   "metadata": {},
   "outputs": [
    {
     "data": {
      "text/plain": [
       "<pyEPR.ansys.HfssDMSetup at 0x275861e32d0>"
      ]
     },
     "execution_count": 106,
     "metadata": {},
     "output_type": "execute_result"
    }
   ],
   "source": [
    "ansys.add_drivenmodal_setup(\n",
    "    name='Setup',\n",
    "    freq_ghz=7,\n",
    "    min_passes=23,\n",
    "    max_passes=25,\n",
    "    min_converged=2,\n",
    "    max_delta_s=0.002,\n",
    "    basis_order=-1\n",
    ")"
   ]
  },
  {
   "cell_type": "code",
   "execution_count": 107,
   "metadata": {},
   "outputs": [],
   "source": [
    "ansys.clean_active_design()\n",
    "ansys.render_design(\n",
    "    selection=['CENTRAL', 'CAP3', 'RES3','LINE3'],\n",
    "    open_pins=[],\n",
    "    port_list=[('CENTRAL','pin_1',50),('LINE3','end',50)]\n",
    ")"
   ]
  },
  {
   "cell_type": "markdown",
   "metadata": {},
   "source": [
    "# Simulating the lattice"
   ]
  },
  {
   "cell_type": "code",
   "execution_count": 109,
   "metadata": {},
   "outputs": [
    {
     "name": "stderr",
     "output_type": "stream",
     "text": [
      "INFO 04:08PM [connect_design]: \tOpened active design\n",
      "\tDesign:    Three coupled resonators [Solution type: HFSS Hybrid Modal Network]\n"
     ]
    }
   ],
   "source": [
    "ansys.activate_ansys_design('Three coupled resonators')"
   ]
  },
  {
   "cell_type": "code",
   "execution_count": null,
   "metadata": {},
   "outputs": [
    {
     "data": {
      "text/plain": [
       "<pyEPR.ansys.HfssDMSetup at 0x1e8a5dcc8d0>"
      ]
     },
     "execution_count": 306,
     "metadata": {},
     "output_type": "execute_result"
    }
   ],
   "source": [
    "ansys.add_drivenmodal_setup(\n",
    "    name='Setup',\n",
    "    freq_ghz=7,\n",
    "    min_passes=23,\n",
    "    max_passes=25,\n",
    "    min_converged=2,\n",
    "    max_delta_s=0.002,\n",
    "    basis_order=-1\n",
    ")"
   ]
  },
  {
   "cell_type": "code",
   "execution_count": 110,
   "metadata": {},
   "outputs": [],
   "source": [
    "ansys.clean_active_design()\n",
    "ansys.render_design(\n",
    "    selection=[],\n",
    "    open_pins=[],\n",
    "    port_list=[('LINE1','end',50),('LINE2','end',50),('LINE3','end',50)]\n",
    ")"
   ]
  },
  {
   "cell_type": "code",
   "execution_count": 311,
   "metadata": {},
   "outputs": [
    {
     "data": {
      "text/plain": [
       "True"
      ]
     },
     "execution_count": 311,
     "metadata": {},
     "output_type": "execute_result"
    }
   ],
   "source": [
    "gui.main_window.close()"
   ]
  }
 ],
 "metadata": {
  "kernelspec": {
   "display_name": "qiskit-metal",
   "language": "python",
   "name": "python3"
  },
  "language_info": {
   "codemirror_mode": {
    "name": "ipython",
    "version": 3
   },
   "file_extension": ".py",
   "mimetype": "text/x-python",
   "name": "python",
   "nbconvert_exporter": "python",
   "pygments_lexer": "ipython3",
   "version": "3.11.10"
  }
 },
 "nbformat": 4,
 "nbformat_minor": 2
}
