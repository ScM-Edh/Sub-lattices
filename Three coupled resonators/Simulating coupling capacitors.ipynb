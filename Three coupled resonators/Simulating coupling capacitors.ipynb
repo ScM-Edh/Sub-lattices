{
 "cells": [
  {
   "cell_type": "code",
   "execution_count": 1,
   "metadata": {},
   "outputs": [],
   "source": [
    "%load_ext autoreload\n",
    "%autoreload 2"
   ]
  },
  {
   "cell_type": "code",
   "execution_count": 2,
   "metadata": {},
   "outputs": [],
   "source": [
    "from qiskit_metal import Dict, designs, MetalGUI\n",
    "from ThreeWaysCapacitor import TriCapacitor"
   ]
  },
  {
   "cell_type": "markdown",
   "metadata": {},
   "source": [
    "# Design"
   ]
  },
  {
   "cell_type": "code",
   "execution_count": 3,
   "metadata": {},
   "outputs": [],
   "source": [
    "capdesign = designs.DesignPlanar(overwrite_enabled=True)"
   ]
  },
  {
   "cell_type": "code",
   "execution_count": 4,
   "metadata": {},
   "outputs": [],
   "source": [
    "gui = MetalGUI(capdesign)"
   ]
  },
  {
   "cell_type": "code",
   "execution_count": 5,
   "metadata": {},
   "outputs": [],
   "source": [
    "capdesign.variables['cpw_width']='20um'\n",
    "capdesign.variables['cpw_gap']='12um'"
   ]
  },
  {
   "cell_type": "code",
   "execution_count": 6,
   "metadata": {},
   "outputs": [
    {
     "data": {
      "text/plain": [
       "{'pos_x': '0.0um',\n",
       " 'pos_y': '0.0um',\n",
       " 'orientation': '0.0',\n",
       " 'chip': 'main',\n",
       " 'layer': '1',\n",
       " 'north_width': '10um',\n",
       " 'north_gap': '6um',\n",
       " 'south_width': '10um',\n",
       " 'south_gap': '6um',\n",
       " 'cap_width': '10um',\n",
       " 'cap_gap': '6um',\n",
       " 'cap_gap_ground': '6um',\n",
       " 'finger_length': '20um',\n",
       " 'finger_count': '5',\n",
       " 'cap_distance': '50um',\n",
       " 'hfss_wire_bonds': False,\n",
       " 'q3d_wire_bonds': False}"
      ]
     },
     "execution_count": 6,
     "metadata": {},
     "output_type": "execute_result"
    }
   ],
   "source": [
    "from qiskit_metal.qlibrary.lumped.cap_n_interdigital import CapNInterdigital\n",
    "\n",
    "CapNInterdigital.get_template_options(capdesign)"
   ]
  },
  {
   "cell_type": "code",
   "execution_count": 24,
   "metadata": {},
   "outputs": [],
   "source": [
    "cap_opt = Dict(\n",
    "    north_width='20um',\n",
    "    north_gap='12um',\n",
    "    south_width='20um',\n",
    "    south_gap='12um',\n",
    "    cap_width='5um',\n",
    "    cap_gap_ground='12um',\n",
    "    finger_count='3',\n",
    "    cap_distance='1um',\n",
    "    finger_length='55um'\n",
    ")\n",
    "cap1 = CapNInterdigital(capdesign, 'CAP1', options=cap_opt)\n",
    "\n",
    "gui.rebuild()\n",
    "gui.zoom_on_components(['CAP1'])"
   ]
  },
  {
   "cell_type": "code",
   "execution_count": 25,
   "metadata": {},
   "outputs": [
    {
     "data": {
      "text/plain": [
       "\u001b[95m\u001b[1mname:    \u001b[94m\u001b[1mCAP1\u001b[0m\n",
       "\u001b[95m\u001b[1mclass:   \u001b[94m\u001b[1mCapNInterdigital      \u001b[0m\n",
       "\u001b[95m\u001b[1moptions: \u001b[0m\n",
       "  'pos_x'             : '0.0um',                      \n",
       "  'pos_y'             : '0.0um',                      \n",
       "  'orientation'       : '0.0',                        \n",
       "  'chip'              : 'main',                       \n",
       "  'layer'             : '1',                          \n",
       "  'north_width'       : '20um',                       \n",
       "  'north_gap'         : '12um',                       \n",
       "  'south_width'       : '20um',                       \n",
       "  'south_gap'         : '12um',                       \n",
       "  'cap_width'         : '5um',                        \n",
       "  'cap_gap'           : '6um',                        \n",
       "  'cap_gap_ground'    : '12um',                       \n",
       "  'finger_length'     : '55um',                       \n",
       "  'finger_count'      : '3',                          \n",
       "  'cap_distance'      : '1um',                        \n",
       "  'hfss_wire_bonds'   : False,                        \n",
       "  'q3d_wire_bonds'    : False,                        \n",
       "\u001b[95m\u001b[1mmodule:  \u001b[94m\u001b[1mqiskit_metal.qlibrary.lumped.cap_n_interdigital\u001b[0m\n",
       "\u001b[95m\u001b[1mid:      \u001b[94m\u001b[1m6\u001b[0m"
      ]
     },
     "execution_count": 25,
     "metadata": {},
     "output_type": "execute_result"
    }
   ],
   "source": [
    "cap1"
   ]
  },
  {
   "cell_type": "markdown",
   "metadata": {},
   "source": [
    "# Q3D"
   ]
  },
  {
   "cell_type": "code",
   "execution_count": 12,
   "metadata": {},
   "outputs": [],
   "source": [
    "from qiskit_metal import renderers"
   ]
  },
  {
   "cell_type": "code",
   "execution_count": 13,
   "metadata": {},
   "outputs": [],
   "source": [
    "ansys = capdesign.renderers.q3d"
   ]
  },
  {
   "cell_type": "code",
   "execution_count": 14,
   "metadata": {},
   "outputs": [
    {
     "name": "stderr",
     "output_type": "stream",
     "text": [
      "INFO 11:26PM [connect_project]: Connecting to Ansys Desktop API...\n",
      "INFO 11:26PM [load_ansys_project]: \tOpened Ansys App\n",
      "INFO 11:26PM [load_ansys_project]: \tOpened Ansys Desktop v2023.1.0\n",
      "INFO 11:26PM [load_ansys_project]: \tOpened Ansys Project\n",
      "\tFolder:    D:/Users/e196203/Documents/Ansoft/\n",
      "\tProject:   Project9\n",
      "INFO 11:26PM [connect_design]: \tOpened active design\n",
      "\tDesign:    Sweep_Capacitance [Solution type: Q3D]\n",
      "INFO 11:26PM [get_setup]: \tOpened setup `Setup`  (<class 'pyEPR.ansys.AnsysQ3DSetup'>)\n",
      "INFO 11:26PM [connect]: \tConnected to project \"Project9\" and design \"Sweep_Capacitance\" 😀 \n",
      "\n"
     ]
    }
   ],
   "source": [
    "ansys.connect_ansys()"
   ]
  },
  {
   "cell_type": "code",
   "execution_count": 15,
   "metadata": {},
   "outputs": [
    {
     "name": "stderr",
     "output_type": "stream",
     "text": [
      "11:28PM 37s WARNING [activate_q3d_design]: This method is deprecated. Change your scripts to use activate_ansys_design()\n",
      "11:28PM 37s WARNING [activate_ansys_design]: The design_name=Coupling capacitor was not in active project.  Designs in active project are: \n",
      "['Sweep_Capacitance', '3ways_capacitor'].  A new design will be added to the project.  \n",
      "INFO 11:28PM [connect_design]: \tOpened active design\n",
      "\tDesign:    Coupling capacitor [Solution type: Q3D]\n",
      "WARNING 11:28PM [connect_setup]: \tNo design setup detected.\n",
      "WARNING 11:28PM [connect_setup]: \tCreating Q3D default setup.\n",
      "INFO 11:28PM [get_setup]: \tOpened setup `Setup`  (<class 'pyEPR.ansys.AnsysQ3DSetup'>)\n"
     ]
    }
   ],
   "source": [
    "ansys.activate_q3d_design('Coupling capacitor')"
   ]
  },
  {
   "cell_type": "code",
   "execution_count": 16,
   "metadata": {},
   "outputs": [],
   "source": [
    "ansys.render_design()"
   ]
  },
  {
   "cell_type": "code",
   "execution_count": 18,
   "metadata": {},
   "outputs": [
    {
     "data": {
      "text/plain": [
       "<pyEPR.ansys.AnsysQ3DSetup at 0x1ef9f505290>"
      ]
     },
     "execution_count": 18,
     "metadata": {},
     "output_type": "execute_result"
    }
   ],
   "source": [
    "ansys.add_q3d_setup(\n",
    "    name='capacitance',\n",
    "    freq_ghz=7.2,\n",
    "    min_passes=2,\n",
    "    max_passes=15,\n",
    "    percent_error=0.2\n",
    ")"
   ]
  },
  {
   "cell_type": "code",
   "execution_count": 19,
   "metadata": {},
   "outputs": [
    {
     "name": "stderr",
     "output_type": "stream",
     "text": [
      "INFO 11:32PM [get_setup]: \tOpened setup `capacitance`  (<class 'pyEPR.ansys.AnsysQ3DSetup'>)\n",
      "INFO 11:32PM [analyze]: Analyzing setup capacitance\n"
     ]
    }
   ],
   "source": [
    "ansys.analyze_setup('capacitance')"
   ]
  },
  {
   "cell_type": "code",
   "execution_count": 20,
   "metadata": {},
   "outputs": [
    {
     "name": "stderr",
     "output_type": "stream",
     "text": [
      "INFO 11:35PM [get_matrix]: Exporting matrix data to (D:\\Users\\e196203\\AppData\\Local\\Temp\\2\\tmp45kp2cph.txt, C, , capacitance:LastAdaptive, \"Original\", \"ohm\", \"nH\", \"fF\", \"mSie\", 7200000000, Maxwell, 1, False\n"
     ]
    },
    {
     "data": {
      "text/plain": [
       "(                   cap_body_0_CAP1  cap_body_1_CAP1  ground_main_plane\n",
       " cap_body_0_CAP1           11.03632         -3.14082           -7.76969\n",
       " cap_body_1_CAP1           -3.14082          7.93900           -4.71633\n",
       " ground_main_plane         -7.76969         -4.71633           43.68229,\n",
       " 'fF')"
      ]
     },
     "execution_count": 20,
     "metadata": {},
     "output_type": "execute_result"
    }
   ],
   "source": [
    "ansys.get_capacitance_matrix()"
   ]
  },
  {
   "cell_type": "markdown",
   "metadata": {},
   "source": [
    "# Sweep"
   ]
  },
  {
   "cell_type": "code",
   "execution_count": 21,
   "metadata": {},
   "outputs": [],
   "source": [
    "from qiskit_metal.analyses.sweep_and_optimize.sweeping import Sweeping\n",
    "\n",
    "sweep = Sweeping(capdesign)"
   ]
  },
  {
   "cell_type": "code",
   "execution_count": 22,
   "metadata": {},
   "outputs": [
    {
     "name": "stderr",
     "output_type": "stream",
     "text": [
      "INFO 11:46PM [connect_project]: Connecting to Ansys Desktop API...\n",
      "INFO 11:46PM [load_ansys_project]: \tOpened Ansys App\n",
      "INFO 11:46PM [load_ansys_project]: \tOpened Ansys Desktop v2023.1.0\n",
      "INFO 11:46PM [load_ansys_project]: \tOpened Ansys Project\n",
      "\tFolder:    D:/Users/e196203/Documents/Ansoft/\n",
      "\tProject:   Project9\n",
      "INFO 11:46PM [connect_design]: \tOpened active design\n",
      "\tDesign:    Coupling capacitor [Solution type: Q3D]\n",
      "INFO 11:46PM [get_setup]: \tOpened setup `Setup`  (<class 'pyEPR.ansys.AnsysQ3DSetup'>)\n",
      "INFO 11:46PM [connect]: \tConnected to project \"Project9\" and design \"Coupling capacitor\" 😀 \n",
      "\n",
      "INFO 11:46PM [connect_design]: \tOpened active design\n",
      "\tDesign:    Sweep_Capacitance [Solution type: Q3D]\n",
      "INFO 11:46PM [get_setup]: \tOpened setup `Sweep_q3d_setup`  (<class 'pyEPR.ansys.AnsysQ3DSetup'>)\n",
      "INFO 11:46PM [get_setup]: \tOpened setup `Sweep_q3d_setup`  (<class 'pyEPR.ansys.AnsysQ3DSetup'>)\n",
      "INFO 11:46PM [analyze]: Analyzing setup Sweep_q3d_setup\n",
      "INFO 11:49PM [get_matrix]: Exporting matrix data to (D:\\Users\\e196203\\AppData\\Local\\Temp\\2\\tmptwxh9gb4.txt, C, , Sweep_q3d_setup:LastAdaptive, \"Original\", \"ohm\", \"nH\", \"fF\", \"mSie\", 7200000000, Maxwell, 1, False\n",
      "INFO 11:49PM [get_setup]: \tOpened setup `Sweep_q3d_setup`  (<class 'pyEPR.ansys.AnsysQ3DSetup'>)\n",
      "INFO 11:49PM [analyze]: Analyzing setup Sweep_q3d_setup\n",
      "INFO 11:52PM [get_matrix]: Exporting matrix data to (D:\\Users\\e196203\\AppData\\Local\\Temp\\2\\tmp45awiaz0.txt, C, , Sweep_q3d_setup:LastAdaptive, \"Original\", \"ohm\", \"nH\", \"fF\", \"mSie\", 7200000000, Maxwell, 1, False\n",
      "INFO 11:52PM [get_setup]: \tOpened setup `Sweep_q3d_setup`  (<class 'pyEPR.ansys.AnsysQ3DSetup'>)\n",
      "INFO 11:52PM [analyze]: Analyzing setup Sweep_q3d_setup\n",
      "INFO 11:54PM [get_matrix]: Exporting matrix data to (D:\\Users\\e196203\\AppData\\Local\\Temp\\2\\tmpkg2eb350.txt, C, , Sweep_q3d_setup:LastAdaptive, \"Original\", \"ohm\", \"nH\", \"fF\", \"mSie\", 7200000000, Maxwell, 1, False\n",
      "INFO 11:54PM [get_setup]: \tOpened setup `Sweep_q3d_setup`  (<class 'pyEPR.ansys.AnsysQ3DSetup'>)\n",
      "INFO 11:54PM [analyze]: Analyzing setup Sweep_q3d_setup\n",
      "INFO 11:57PM [get_matrix]: Exporting matrix data to (D:\\Users\\e196203\\AppData\\Local\\Temp\\2\\tmph822h42n.txt, C, , Sweep_q3d_setup:LastAdaptive, \"Original\", \"ohm\", \"nH\", \"fF\", \"mSie\", 7200000000, Maxwell, 1, False\n",
      "INFO 11:57PM [get_setup]: \tOpened setup `Sweep_q3d_setup`  (<class 'pyEPR.ansys.AnsysQ3DSetup'>)\n",
      "INFO 11:57PM [analyze]: Analyzing setup Sweep_q3d_setup\n",
      "INFO 12:01AM [get_matrix]: Exporting matrix data to (D:\\Users\\e196203\\AppData\\Local\\Temp\\2\\tmpl3jxcghu.txt, C, , Sweep_q3d_setup:LastAdaptive, \"Original\", \"ohm\", \"nH\", \"fF\", \"mSie\", 7200000000, Maxwell, 1, False\n",
      "INFO 12:01AM [get_setup]: \tOpened setup `Sweep_q3d_setup`  (<class 'pyEPR.ansys.AnsysQ3DSetup'>)\n",
      "INFO 12:01AM [analyze]: Analyzing setup Sweep_q3d_setup\n",
      "INFO 12:03AM [__del__]: Disconnected from Ansys HFSS\n",
      "INFO 12:03AM [get_matrix]: Exporting matrix data to (D:\\Users\\e196203\\AppData\\Local\\Temp\\2\\tmpg6yv9q6y.txt, C, , Sweep_q3d_setup:LastAdaptive, \"Original\", \"ohm\", \"nH\", \"fF\", \"mSie\", 7200000000, Maxwell, 1, False\n"
     ]
    }
   ],
   "source": [
    "setup_args=Dict(\n",
    "    freq_ghz=7.2,\n",
    "    min_passes=2,\n",
    "    max_passes=15,\n",
    "    percent_error=0.2\n",
    ")\n",
    "\n",
    "all_sweep, retorn_code = sweep.sweep_one_option_get_capacitance_matrix(\n",
    "    qcomp_name='CAP1',\n",
    "    option_name='finger_length',\n",
    "    option_sweep=['35um','40um','45um','50um','55um','60um'],\n",
    "    qcomp_render=['CAP1'],\n",
    "    endcaps_render=[],\n",
    "    setup_args=setup_args\n",
    ")"
   ]
  },
  {
   "cell_type": "code",
   "execution_count": 23,
   "metadata": {},
   "outputs": [
    {
     "data": {
      "text/plain": [
       "{'35um': {'option_name': 'finger_length',\n",
       "  'convergence_target': 0.2,\n",
       "  'convergence_current': 0.080852,\n",
       "  'min_number_passes': 2,\n",
       "  'is_convergence': True,\n",
       "  'capacitance': (                   cap_body_0_CAP1  cap_body_1_CAP1  ground_main_plane\n",
       "   cap_body_0_CAP1           12.29852         -3.63051           -8.51686\n",
       "   cap_body_1_CAP1           -3.63051          8.67653           -4.95162\n",
       "   ground_main_plane         -8.51686         -4.95162           44.40748,\n",
       "   'fF'),\n",
       "  'convergence_data':       # Triangle   Delta %\n",
       "  Pass                      \n",
       "  1             68       NaN\n",
       "  2            212  5.818100\n",
       "  3            638  6.518000\n",
       "  4           1578  1.547500\n",
       "  5           1936  0.655400\n",
       "  6           2386  0.439820\n",
       "  7           3042  0.479960\n",
       "  8           3952  0.338200\n",
       "  9           5018  0.159060\n",
       "  10          6642  0.499120\n",
       "  11          8422  0.205290\n",
       "  12         10758  0.090337\n",
       "  13         13638  0.080852},\n",
       " '40um': {'option_name': 'finger_length',\n",
       "  'convergence_target': 0.2,\n",
       "  'convergence_current': 0.11924,\n",
       "  'min_number_passes': 2,\n",
       "  'is_convergence': True,\n",
       "  'capacitance': (                   cap_body_0_CAP1  cap_body_1_CAP1  ground_main_plane\n",
       "   cap_body_0_CAP1           13.40555         -4.06258           -9.17910\n",
       "   cap_body_1_CAP1           -4.06258          9.32513           -5.16373\n",
       "   ground_main_plane         -9.17910         -5.16373           45.41886,\n",
       "   'fF'),\n",
       "  'convergence_data':       # Triangle  Delta %\n",
       "  Pass                     \n",
       "  1             68      NaN\n",
       "  2            206  5.92320\n",
       "  3            620  5.98770\n",
       "  4           1526  1.51700\n",
       "  5           1886  0.57740\n",
       "  6           2362  0.37282\n",
       "  7           3008  0.47851\n",
       "  8           3888  0.30800\n",
       "  9           4980  0.23552\n",
       "  10          6628  0.49359\n",
       "  11          8488  0.18196\n",
       "  12         10816  0.11924},\n",
       " '45um': {'option_name': 'finger_length',\n",
       "  'convergence_target': 0.2,\n",
       "  'convergence_current': 0.13674,\n",
       "  'min_number_passes': 2,\n",
       "  'is_convergence': True,\n",
       "  'capacitance': (                   cap_body_0_CAP1  cap_body_1_CAP1  ground_main_plane\n",
       "   cap_body_0_CAP1           14.55962         -4.51687           -9.86566\n",
       "   cap_body_1_CAP1           -4.51687          9.99991           -5.38132\n",
       "   ground_main_plane         -9.86566         -5.38132           46.45567,\n",
       "   'fF'),\n",
       "  'convergence_data':       # Triangle  Delta %\n",
       "  Pass                     \n",
       "  1             68      NaN\n",
       "  2            206  5.58580\n",
       "  3            622  5.70040\n",
       "  4           1524  1.56030\n",
       "  5           1876  0.54225\n",
       "  6           2352  0.35375\n",
       "  7           2966  0.42896\n",
       "  8           3826  0.29636\n",
       "  9           4976  0.19103\n",
       "  10          6524  0.46102\n",
       "  11          8370  0.16213\n",
       "  12         10694  0.13674},\n",
       " '50um': {'option_name': 'finger_length',\n",
       "  'convergence_target': 0.2,\n",
       "  'convergence_current': 0.11996,\n",
       "  'min_number_passes': 2,\n",
       "  'is_convergence': True,\n",
       "  'capacitance': (                   cap_body_0_CAP1  cap_body_1_CAP1  ground_main_plane\n",
       "   cap_body_0_CAP1           15.71604         -4.97819          -10.54812\n",
       "   cap_body_1_CAP1           -4.97819         10.68092           -5.59731\n",
       "   ground_main_plane        -10.54812         -5.59731           47.48204,\n",
       "   'fF'),\n",
       "  'convergence_data':       # Triangle  Delta %\n",
       "  Pass                     \n",
       "  1             68      NaN\n",
       "  2            226  4.65590\n",
       "  3            682  5.88640\n",
       "  4           1578  1.61390\n",
       "  5           1930  0.59641\n",
       "  6           2432  0.34186\n",
       "  7           3092  0.47158\n",
       "  8           3972  0.25751\n",
       "  9           5186  0.20132\n",
       "  10          6762  0.44523\n",
       "  11          8648  0.16348\n",
       "  12         11176  0.11996},\n",
       " '55um': {'option_name': 'finger_length',\n",
       "  'convergence_target': 0.2,\n",
       "  'convergence_current': 0.069802,\n",
       "  'min_number_passes': 2,\n",
       "  'is_convergence': True,\n",
       "  'capacitance': (                   cap_body_0_CAP1  cap_body_1_CAP1  ground_main_plane\n",
       "   cap_body_0_CAP1           16.91686         -5.45533          -11.25986\n",
       "   cap_body_1_CAP1           -5.45533         11.38298           -5.81920\n",
       "   ground_main_plane        -11.25986         -5.81920           48.53721,\n",
       "   'fF'),\n",
       "  'convergence_data':       # Triangle   Delta %\n",
       "  Pass                      \n",
       "  1             68       NaN\n",
       "  2            240  5.196000\n",
       "  3            728  5.236300\n",
       "  4           1722  1.251100\n",
       "  5           2132  0.449950\n",
       "  6           2740  0.663090\n",
       "  7           3470  0.225710\n",
       "  8           4510  0.241120\n",
       "  9           5904  0.299960\n",
       "  10          7712  0.088225\n",
       "  11          9912  0.206790\n",
       "  12         12812  0.117840\n",
       "  13         16342  0.069802},\n",
       " '60um': {'option_name': 'finger_length',\n",
       "  'convergence_target': 0.2,\n",
       "  'convergence_current': 0.1941,\n",
       "  'min_number_passes': 2,\n",
       "  'is_convergence': True,\n",
       "  'capacitance': (                   cap_body_0_CAP1  cap_body_1_CAP1  ground_main_plane\n",
       "   cap_body_0_CAP1           17.92869         -5.84404          -11.87271\n",
       "   cap_body_1_CAP1           -5.84404         11.97354           -6.01478\n",
       "   ground_main_plane        -11.87271         -6.01478           49.53688,\n",
       "   'fF'),\n",
       "  'convergence_data':       # Triangle   Delta %\n",
       "  Pass                      \n",
       "  1             68       NaN\n",
       "  2            228  3.881100\n",
       "  3            686  5.696300\n",
       "  4           1614  1.518100\n",
       "  5           2002  0.572810\n",
       "  6           2516  0.288010\n",
       "  7           3268  0.382010\n",
       "  8           4264  0.285520\n",
       "  9           5506  0.266100\n",
       "  10          7436  0.094727\n",
       "  11          9594  0.194100}}"
      ]
     },
     "execution_count": 23,
     "metadata": {},
     "output_type": "execute_result"
    }
   ],
   "source": [
    "all_sweep"
   ]
  },
  {
   "cell_type": "code",
   "execution_count": 26,
   "metadata": {},
   "outputs": [],
   "source": [
    "ansys.disconnect_ansys()"
   ]
  },
  {
   "cell_type": "code",
   "execution_count": 27,
   "metadata": {},
   "outputs": [
    {
     "data": {
      "text/plain": [
       "True"
      ]
     },
     "execution_count": 27,
     "metadata": {},
     "output_type": "execute_result"
    }
   ],
   "source": [
    "gui.main_window.close()"
   ]
  }
 ],
 "metadata": {
  "kernelspec": {
   "display_name": "qiskit-metal",
   "language": "python",
   "name": "python3"
  },
  "language_info": {
   "codemirror_mode": {
    "name": "ipython",
    "version": 3
   },
   "file_extension": ".py",
   "mimetype": "text/x-python",
   "name": "python",
   "nbconvert_exporter": "python",
   "pygments_lexer": "ipython3",
   "version": "3.11.10"
  }
 },
 "nbformat": 4,
 "nbformat_minor": 2
}
