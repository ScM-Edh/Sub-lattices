{
 "cells": [
  {
   "cell_type": "code",
   "execution_count": 369,
   "metadata": {},
   "outputs": [
    {
     "name": "stdout",
     "output_type": "stream",
     "text": [
      "The autoreload extension is already loaded. To reload it, use:\n",
      "  %reload_ext autoreload\n"
     ]
    }
   ],
   "source": [
    "%load_ext autoreload\n",
    "%autoreload 2"
   ]
  },
  {
   "cell_type": "code",
   "execution_count": 370,
   "metadata": {},
   "outputs": [],
   "source": [
    "from qiskit_metal import Dict, designs, MetalGUI\n",
    "from qiskit_metal import renderers\n",
    "import qiskit_metal as metal"
   ]
  },
  {
   "cell_type": "code",
   "execution_count": 371,
   "metadata": {},
   "outputs": [],
   "source": [
    "design = designs.DesignPlanar(overwrite_enabled=True)\n",
    "design.variables['cpw_width']='20um'\n",
    "design.variables['cpw_gap']='12um'"
   ]
  },
  {
   "cell_type": "code",
   "execution_count": 372,
   "metadata": {},
   "outputs": [
    {
     "name": "stderr",
     "output_type": "stream",
     "text": [
      "INFO 12:06PM [__del__]: Disconnected from Ansys HFSS\n",
      "INFO 12:06PM [__del__]: Disconnected from Ansys HFSS\n"
     ]
    }
   ],
   "source": [
    "gui = MetalGUI(design)"
   ]
  },
  {
   "cell_type": "markdown",
   "metadata": {},
   "source": [
    "# Tricapacitor"
   ]
  },
  {
   "cell_type": "code",
   "execution_count": 298,
   "metadata": {},
   "outputs": [],
   "source": [
    "from ThreeWaysCapacitor import TriCapacitor"
   ]
  },
  {
   "cell_type": "code",
   "execution_count": 299,
   "metadata": {},
   "outputs": [],
   "source": [
    "cap_opt = Dict(\n",
    "    cap_gap='10um',\n",
    "    cap_length='80um',\n",
    "    cpw_length='5um',\n",
    ")\n",
    "central_cap = TriCapacitor(design, 'CENTRAL', options=cap_opt)\n",
    "\n",
    "gui.rebuild()\n",
    "gui.autoscale()"
   ]
  },
  {
   "cell_type": "markdown",
   "metadata": {},
   "source": [
    "# Adding capacitor"
   ]
  },
  {
   "cell_type": "code",
   "execution_count": 373,
   "metadata": {},
   "outputs": [],
   "source": [
    "from qiskit_metal.qlibrary.lumped.cap_n_interdigital import CapNInterdigital"
   ]
  },
  {
   "cell_type": "code",
   "execution_count": 374,
   "metadata": {},
   "outputs": [],
   "source": [
    "cap_opt = Dict(\n",
    "    north_width='20um',\n",
    "    north_gap='12um',\n",
    "    south_width='20um',\n",
    "    south_gap='12um',\n",
    "    cap_width='5um',\n",
    "    cap_gap_ground='12um',\n",
    "    finger_count='3',\n",
    "    cap_distance='1um',\n",
    "    finger_length='55um'\n",
    ")\n",
    "cap_opt.pos_y='-3000um'\n",
    "cap1 = CapNInterdigital(design, 'CAP1', options=cap_opt)\n",
    "\n",
    "gui.rebuild()\n",
    "gui.autoscale()"
   ]
  },
  {
   "cell_type": "code",
   "execution_count": 375,
   "metadata": {},
   "outputs": [],
   "source": [
    "cap_opt.pos_y='0um'\n",
    "cap_opt.orientation='180'\n",
    "cap2 = CapNInterdigital(design, 'CAP2', options=cap_opt)\n",
    "\n",
    "gui.rebuild()\n",
    "gui.autoscale()"
   ]
  },
  {
   "cell_type": "markdown",
   "metadata": {},
   "source": [
    "# Adding resonator"
   ]
  },
  {
   "cell_type": "code",
   "execution_count": 376,
   "metadata": {},
   "outputs": [
    {
     "data": {
      "text/plain": [
       "{'chip': 'main',\n",
       " 'layer': '1',\n",
       " 'pin_inputs': {'start_pin': {'component': '', 'pin': ''},\n",
       "  'end_pin': {'component': '', 'pin': ''}},\n",
       " 'fillet': '0',\n",
       " 'lead': {'start_straight': '0mm',\n",
       "  'end_straight': '0mm',\n",
       "  'start_jogged_extension': '',\n",
       "  'end_jogged_extension': ''},\n",
       " 'total_length': '7mm',\n",
       " 'trace_width': 'cpw_width',\n",
       " 'meander': {'spacing': '200um', 'asymmetry': '0um'},\n",
       " 'snap': 'true',\n",
       " 'prevent_short_edges': 'true',\n",
       " 'hfss_wire_bonds': False,\n",
       " 'q3d_wire_bonds': False}"
      ]
     },
     "execution_count": 376,
     "metadata": {},
     "output_type": "execute_result"
    }
   ],
   "source": [
    "from qiskit_metal.qlibrary.tlines.meandered import RouteMeander\n",
    "from qiskit_metal.qlibrary.tlines.straight_path import RouteStraight\n",
    "from qiskit_metal.qlibrary.terminations.open_to_ground import OpenToGround\n",
    "\n",
    "RouteMeander.get_template_options(design)"
   ]
  },
  {
   "cell_type": "code",
   "execution_count": 377,
   "metadata": {},
   "outputs": [],
   "source": [
    "res_opt = Dict(\n",
    "    pin_inputs=Dict(\n",
    "        start_pin=Dict(\n",
    "            component='CAP2',\n",
    "            pin='north_end'\n",
    "        ),\n",
    "        end_pin=Dict(\n",
    "            component='CAP1',\n",
    "            pin='north_end'\n",
    "        )\n",
    "    ),\n",
    "    fillet='120um',\n",
    "    lead=Dict(\n",
    "        start_straight='500um',\n",
    "        end_straight='500um'\n",
    "    ),\n",
    "    meander=Dict(spacing='250um'),\n",
    "    total_length='16mm',\n",
    "    snap='False',\n",
    "    hfss_wire_bonds=True\n",
    ")\n",
    "res1 = RouteMeander(design, 'RES1', options=res_opt)\n",
    "\n",
    "gui.rebuild()\n",
    "gui.autoscale()"
   ]
  },
  {
   "cell_type": "code",
   "execution_count": 352,
   "metadata": {},
   "outputs": [
    {
     "name": "stderr",
     "output_type": "stream",
     "text": [
      "02:22AM 56s WARNING [check_lengths]: For path table, component=LINE, key=trace has short segments that could cause issues with fillet. Values in (1-1)  are index(es) in shapely geometry.\n",
      "02:22AM 56s WARNING [check_lengths]: For path table, component=LINE, key=cut has short segments that could cause issues with fillet. Values in (1-1)  are index(es) in shapely geometry.\n"
     ]
    }
   ],
   "source": [
    "otg_opt = Dict(\n",
    "    pos_x='0.3mm',\n",
    "    pos_y='0.4mm',\n",
    "    width='20um',\n",
    "    gap='12um',\n",
    "    termination_gap='12um',\n",
    "    orientation='90'\n",
    ")\n",
    "otg = OpenToGround(design, 'OTG', options=otg_opt)\n",
    "\n",
    "gui.rebuild()\n",
    "gui.autoscale()"
   ]
  },
  {
   "cell_type": "code",
   "execution_count": null,
   "metadata": {},
   "outputs": [],
   "source": [
    "# otg_opt.pos_x='0um'\n",
    "# otg_opt.pos_y='-3.5mm'\n",
    "# otg_opt.orientation='-90'\n",
    "\n",
    "# otg1 = OpenToGround(design, 'OTG1', options=otg_opt)\n",
    "\n",
    "# otg_opt.pos_y='0.5mm'\n",
    "# otg_opt.orientation='90'\n",
    "\n",
    "# otg2 = OpenToGround(design, 'OTG2', options=otg_opt)\n",
    "\n",
    "# gui.rebuild()\n",
    "# gui.autoscale()"
   ]
  },
  {
   "cell_type": "code",
   "execution_count": 311,
   "metadata": {},
   "outputs": [
    {
     "data": {
      "text/plain": [
       "{'chip': 'main',\n",
       " 'layer': '1',\n",
       " 'pin_inputs': {'start_pin': {'component': '', 'pin': ''},\n",
       "  'end_pin': {'component': '', 'pin': ''}},\n",
       " 'fillet': '0',\n",
       " 'lead': {'start_straight': '0mm',\n",
       "  'end_straight': '0mm',\n",
       "  'start_jogged_extension': '',\n",
       "  'end_jogged_extension': ''},\n",
       " 'total_length': '7mm',\n",
       " 'trace_width': 'cpw_width',\n",
       " 'hfss_wire_bonds': False,\n",
       " 'q3d_wire_bonds': False}"
      ]
     },
     "execution_count": 311,
     "metadata": {},
     "output_type": "execute_result"
    }
   ],
   "source": [
    "RouteStraight.get_template_options(design)"
   ]
  },
  {
   "cell_type": "code",
   "execution_count": 355,
   "metadata": {},
   "outputs": [
    {
     "name": "stderr",
     "output_type": "stream",
     "text": [
      "02:23AM 44s WARNING [check_lengths]: For path table, component=LINE, key=trace has short segments that could cause issues with fillet. Values in (1-1)  are index(es) in shapely geometry.\n",
      "02:23AM 44s WARNING [check_lengths]: For path table, component=LINE, key=cut has short segments that could cause issues with fillet. Values in (1-1)  are index(es) in shapely geometry.\n",
      "02:23AM 44s WARNING [check_lengths]: For path table, component=LINE, key=trace has short segments that could cause issues with fillet. Values in (1-1)  are index(es) in shapely geometry.\n",
      "02:23AM 44s WARNING [check_lengths]: For path table, component=LINE, key=cut has short segments that could cause issues with fillet. Values in (1-1)  are index(es) in shapely geometry.\n"
     ]
    }
   ],
   "source": [
    "line_opt = Dict(\n",
    "    pin_inputs=Dict(\n",
    "        start_pin=Dict(\n",
    "            component='CENTRAL',\n",
    "            pin='pin_2'\n",
    "        ),\n",
    "        end_pin=Dict(\n",
    "            component='OTG',\n",
    "            pin='open'\n",
    "        )\n",
    "    ),\n",
    "    fillet='100um',\n",
    "    lead=Dict(\n",
    "        end_straight='230um'\n",
    "    )\n",
    ")\n",
    "\n",
    "line = RouteStraight(design, 'LINE', options=line_opt)\n",
    "\n",
    "gui.rebuild()\n",
    "gui.zoom_on_components(['LINE'])"
   ]
  },
  {
   "cell_type": "code",
   "execution_count": null,
   "metadata": {},
   "outputs": [],
   "source": [
    "# line_opt = Dict(\n",
    "#     pin_inputs=Dict(\n",
    "#         start_pin=Dict(\n",
    "#             component='CAP1',\n",
    "#             pin='south_end'\n",
    "#         ),\n",
    "#         end_pin=Dict(\n",
    "#             component='OTG1',\n",
    "#             pin='open'\n",
    "#         )\n",
    "#     ),\n",
    "#     fillet='150um',\n",
    "#     lead=Dict(\n",
    "#         end_straight='250um'\n",
    "#     ),\n",
    "#     total_length='7mm'\n",
    "# )\n",
    "\n",
    "# line1 = RouteStraight(design, 'LINE1', options=line_opt)\n",
    "\n",
    "# line_opt.pin_inputs.start_pin.component='CAP2'\n",
    "# line_opt.pin_inputs.end_pin.component='OTG2'\n",
    "# line2 = RouteStraight(design, 'LINE2', options=line_opt)\n",
    "\n",
    "# gui.rebuild()\n",
    "# gui.autoscale()"
   ]
  },
  {
   "cell_type": "markdown",
   "metadata": {},
   "source": [
    "# Comprimento previsto"
   ]
  },
  {
   "cell_type": "code",
   "execution_count": 315,
   "metadata": {},
   "outputs": [],
   "source": [
    "from qiskit_metal.analyses.em.cpw_calculations import guided_wavelength\n",
    "\n",
    "[lambdaG, etfSqrt, q] = guided_wavelength(3.8e9,20e-6,12e-6,750e-6,200e-9,11.45)"
   ]
  },
  {
   "cell_type": "code",
   "execution_count": 316,
   "metadata": {},
   "outputs": [
    {
     "name": "stdout",
     "output_type": "stream",
     "text": [
      "15.914845142220049\n"
     ]
    }
   ],
   "source": [
    "print(lambdaG/2*1000)"
   ]
  },
  {
   "cell_type": "markdown",
   "metadata": {},
   "source": [
    "# Eigenmode simulation"
   ]
  },
  {
   "cell_type": "code",
   "execution_count": 378,
   "metadata": {},
   "outputs": [],
   "source": [
    "ansys = design.renderers.hfss"
   ]
  },
  {
   "cell_type": "code",
   "execution_count": 379,
   "metadata": {},
   "outputs": [
    {
     "name": "stderr",
     "output_type": "stream",
     "text": [
      "INFO 12:09PM [connect_project]: Connecting to Ansys Desktop API...\n",
      "INFO 12:09PM [load_ansys_project]: \tOpened Ansys App\n",
      "INFO 12:09PM [load_ansys_project]: \tOpened Ansys Desktop v2023.1.0\n",
      "INFO 12:09PM [load_ansys_project]: \tOpened Ansys Project\n",
      "\tFolder:    D:/Users/e196203/Desktop/Simulações/qiskit metal/Three coupled resonators/\n",
      "\tProject:   Simulating components\n",
      "INFO 12:09PM [connect_design]: \tOpened active design\n",
      "\tDesign:    Resonator [Solution type: Eigenmode]\n",
      "INFO 12:09PM [get_setup]: \tOpened setup `Setup`  (<class 'pyEPR.ansys.HfssEMSetup'>)\n",
      "INFO 12:09PM [connect]: \tConnected to project \"Simulating components\" and design \"Resonator\" 😀 \n",
      "\n"
     ]
    }
   ],
   "source": [
    "ansys.connect_ansys()"
   ]
  },
  {
   "cell_type": "code",
   "execution_count": 380,
   "metadata": {},
   "outputs": [
    {
     "name": "stderr",
     "output_type": "stream",
     "text": [
      "12:09PM 59s WARNING [activate_eigenmode_design]: This method is deprecated. Change your scripts to use activate_ansys_design()\n",
      "INFO 12:09PM [connect_design]: \tOpened active design\n",
      "\tDesign:    Resonator [Solution type: Eigenmode]\n"
     ]
    }
   ],
   "source": [
    "ansys.activate_eigenmode_design('Resonator')"
   ]
  },
  {
   "cell_type": "code",
   "execution_count": 381,
   "metadata": {},
   "outputs": [],
   "source": [
    "ansys.clean_active_design()\n",
    "ansys.render_design()"
   ]
  },
  {
   "cell_type": "code",
   "execution_count": 30,
   "metadata": {},
   "outputs": [
    {
     "data": {
      "text/plain": [
       "<pyEPR.ansys.HfssEMSetup at 0x267e40f5290>"
      ]
     },
     "execution_count": 30,
     "metadata": {},
     "output_type": "execute_result"
    }
   ],
   "source": [
    "ansys.add_eigenmode_setup(\n",
    "    name='Resonance',\n",
    "    n_modes=2,\n",
    "    max_passes=15,\n",
    "    min_converged=2\n",
    ")"
   ]
  },
  {
   "cell_type": "code",
   "execution_count": 382,
   "metadata": {},
   "outputs": [
    {
     "name": "stderr",
     "output_type": "stream",
     "text": [
      "12:11PM 01s WARNING [activate_eigenmode_setup]: This method is deprecated. Change your scripts to use activate_ansys_setup()\n",
      "INFO 12:11PM [get_setup]: \tOpened setup `Resonance`  (<class 'pyEPR.ansys.HfssEMSetup'>)\n"
     ]
    }
   ],
   "source": [
    "ansys.activate_eigenmode_setup('Resonance')"
   ]
  },
  {
   "cell_type": "code",
   "execution_count": 383,
   "metadata": {},
   "outputs": [
    {
     "name": "stderr",
     "output_type": "stream",
     "text": [
      "INFO 12:11PM [get_setup]: \tOpened setup `Resonance`  (<class 'pyEPR.ansys.HfssEMSetup'>)\n",
      "INFO 12:11PM [analyze]: Analyzing setup Resonance\n"
     ]
    },
    {
     "name": "stderr",
     "output_type": "stream",
     "text": [
      "12:16PM 45s CRITICAL [_qt_message_handler]: line: 0, func: None(), file: None  CRITICAL: QEventDispatcherWin32::wakeUp: Failed to post a message (Não há cota suficiente para processar este comando.)\n",
      "\n"
     ]
    }
   ],
   "source": [
    "ansys.analyze_setup('Resonance')"
   ]
  },
  {
   "cell_type": "code",
   "execution_count": 384,
   "metadata": {},
   "outputs": [
    {
     "data": {
      "text/plain": [
       "([3.68939815418, 7.45570040113], None)"
      ]
     },
     "execution_count": 384,
     "metadata": {},
     "output_type": "execute_result"
    }
   ],
   "source": [
    "ansys.pinfo.setup.get_solutions().eigenmodes()"
   ]
  },
  {
   "cell_type": "code",
   "execution_count": 140,
   "metadata": {},
   "outputs": [
    {
     "name": "stderr",
     "output_type": "stream",
     "text": [
      "12:59PM 21s WARNING [plot_ansys_fields]: This method is deprecated. Change your scripts to use plot_fields()\n"
     ]
    }
   ],
   "source": [
    "ansys.plot_ansys_fields('main')"
   ]
  },
  {
   "cell_type": "markdown",
   "metadata": {},
   "source": [
    "# Sweep"
   ]
  },
  {
   "cell_type": "code",
   "execution_count": 72,
   "metadata": {},
   "outputs": [],
   "source": [
    "from qiskit_metal.analyses.sweep_and_optimize.sweeping import Sweeping\n",
    "\n",
    "sweep = Sweeping(design)"
   ]
  },
  {
   "cell_type": "code",
   "execution_count": 74,
   "metadata": {},
   "outputs": [
    {
     "name": "stderr",
     "output_type": "stream",
     "text": [
      "INFO 08:55AM [connect_project]: Connecting to Ansys Desktop API...\n",
      "INFO 08:55AM [load_ansys_project]: \tOpened Ansys App\n",
      "INFO 08:55AM [load_ansys_project]: \tOpened Ansys Desktop v2023.1.0\n",
      "INFO 08:55AM [load_ansys_project]: \tOpened Ansys Project\n",
      "\tFolder:    D:/Users/e196203/Documents/Ansoft/\n",
      "\tProject:   Project9\n",
      "INFO 08:55AM [connect_design]: \tOpened active design\n",
      "\tDesign:    Resonator [Solution type: Eigenmode]\n",
      "INFO 08:55AM [get_setup]: \tOpened setup `Setup`  (<class 'pyEPR.ansys.HfssEMSetup'>)\n",
      "INFO 08:55AM [connect]: \tConnected to project \"Project9\" and design \"Resonator\" 😀 \n",
      "\n",
      "08:55AM 40s WARNING [activate_ansys_design]: The design_name=Sweep_Eigenmode was not in active project.  Designs in active project are: \n",
      "['Coupling capacitor', 'Sweep_Capacitance', '3ways_capacitor', 'Resonator'].  A new design will be added to the project.  \n",
      "INFO 08:55AM [connect_design]: \tOpened active design\n",
      "\tDesign:    Sweep_Eigenmode [Solution type: Eigenmode]\n",
      "WARNING 08:55AM [connect_setup]: \tNo design setup detected.\n",
      "WARNING 08:55AM [connect_setup]: \tCreating eigenmode default setup.\n",
      "INFO 08:55AM [get_setup]: \tOpened setup `Setup`  (<class 'pyEPR.ansys.HfssEMSetup'>)\n",
      "INFO 08:55AM [get_setup]: \tOpened setup `Sweep_em_setup`  (<class 'pyEPR.ansys.HfssEMSetup'>)\n",
      "INFO 08:55AM [get_setup]: \tOpened setup `Sweep_em_setup`  (<class 'pyEPR.ansys.HfssEMSetup'>)\n",
      "INFO 08:55AM [analyze]: Analyzing setup Sweep_em_setup\n",
      "09:00AM 12s INFO [get_f_convergence]: Saved convergences to d:\\Users\\e196203\\Desktop\\Git Hub\\Dodecahedral-lattice\\Dodecahedral-lattice\\Three coupled resonators\\hfss_eig_f_convergence.csv\n",
      "INFO 09:00AM [get_setup]: \tOpened setup `Sweep_em_setup`  (<class 'pyEPR.ansys.HfssEMSetup'>)\n",
      "INFO 09:00AM [analyze]: Analyzing setup Sweep_em_setup\n",
      "09:05AM 51s INFO [get_f_convergence]: Saved convergences to d:\\Users\\e196203\\Desktop\\Git Hub\\Dodecahedral-lattice\\Dodecahedral-lattice\\Three coupled resonators\\hfss_eig_f_convergence.csv\n",
      "INFO 09:06AM [get_setup]: \tOpened setup `Sweep_em_setup`  (<class 'pyEPR.ansys.HfssEMSetup'>)\n",
      "INFO 09:06AM [analyze]: Analyzing setup Sweep_em_setup\n",
      "09:11AM 40s INFO [get_f_convergence]: Saved convergences to d:\\Users\\e196203\\Desktop\\Git Hub\\Dodecahedral-lattice\\Dodecahedral-lattice\\Three coupled resonators\\hfss_eig_f_convergence.csv\n",
      "INFO 09:12AM [get_setup]: \tOpened setup `Sweep_em_setup`  (<class 'pyEPR.ansys.HfssEMSetup'>)\n",
      "INFO 09:12AM [analyze]: Analyzing setup Sweep_em_setup\n",
      "09:16AM 51s INFO [get_f_convergence]: Saved convergences to d:\\Users\\e196203\\Desktop\\Git Hub\\Dodecahedral-lattice\\Dodecahedral-lattice\\Three coupled resonators\\hfss_eig_f_convergence.csv\n",
      "INFO 09:17AM [get_setup]: \tOpened setup `Sweep_em_setup`  (<class 'pyEPR.ansys.HfssEMSetup'>)\n",
      "INFO 09:17AM [analyze]: Analyzing setup Sweep_em_setup\n",
      "09:21AM 39s INFO [get_f_convergence]: Saved convergences to d:\\Users\\e196203\\Desktop\\Git Hub\\Dodecahedral-lattice\\Dodecahedral-lattice\\Three coupled resonators\\hfss_eig_f_convergence.csv\n",
      "INFO 09:22AM [get_setup]: \tOpened setup `Sweep_em_setup`  (<class 'pyEPR.ansys.HfssEMSetup'>)\n",
      "INFO 09:22AM [analyze]: Analyzing setup Sweep_em_setup\n",
      "09:27AM 37s INFO [get_f_convergence]: Saved convergences to d:\\Users\\e196203\\Desktop\\Git Hub\\Dodecahedral-lattice\\Dodecahedral-lattice\\Three coupled resonators\\hfss_eig_f_convergence.csv\n",
      "INFO 09:27AM [get_setup]: \tOpened setup `Sweep_em_setup`  (<class 'pyEPR.ansys.HfssEMSetup'>)\n",
      "INFO 09:27AM [analyze]: Analyzing setup Sweep_em_setup\n",
      "09:34AM 49s INFO [get_f_convergence]: Saved convergences to d:\\Users\\e196203\\Desktop\\Git Hub\\Dodecahedral-lattice\\Dodecahedral-lattice\\Three coupled resonators\\hfss_eig_f_convergence.csv\n",
      "INFO 09:35AM [get_setup]: \tOpened setup `Sweep_em_setup`  (<class 'pyEPR.ansys.HfssEMSetup'>)\n",
      "INFO 09:35AM [analyze]: Analyzing setup Sweep_em_setup\n",
      "09:41AM 08s INFO [get_f_convergence]: Saved convergences to d:\\Users\\e196203\\Desktop\\Git Hub\\Dodecahedral-lattice\\Dodecahedral-lattice\\Three coupled resonators\\hfss_eig_f_convergence.csv\n",
      "INFO 09:41AM [get_setup]: \tOpened setup `Sweep_em_setup`  (<class 'pyEPR.ansys.HfssEMSetup'>)\n",
      "INFO 09:41AM [analyze]: Analyzing setup Sweep_em_setup\n",
      "09:47AM 24s INFO [get_f_convergence]: Saved convergences to d:\\Users\\e196203\\Desktop\\Git Hub\\Dodecahedral-lattice\\Dodecahedral-lattice\\Three coupled resonators\\hfss_eig_f_convergence.csv\n",
      "INFO 09:47AM [get_setup]: \tOpened setup `Sweep_em_setup`  (<class 'pyEPR.ansys.HfssEMSetup'>)\n",
      "INFO 09:47AM [analyze]: Analyzing setup Sweep_em_setup\n",
      "09:53AM 40s INFO [get_f_convergence]: Saved convergences to d:\\Users\\e196203\\Desktop\\Git Hub\\Dodecahedral-lattice\\Dodecahedral-lattice\\Three coupled resonators\\hfss_eig_f_convergence.csv\n",
      "INFO 09:54AM [get_setup]: \tOpened setup `Sweep_em_setup`  (<class 'pyEPR.ansys.HfssEMSetup'>)\n",
      "INFO 09:54AM [analyze]: Analyzing setup Sweep_em_setup\n",
      "10:01AM 16s INFO [get_f_convergence]: Saved convergences to d:\\Users\\e196203\\Desktop\\Git Hub\\Dodecahedral-lattice\\Dodecahedral-lattice\\Three coupled resonators\\hfss_eig_f_convergence.csv\n"
     ]
    },
    {
     "name": "stdout",
     "output_type": "stream",
     "text": [
      "Warning! 3 COM references still alive\n",
      "Ansys will likely refuse to shut down\n"
     ]
    }
   ],
   "source": [
    "setup_opt=Dict(\n",
    "    n_modes=2,\n",
    "    max_passes=15,\n",
    "    min_converged=2\n",
    ")\n",
    "\n",
    "all_sweep, return_code = sweep.sweep_one_option_get_eigenmode_solution_data(\n",
    "    qcomp_name='RES1',\n",
    "    option_name='total_length',\n",
    "    option_sweep=['16mm','16.1mm','16.2mm','16.3mm','16.4mm','16.5mm','16.6mm','16.7mm','16.8mm','16.9mm','17mm'],\n",
    "    qcomp_render=['CENTRAL','CAP1','RES1'],\n",
    "    endcaps_render=[],\n",
    "    ignored_jjs_render=[],\n",
    "    setup_args=setup_opt\n",
    ")"
   ]
  },
  {
   "cell_type": "code",
   "execution_count": 75,
   "metadata": {},
   "outputs": [
    {
     "data": {
      "text/plain": [
       "{'16mm': {'convergence': True,\n",
       "  'option_name': 'total_length',\n",
       "  'frequency': [3.67750298317, 7.44230787942],\n",
       "  'kappa_over_2pis': None,\n",
       "  'quality_factor': None,\n",
       "  'convergence_eig_f':          re(Mode(1)) [g]  re(Mode(2)) [g]\n",
       "  Pass []                                  \n",
       "  1               2.977965         5.798060\n",
       "  2               2.992184         5.925522\n",
       "  3               2.800207         5.849479\n",
       "  4               3.133637         6.418459\n",
       "  5               3.309509         6.697878\n",
       "  6               3.383765         6.943161\n",
       "  7               3.498491         7.107026\n",
       "  8               3.604579         7.306278\n",
       "  9               3.631925         7.391153\n",
       "  10              3.662492         7.429540\n",
       "  11              3.672250         7.439444\n",
       "  12              3.677503         7.442308\n",
       "  13                   NaN              NaN\n",
       "  14                   NaN              NaN\n",
       "  15                   NaN              NaN,\n",
       "  'convergence_t':              Solved Elements  Max Delta Freq. %\n",
       "  Pass Number                                    \n",
       "  1                      15377                NaN\n",
       "  2                      19995            2.19840\n",
       "  3                      23000            6.41600\n",
       "  4                      25538           11.90700\n",
       "  5                      28717            5.61240\n",
       "  6                      33711            3.66210\n",
       "  7                      42145            3.39050\n",
       "  8                      52934            3.03240\n",
       "  9                      67631            1.16170\n",
       "  10                     86839            0.84160\n",
       "  11                    111890            0.26644\n",
       "  12                    144441            0.14305},\n",
       " '16.1mm': {'convergence': True,\n",
       "  'option_name': 'total_length',\n",
       "  'frequency': [3.63920984962, 7.35897236336],\n",
       "  'kappa_over_2pis': None,\n",
       "  'quality_factor': None,\n",
       "  'convergence_eig_f':          re(Mode(1)) [g]  re(Mode(2)) [g]\n",
       "  Pass []                                  \n",
       "  1               2.733121         5.565816\n",
       "  2               2.727661         5.805596\n",
       "  3               2.658053         5.740083\n",
       "  4               2.930503         6.417734\n",
       "  5               3.091630         6.589593\n",
       "  6               3.288866         6.836415\n",
       "  7               3.394146         7.037474\n",
       "  8               3.471269         7.170275\n",
       "  9               3.558927         7.292344\n",
       "  10              3.594218         7.363312\n",
       "  11              3.625281         7.384315\n",
       "  12              3.636958         7.382795\n",
       "  13              3.639210         7.358972\n",
       "  14                   NaN              NaN\n",
       "  15                   NaN              NaN,\n",
       "  'convergence_t':              Solved Elements  Max Delta Freq. %\n",
       "  Pass Number                                    \n",
       "  1                      14817                NaN\n",
       "  2                      19270            4.30810\n",
       "  3                      22160            2.55190\n",
       "  4                      24043           11.80600\n",
       "  5                      27049            5.49830\n",
       "  6                      32055            6.37970\n",
       "  7                      39849            3.20110\n",
       "  8                      50367            2.27220\n",
       "  9                      64229            2.52530\n",
       "  10                     82256            0.99163\n",
       "  11                    105884            0.86424\n",
       "  12                    136647            0.32210\n",
       "  13                    176564            0.32267},\n",
       " '16.2mm': {'convergence': True,\n",
       "  'option_name': 'total_length',\n",
       "  'frequency': [3.62328408454, 7.32093471116],\n",
       "  'kappa_over_2pis': None,\n",
       "  'quality_factor': None,\n",
       "  'convergence_eig_f':          re(Mode(1)) [g]  re(Mode(2)) [g]\n",
       "  Pass []                                  \n",
       "  1               2.834104         5.470626\n",
       "  2               2.760897         5.569768\n",
       "  3               2.739681         5.669100\n",
       "  4               2.944286         6.244404\n",
       "  5               3.123634         6.579801\n",
       "  6               3.252809         6.746171\n",
       "  7               3.357923         6.980736\n",
       "  8               3.455455         7.176318\n",
       "  9               3.533311         7.303118\n",
       "  10              3.569755         7.353227\n",
       "  11              3.593339         7.367676\n",
       "  12              3.610890         7.351591\n",
       "  13              3.623284         7.320935\n",
       "  14                   NaN              NaN\n",
       "  15                   NaN              NaN,\n",
       "  'convergence_t':              Solved Elements  Max Delta Freq. %\n",
       "  Pass Number                                    \n",
       "  1                      14803                NaN\n",
       "  2                      19247            2.58300\n",
       "  3                      22129            1.78340\n",
       "  4                      24116           10.14800\n",
       "  5                      27740            6.09140\n",
       "  6                      32850            4.13540\n",
       "  7                      40907            3.47700\n",
       "  8                      51740            2.90450\n",
       "  9                      66077            2.25310\n",
       "  10                     84838            1.03140\n",
       "  11                    109180            0.66068\n",
       "  12                    140861            0.48842\n",
       "  13                    181877            0.41700},\n",
       " '16.3mm': {'convergence': True,\n",
       "  'option_name': 'total_length',\n",
       "  'frequency': [3.60305586711, 7.27813387987],\n",
       "  'kappa_over_2pis': None,\n",
       "  'quality_factor': None,\n",
       "  'convergence_eig_f':          re(Mode(1)) [g]  re(Mode(2)) [g]\n",
       "  Pass []                                  \n",
       "  1               2.545523         5.377830\n",
       "  2               2.828276         5.750740\n",
       "  3               2.842578         5.954660\n",
       "  4               2.942082         6.236805\n",
       "  5               3.054150         6.457168\n",
       "  6               3.176056         6.697679\n",
       "  7               3.234048         6.828811\n",
       "  8               3.334166         7.014850\n",
       "  9               3.502913         7.190279\n",
       "  10              3.555703         7.271386\n",
       "  11              3.581440         7.299752\n",
       "  12              3.597063         7.301834\n",
       "  13              3.603056         7.278134\n",
       "  14                   NaN              NaN\n",
       "  15                   NaN              NaN,\n",
       "  'convergence_t':              Solved Elements  Max Delta Freq. %\n",
       "  Pass Number                                    \n",
       "  1                      15499                NaN\n",
       "  2                      20156           11.10800\n",
       "  3                      21837            3.54600\n",
       "  4                      23881            4.73820\n",
       "  5                      25738            3.80910\n",
       "  6                      29298            3.99150\n",
       "  7                      35620            1.95790\n",
       "  8                      45144            3.09580\n",
       "  9                      57481            5.06110\n",
       "  10                     73588            1.50710\n",
       "  11                     94641            0.72381\n",
       "  12                    122046            0.43623\n",
       "  13                    157646            0.32458},\n",
       " '16.4mm': {'convergence': True,\n",
       "  'option_name': 'total_length',\n",
       "  'frequency': [3.55908009661, 7.25229623821],\n",
       "  'kappa_over_2pis': None,\n",
       "  'quality_factor': None,\n",
       "  'convergence_eig_f':          re(Mode(1)) [g]  re(Mode(2)) [g]\n",
       "  Pass []                                  \n",
       "  1               2.791019         5.571721\n",
       "  2               2.691672         5.656700\n",
       "  3               2.716630         5.908900\n",
       "  4               2.943903         6.448008\n",
       "  5               3.110919         6.626964\n",
       "  6               3.224830         6.781108\n",
       "  7               3.338384         6.977167\n",
       "  8               3.442277         7.141616\n",
       "  9               3.497050         7.216007\n",
       "  10              3.547263         7.252288\n",
       "  11              3.564145         7.270413\n",
       "  12              3.559080         7.252296\n",
       "  13                   NaN              NaN\n",
       "  14                   NaN              NaN\n",
       "  15                   NaN              NaN,\n",
       "  'convergence_t':              Solved Elements  Max Delta Freq. %\n",
       "  Pass Number                                    \n",
       "  1                      14917                NaN\n",
       "  2                      19403            3.55950\n",
       "  3                      22319            4.45840\n",
       "  4                      25670            9.12370\n",
       "  5                      28256            5.67330\n",
       "  6                      34077            3.66160\n",
       "  7                      42725            3.52130\n",
       "  8                      54120            3.11200\n",
       "  9                      69207            1.59120\n",
       "  10                     88932            1.43590\n",
       "  11                    114575            0.47591\n",
       "  12                    147882            0.24919},\n",
       " '16.5mm': {'convergence': True,\n",
       "  'option_name': 'total_length',\n",
       "  'frequency': [3.53895151876, 7.22473047396],\n",
       "  'kappa_over_2pis': None,\n",
       "  'quality_factor': None,\n",
       "  'convergence_eig_f':          re(Mode(1)) [g]  re(Mode(2)) [g]\n",
       "  Pass []                                  \n",
       "  1               2.792571         5.400883\n",
       "  2               2.887800         5.692516\n",
       "  3               2.896621         5.693847\n",
       "  4               3.092827         6.230853\n",
       "  5               3.192987         6.481545\n",
       "  6               3.280711         6.726164\n",
       "  7               3.363231         6.932078\n",
       "  8               3.450214         7.076381\n",
       "  9               3.491978         7.186806\n",
       "  10              3.505703         7.228281\n",
       "  11              3.525868         7.259011\n",
       "  12              3.528482         7.252399\n",
       "  13              3.538952         7.224730\n",
       "  14                   NaN              NaN\n",
       "  15                   NaN              NaN,\n",
       "  'convergence_t':              Solved Elements  Max Delta Freq. %\n",
       "  Pass Number                                    \n",
       "  1                      14734                NaN\n",
       "  2                      19156           5.399700\n",
       "  3                      22023           0.305490\n",
       "  4                      25336           9.431300\n",
       "  5                      27521           4.023400\n",
       "  6                      33256           3.774100\n",
       "  7                      41796           3.061400\n",
       "  8                      53019           2.586300\n",
       "  9                      67799           1.560500\n",
       "  10                     86841           0.577100\n",
       "  11                    111859           0.575210\n",
       "  12                    144439           0.091092\n",
       "  13                    186695           0.381510},\n",
       " '16.6mm': {'convergence': True,\n",
       "  'option_name': 'total_length',\n",
       "  'frequency': [3.53171548055, 7.11107174531],\n",
       "  'kappa_over_2pis': None,\n",
       "  'quality_factor': None,\n",
       "  'convergence_eig_f':          re(Mode(1)) [g]  re(Mode(2)) [g]\n",
       "  Pass []                                  \n",
       "  1               2.732270         5.409769\n",
       "  2               2.655384         5.488046\n",
       "  3               2.662334         5.534766\n",
       "  4               2.754697         5.897905\n",
       "  5               2.931019         6.220955\n",
       "  6               3.061537         6.564728\n",
       "  7               3.182344         6.776807\n",
       "  8               3.310988         7.004544\n",
       "  9               3.397781         7.097664\n",
       "  10              3.441297         7.158188\n",
       "  11              3.492764         7.177232\n",
       "  12              3.519309         7.173888\n",
       "  13              3.528052         7.142189\n",
       "  14              3.531715         7.111072\n",
       "  15                   NaN              NaN,\n",
       "  'convergence_t':              Solved Elements  Max Delta Freq. %\n",
       "  Pass Number                                    \n",
       "  1                      14449                NaN\n",
       "  2                      18787            2.81400\n",
       "  3                      20368            0.85130\n",
       "  4                      22616            6.56110\n",
       "  5                      26017            6.40080\n",
       "  6                      30749            5.52600\n",
       "  7                      38245            3.94600\n",
       "  8                      48409            4.04240\n",
       "  9                      61549            2.62140\n",
       "  10                     78965            1.28070\n",
       "  11                    101731            1.49560\n",
       "  12                    131284            0.76001\n",
       "  13                    169637            0.44186\n",
       "  14                    219429            0.43568},\n",
       " '16.7mm': {'convergence': True,\n",
       "  'option_name': 'total_length',\n",
       "  'frequency': [3.51481230918, 7.08722633341],\n",
       "  'kappa_over_2pis': None,\n",
       "  'quality_factor': None,\n",
       "  'convergence_eig_f':          re(Mode(1)) [g]  re(Mode(2)) [g]\n",
       "  Pass []                                  \n",
       "  1               2.473225         4.955162\n",
       "  2               2.429773         4.958603\n",
       "  3               2.490572         5.248798\n",
       "  4               2.737062         5.815606\n",
       "  5               2.970842         6.285557\n",
       "  6               3.147516         6.567465\n",
       "  7               3.281797         6.811517\n",
       "  8               3.373405         6.951716\n",
       "  9               3.428609         7.031364\n",
       "  10              3.479753         7.096433\n",
       "  11              3.503320         7.123585\n",
       "  12              3.510603         7.117642\n",
       "  13              3.514812         7.087226\n",
       "  14                   NaN              NaN\n",
       "  15                   NaN              NaN,\n",
       "  'convergence_t':              Solved Elements  Max Delta Freq. %\n",
       "  Pass Number                                    \n",
       "  1                      16083                NaN\n",
       "  2                      20909            1.75690\n",
       "  3                      23317            5.85240\n",
       "  4                      26834           10.79900\n",
       "  5                      30863            8.54130\n",
       "  6                      36866            5.94690\n",
       "  7                      45822            4.26630\n",
       "  8                      56791            2.79140\n",
       "  9                      72464            1.63650\n",
       "  10                     92341            1.49170\n",
       "  11                    118706            0.67728\n",
       "  12                    153022            0.20787\n",
       "  13                    197548            0.42733},\n",
       " '16.8mm': {'convergence': True,\n",
       "  'option_name': 'total_length',\n",
       "  'frequency': [3.49750988547, 7.06412812392],\n",
       "  'kappa_over_2pis': None,\n",
       "  'quality_factor': None,\n",
       "  'convergence_eig_f':          re(Mode(1)) [g]  re(Mode(2)) [g]\n",
       "  Pass []                                  \n",
       "  1               2.526413         5.396876\n",
       "  2               2.625310         5.412785\n",
       "  3               2.606104         5.534429\n",
       "  4               2.865563         6.002218\n",
       "  5               2.985382         6.414314\n",
       "  6               3.144076         6.679615\n",
       "  7               3.247807         6.859949\n",
       "  8               3.364867         6.983185\n",
       "  9               3.433672         7.064859\n",
       "  10              3.465826         7.094781\n",
       "  11              3.486994         7.092803\n",
       "  12              3.495911         7.088141\n",
       "  13              3.497510         7.064128\n",
       "  14                   NaN              NaN\n",
       "  15                   NaN              NaN,\n",
       "  'convergence_t':              Solved Elements  Max Delta Freq. %\n",
       "  Pass Number                                    \n",
       "  1                      15807                NaN\n",
       "  2                      20551            3.91450\n",
       "  3                      22803            2.24740\n",
       "  4                      25706            9.95580\n",
       "  5                      29564            6.86570\n",
       "  6                      35271            5.31570\n",
       "  7                      43925            3.29930\n",
       "  8                      55475            3.60430\n",
       "  9                      70792            2.04480\n",
       "  10                     90902            0.93643\n",
       "  11                    117081            0.61077\n",
       "  12                    151094            0.25571\n",
       "  13                    195183            0.33878},\n",
       " '16.9mm': {'convergence': True,\n",
       "  'option_name': 'total_length',\n",
       "  'frequency': [3.47448150294, 7.01261363336],\n",
       "  'kappa_over_2pis': None,\n",
       "  'quality_factor': None,\n",
       "  'convergence_eig_f':          re(Mode(1)) [g]  re(Mode(2)) [g]\n",
       "  Pass []                                  \n",
       "  1               2.579967         5.336831\n",
       "  2               2.557170         5.316217\n",
       "  3               2.502017         5.483687\n",
       "  4               2.732487         5.767646\n",
       "  5               2.978462         6.241639\n",
       "  6               3.144126         6.500828\n",
       "  7               3.254489         6.700586\n",
       "  8               3.337986         6.856357\n",
       "  9               3.393825         6.957492\n",
       "  10              3.439791         7.017903\n",
       "  11              3.463493         7.044442\n",
       "  12              3.471246         7.032934\n",
       "  13              3.474482         7.012614\n",
       "  14                   NaN              NaN\n",
       "  15                   NaN              NaN,\n",
       "  'convergence_t':              Solved Elements  Max Delta Freq. %\n",
       "  Pass Number                                    \n",
       "  1                      15998                NaN\n",
       "  2                      20797            0.88362\n",
       "  3                      22958            3.15020\n",
       "  4                      26042            9.21140\n",
       "  5                      29961            9.00190\n",
       "  6                      35748            5.56210\n",
       "  7                      44460            3.51010\n",
       "  8                      56193            2.56560\n",
       "  9                      71690            1.67280\n",
       "  10                     91988            1.35440\n",
       "  11                    118471            0.68908\n",
       "  12                    152877            0.22383\n",
       "  13                    197490            0.28893},\n",
       " '17mm': {'convergence': True,\n",
       "  'option_name': 'total_length',\n",
       "  'frequency': [3.45253237511, 6.92736558551],\n",
       "  'kappa_over_2pis': None,\n",
       "  'quality_factor': None,\n",
       "  'convergence_eig_f':          re(Mode(1)) [g]  re(Mode(2)) [g]\n",
       "  Pass []                                  \n",
       "  1               2.452609         5.137692\n",
       "  2               2.622385         5.071642\n",
       "  3               2.577718         5.223202\n",
       "  4               2.737341         5.823206\n",
       "  5               2.857517         6.126309\n",
       "  6               3.016904         6.397046\n",
       "  7               3.201955         6.649901\n",
       "  8               3.309245         6.796348\n",
       "  9               3.360765         6.900153\n",
       "  10              3.376213         6.957366\n",
       "  11              3.425222         6.989350\n",
       "  12              3.448935         6.980067\n",
       "  13              3.452124         6.955854\n",
       "  14              3.452532         6.927366\n",
       "  15                   NaN              NaN,\n",
       "  'convergence_t':              Solved Elements  Max Delta Freq. %\n",
       "  Pass Number                                    \n",
       "  1                      15875                NaN\n",
       "  2                      20639            6.92230\n",
       "  3                      23332            2.98840\n",
       "  4                      26287           11.48700\n",
       "  5                      28550            5.20510\n",
       "  6                      33440            5.57780\n",
       "  7                      41740            6.13380\n",
       "  8                      52668            3.35080\n",
       "  9                      67037            1.55680\n",
       "  10                     85894            0.82916\n",
       "  11                    110558            1.45160\n",
       "  12                    142609            0.69231\n",
       "  13                    184164            0.34689\n",
       "  14                    237999            0.40956}}"
      ]
     },
     "execution_count": 75,
     "metadata": {},
     "output_type": "execute_result"
    }
   ],
   "source": [
    "all_sweep"
   ]
  },
  {
   "cell_type": "code",
   "execution_count": 78,
   "metadata": {},
   "outputs": [
    {
     "name": "stdout",
     "output_type": "stream",
     "text": [
      "Warning! 3 COM references still alive\n",
      "Ansys will likely refuse to shut down\n"
     ]
    }
   ],
   "source": [
    "ansys.disconnect_ansys()"
   ]
  },
  {
   "cell_type": "code",
   "execution_count": 79,
   "metadata": {},
   "outputs": [
    {
     "data": {
      "text/plain": [
       "True"
      ]
     },
     "execution_count": 79,
     "metadata": {},
     "output_type": "execute_result"
    }
   ],
   "source": [
    "gui.main_window.close()"
   ]
  },
  {
   "cell_type": "markdown",
   "metadata": {},
   "source": [
    "# Drivenmodal simulation"
   ]
  },
  {
   "cell_type": "code",
   "execution_count": 227,
   "metadata": {},
   "outputs": [],
   "source": [
    "ansys = design.renderers.hfss"
   ]
  },
  {
   "cell_type": "code",
   "execution_count": 363,
   "metadata": {},
   "outputs": [
    {
     "name": "stderr",
     "output_type": "stream",
     "text": [
      "INFO 03:15AM [connect_project]: Connecting to Ansys Desktop API...\n",
      "INFO 03:15AM [load_ansys_project]: \tOpened Ansys App\n",
      "INFO 03:15AM [load_ansys_project]: \tOpened Ansys Desktop v2023.1.0\n",
      "INFO 03:15AM [load_ansys_project]: \tOpened Ansys Project\n",
      "\tFolder:    D:/Users/e196203/Desktop/Simulações/qiskit metal/Three coupled resonators/\n",
      "\tProject:   Simulating components\n",
      "INFO 03:15AM [connect_design]: \tOpened active design\n",
      "\tDesign:    Resonator [Solution type: Eigenmode]\n",
      "INFO 03:15AM [get_setup]: \tOpened setup `Setup`  (<class 'pyEPR.ansys.HfssEMSetup'>)\n",
      "INFO 03:15AM [connect]: \tConnected to project \"Simulating components\" and design \"Resonator\" 😀 \n",
      "\n"
     ]
    }
   ],
   "source": [
    "ansys.connect_ansys()"
   ]
  },
  {
   "cell_type": "code",
   "execution_count": 385,
   "metadata": {},
   "outputs": [
    {
     "name": "stderr",
     "output_type": "stream",
     "text": [
      "12:19PM 16s WARNING [activate_drivenmodal_design]: This method is deprecated. Change your scripts to use activate_ansys_design()\n",
      "INFO 12:19PM [connect_design]: \tOpened active design\n",
      "\tDesign:    S parameter [Solution type: HFSS Hybrid Modal Network]\n",
      "12:19PM 16s WARNING [activate_ansys_design]: The design_name=S parameter already exists, but it has solution_type==hfss hybrid modal network, which is different from the requested==drivenmodal. If you want a design with solution type==drivenmodal, please change the name requested for your design to one that does not exist. Alternatively, manually modify the solution_type for design S parameter from the Ansys GUI.\n"
     ]
    }
   ],
   "source": [
    "ansys.activate_drivenmodal_design('S parameter')"
   ]
  },
  {
   "cell_type": "code",
   "execution_count": 386,
   "metadata": {},
   "outputs": [],
   "source": [
    "ansys.clean_active_design()\n",
    "ansys.render_design(\n",
    "    selection=['RES1','CAP1','CAP2'],\n",
    "    open_pins=[],\n",
    "    port_list=[('CAP2','south_end',50),('CAP1','south_end',50)]\n",
    ")"
   ]
  },
  {
   "cell_type": "code",
   "execution_count": 131,
   "metadata": {},
   "outputs": [
    {
     "name": "stdout",
     "output_type": "stream",
     "text": [
      "\u001b[1;31mSignature:\u001b[0m\n",
      "\u001b[0mansys\u001b[0m\u001b[1;33m.\u001b[0m\u001b[0madd_drivenmodal_setup\u001b[0m\u001b[1;33m(\u001b[0m\u001b[1;33m\n",
      "\u001b[0m    \u001b[0mname\u001b[0m\u001b[1;33m:\u001b[0m \u001b[0mstr\u001b[0m \u001b[1;33m=\u001b[0m \u001b[1;32mNone\u001b[0m\u001b[1;33m,\u001b[0m\u001b[1;33m\n",
      "\u001b[0m    \u001b[0mfreq_ghz\u001b[0m\u001b[1;33m:\u001b[0m \u001b[0mint\u001b[0m \u001b[1;33m=\u001b[0m \u001b[1;32mNone\u001b[0m\u001b[1;33m,\u001b[0m\u001b[1;33m\n",
      "\u001b[0m    \u001b[0mmax_delta_s\u001b[0m\u001b[1;33m:\u001b[0m \u001b[0mfloat\u001b[0m \u001b[1;33m=\u001b[0m \u001b[1;32mNone\u001b[0m\u001b[1;33m,\u001b[0m\u001b[1;33m\n",
      "\u001b[0m    \u001b[0mmax_passes\u001b[0m\u001b[1;33m:\u001b[0m \u001b[0mint\u001b[0m \u001b[1;33m=\u001b[0m \u001b[1;32mNone\u001b[0m\u001b[1;33m,\u001b[0m\u001b[1;33m\n",
      "\u001b[0m    \u001b[0mmin_passes\u001b[0m\u001b[1;33m:\u001b[0m \u001b[0mint\u001b[0m \u001b[1;33m=\u001b[0m \u001b[1;32mNone\u001b[0m\u001b[1;33m,\u001b[0m\u001b[1;33m\n",
      "\u001b[0m    \u001b[0mmin_converged\u001b[0m\u001b[1;33m:\u001b[0m \u001b[0mint\u001b[0m \u001b[1;33m=\u001b[0m \u001b[1;32mNone\u001b[0m\u001b[1;33m,\u001b[0m\u001b[1;33m\n",
      "\u001b[0m    \u001b[0mpct_refinement\u001b[0m\u001b[1;33m:\u001b[0m \u001b[0mint\u001b[0m \u001b[1;33m=\u001b[0m \u001b[1;32mNone\u001b[0m\u001b[1;33m,\u001b[0m\u001b[1;33m\n",
      "\u001b[0m    \u001b[0mbasis_order\u001b[0m\u001b[1;33m:\u001b[0m \u001b[0mint\u001b[0m \u001b[1;33m=\u001b[0m \u001b[1;32mNone\u001b[0m\u001b[1;33m,\u001b[0m\u001b[1;33m\n",
      "\u001b[0m    \u001b[1;33m*\u001b[0m\u001b[0margs\u001b[0m\u001b[1;33m,\u001b[0m\u001b[1;33m\n",
      "\u001b[0m    \u001b[1;33m**\u001b[0m\u001b[0mkwargs\u001b[0m\u001b[1;33m,\u001b[0m\u001b[1;33m\n",
      "\u001b[0m\u001b[1;33m)\u001b[0m\u001b[1;33m\u001b[0m\u001b[1;33m\u001b[0m\u001b[0m\n",
      "\u001b[1;31mDocstring:\u001b[0m\n",
      "Create a solution setup in Ansys HFSS Driven Modal. If user does\n",
      "not provide arguments, they will be obtained from default_setup dict.\n",
      "\n",
      "Args:\n",
      "    name (str, optional): Name of driven modal setup. Defaults to None.\n",
      "    freq_ghz (int, optional): Frequency in GHz. Defaults to None.\n",
      "    max_delta_s (float, optional): Absolute value of maximum difference in scattering parameter S. Defaults to None.\n",
      "    max_passes (int, optional): Maximum number of passes. Defaults to None.\n",
      "    min_passes (int, optional): Minimum number of passes. Defaults to None.\n",
      "    min_converged (int, optional): Minimum number of converged passes. Defaults to None.\n",
      "    pct_refinement (int, optional): Percent refinement. Defaults to None.\n",
      "    basis_order (int, optional): Basis order. Defaults to None.\n",
      "\u001b[1;31mFile:\u001b[0m      d:\\users\\e196203\\.conda\\envs\\qiskit-metal\\lib\\site-packages\\qiskit_metal\\renderers\\renderer_ansys\\hfss_renderer.py\n",
      "\u001b[1;31mType:\u001b[0m      method"
     ]
    }
   ],
   "source": [
    "ansys.add_drivenmodal_setup?"
   ]
  },
  {
   "cell_type": "code",
   "execution_count": 388,
   "metadata": {},
   "outputs": [
    {
     "data": {
      "text/plain": [
       "<pyEPR.ansys.HfssDMSetup at 0x267eccb8ed0>"
      ]
     },
     "execution_count": 388,
     "metadata": {},
     "output_type": "execute_result"
    }
   ],
   "source": [
    "ansys.add_drivenmodal_setup(\n",
    "    name='Setup',\n",
    "    freq_ghz=3.8,\n",
    "    min_passes=12,\n",
    "    max_passes=25,\n",
    "    min_converged=5,\n",
    "    max_delta_s=0.002,\n",
    "    basis_order=-1\n",
    ")"
   ]
  },
  {
   "cell_type": "code",
   "execution_count": 389,
   "metadata": {},
   "outputs": [
    {
     "data": {
      "text/plain": [
       "True"
      ]
     },
     "execution_count": 389,
     "metadata": {},
     "output_type": "execute_result"
    }
   ],
   "source": [
    "gui.main_window.close()"
   ]
  }
 ],
 "metadata": {
  "kernelspec": {
   "display_name": "qiskit-metal",
   "language": "python",
   "name": "python3"
  },
  "language_info": {
   "codemirror_mode": {
    "name": "ipython",
    "version": 3
   },
   "file_extension": ".py",
   "mimetype": "text/x-python",
   "name": "python",
   "nbconvert_exporter": "python",
   "pygments_lexer": "ipython3",
   "version": "3.11.10"
  }
 },
 "nbformat": 4,
 "nbformat_minor": 2
}
