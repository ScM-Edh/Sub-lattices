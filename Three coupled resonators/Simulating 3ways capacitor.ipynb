{
 "cells": [
  {
   "cell_type": "code",
   "execution_count": 1,
   "metadata": {},
   "outputs": [],
   "source": [
    "%load_ext autoreload\n",
    "%autoreload 2"
   ]
  },
  {
   "cell_type": "code",
   "execution_count": 3,
   "metadata": {},
   "outputs": [],
   "source": [
    "from qiskit_metal import Dict, designs, MetalGUI\n",
    "from ThreeWaysCapacitor import TriCapacitor"
   ]
  },
  {
   "cell_type": "markdown",
   "metadata": {},
   "source": [
    "# Design"
   ]
  },
  {
   "cell_type": "code",
   "execution_count": 3,
   "metadata": {},
   "outputs": [],
   "source": [
    "capdesign = designs.DesignPlanar(overwrite_enabled=True)"
   ]
  },
  {
   "cell_type": "code",
   "execution_count": 4,
   "metadata": {},
   "outputs": [],
   "source": [
    "gui = MetalGUI(capdesign)"
   ]
  },
  {
   "cell_type": "code",
   "execution_count": 5,
   "metadata": {},
   "outputs": [],
   "source": [
    "capdesign.variables['cpw_width']='20um'\n",
    "capdesign.variables['cpw_gap']='12um'"
   ]
  },
  {
   "cell_type": "code",
   "execution_count": 15,
   "metadata": {},
   "outputs": [],
   "source": [
    "cap_opt = Dict(\n",
    "    cap_gap='10um',\n",
    "    cap_length='80um',\n",
    "    cpw_length='5um'\n",
    ")\n",
    "central_cap = TriCapacitor(capdesign, 'CENTRAL', options=cap_opt)\n",
    "\n",
    "gui.rebuild()\n",
    "gui.zoom_on_components(['CENTRAL'])"
   ]
  },
  {
   "cell_type": "code",
   "execution_count": 16,
   "metadata": {},
   "outputs": [
    {
     "data": {
      "text/plain": [
       "\u001b[95m\u001b[1mname:    \u001b[94m\u001b[1mCENTRAL\u001b[0m\n",
       "\u001b[95m\u001b[1mclass:   \u001b[94m\u001b[1mTriCapacitor          \u001b[0m\n",
       "\u001b[95m\u001b[1moptions: \u001b[0m\n",
       "  'pos_x'             : '0um',                        \n",
       "  'pos_y'             : '0um',                        \n",
       "  'orientation'       : '0',                          \n",
       "  'chip'              : 'main',                       \n",
       "  'layer'             : '1',                          \n",
       "  'cap_length'        : '80um',                       \n",
       "  'cap_gap'           : '10um',                       \n",
       "  'cpw_width'         : '20um',                       \n",
       "  'cpw_length'        : '5um',                        \n",
       "  'cpw_gap'           : '12um',                       \n",
       "  'gap_to_gnd'        : '12um',                       \n",
       "  'hfss_wire_bonds'   : False,                        \n",
       "  'q3d_wire_bonds'    : False,                        \n",
       "\u001b[95m\u001b[1mmodule:  \u001b[94m\u001b[1mThreeWaysCapacitor\u001b[0m\n",
       "\u001b[95m\u001b[1mid:      \u001b[94m\u001b[1m2\u001b[0m"
      ]
     },
     "execution_count": 16,
     "metadata": {},
     "output_type": "execute_result"
    }
   ],
   "source": [
    "#TriCapacitor.get_template_options(capdesign)\n",
    "central_cap"
   ]
  },
  {
   "cell_type": "markdown",
   "metadata": {},
   "source": [
    "# Q3D"
   ]
  },
  {
   "cell_type": "code",
   "execution_count": 8,
   "metadata": {},
   "outputs": [],
   "source": [
    "from qiskit_metal import renderers"
   ]
  },
  {
   "cell_type": "code",
   "execution_count": 9,
   "metadata": {},
   "outputs": [],
   "source": [
    "ansys = capdesign.renderers.q3d"
   ]
  },
  {
   "cell_type": "code",
   "execution_count": 10,
   "metadata": {},
   "outputs": [
    {
     "name": "stderr",
     "output_type": "stream",
     "text": [
      "INFO 05:49PM [connect_project]: Connecting to Ansys Desktop API...\n",
      "INFO 05:49PM [load_ansys_project]: \tOpened Ansys App\n",
      "INFO 05:49PM [load_ansys_project]: \tOpened Ansys Desktop v2023.1.0\n",
      "INFO 05:49PM [load_ansys_project]: \tOpened Ansys Project\n",
      "\tFolder:    D:/Users/e196203/Documents/Ansoft/\n",
      "\tProject:   Project9\n",
      "INFO 05:49PM [connect_design]: \tOpened active design\n",
      "\tDesign:    Sweep_Capacitance [Solution type: Q3D]\n",
      "INFO 05:49PM [get_setup]: \tOpened setup `Setup`  (<class 'pyEPR.ansys.AnsysQ3DSetup'>)\n",
      "INFO 05:49PM [connect]: \tConnected to project \"Project9\" and design \"Sweep_Capacitance\" 😀 \n",
      "\n"
     ]
    }
   ],
   "source": [
    "ansys.connect_ansys()"
   ]
  },
  {
   "cell_type": "code",
   "execution_count": 35,
   "metadata": {},
   "outputs": [
    {
     "name": "stderr",
     "output_type": "stream",
     "text": [
      "05:44PM 48s WARNING [activate_q3d_design]: This method is deprecated. Change your scripts to use activate_ansys_design()\n",
      "INFO 05:44PM [connect_design]: \tOpened active design\n",
      "\tDesign:    3ways_capacitor [Solution type: Q3D]\n"
     ]
    }
   ],
   "source": [
    "ansys.activate_q3d_design('3ways_capacitor')"
   ]
  },
  {
   "cell_type": "code",
   "execution_count": 36,
   "metadata": {},
   "outputs": [],
   "source": [
    "ansys.clean_active_design()\n",
    "ansys.render_design()"
   ]
  },
  {
   "cell_type": "code",
   "execution_count": 14,
   "metadata": {},
   "outputs": [
    {
     "data": {
      "text/plain": [
       "<pyEPR.ansys.AnsysQ3DSetup at 0x182faaf7610>"
      ]
     },
     "execution_count": 14,
     "metadata": {},
     "output_type": "execute_result"
    }
   ],
   "source": [
    "ansys.add_q3d_setup(\n",
    "    name='Capacitance',\n",
    "    freq_ghz=7.2,\n",
    "    min_passes=2,\n",
    "    max_passes=15,\n",
    "    percent_error=0.2\n",
    ")"
   ]
  },
  {
   "cell_type": "code",
   "execution_count": 15,
   "metadata": {},
   "outputs": [
    {
     "name": "stderr",
     "output_type": "stream",
     "text": [
      "INFO 05:09PM [get_setup]: \tOpened setup `Capacitance`  (<class 'pyEPR.ansys.AnsysQ3DSetup'>)\n"
     ]
    }
   ],
   "source": [
    "ansys.activate_ansys_setup('Capacitance')"
   ]
  },
  {
   "cell_type": "code",
   "execution_count": 21,
   "metadata": {},
   "outputs": [
    {
     "name": "stderr",
     "output_type": "stream",
     "text": [
      "INFO 05:15PM [get_setup]: \tOpened setup `Capacitance`  (<class 'pyEPR.ansys.AnsysQ3DSetup'>)\n",
      "INFO 05:15PM [analyze]: Analyzing setup Capacitance\n"
     ]
    }
   ],
   "source": [
    "ansys.analyze_setup('Capacitance')"
   ]
  },
  {
   "cell_type": "code",
   "execution_count": 22,
   "metadata": {},
   "outputs": [
    {
     "name": "stderr",
     "output_type": "stream",
     "text": [
      "INFO 05:17PM [get_matrix]: Exporting matrix data to (D:\\Users\\e196203\\AppData\\Local\\Temp\\2\\tmpb7x2f2yg.txt, C, , Capacitance:LastAdaptive, \"Original\", \"ohm\", \"nH\", \"fF\", \"mSie\", 7200000000, Maxwell, 1, False\n"
     ]
    },
    {
     "data": {
      "text/plain": [
       "(                   cpw1_CENTRAL  cpw2_CENTRAL  cpw3_CENTRAL  ground_main_plane\n",
       " cpw1_CENTRAL           40.11240      -7.40813      -7.39559          -24.58060\n",
       " cpw2_CENTRAL           -7.40813      40.12814      -7.40118          -24.62834\n",
       " cpw3_CENTRAL           -7.39559      -7.40118      40.11758          -24.61797\n",
       " ground_main_plane     -24.58060     -24.62834     -24.61797          111.44891,\n",
       " 'fF')"
      ]
     },
     "execution_count": 22,
     "metadata": {},
     "output_type": "execute_result"
    }
   ],
   "source": [
    "ansys.get_capacitance_matrix()"
   ]
  },
  {
   "cell_type": "markdown",
   "metadata": {},
   "source": [
    "# Sweep"
   ]
  },
  {
   "cell_type": "code",
   "execution_count": 11,
   "metadata": {},
   "outputs": [],
   "source": [
    "from qiskit_metal.analyses.sweep_and_optimize.sweeping import Sweeping\n",
    "\n",
    "sweep = Sweeping(capdesign)"
   ]
  },
  {
   "cell_type": "code",
   "execution_count": 13,
   "metadata": {},
   "outputs": [
    {
     "name": "stderr",
     "output_type": "stream",
     "text": [
      "INFO 05:50PM [connect_project]: Connecting to Ansys Desktop API...\n",
      "INFO 05:50PM [load_ansys_project]: \tOpened Ansys App\n",
      "INFO 05:50PM [load_ansys_project]: \tOpened Ansys Desktop v2023.1.0\n",
      "INFO 05:50PM [load_ansys_project]: \tOpened Ansys Project\n",
      "\tFolder:    D:/Users/e196203/Documents/Ansoft/\n",
      "\tProject:   Project9\n",
      "INFO 05:50PM [connect_design]: \tOpened active design\n",
      "\tDesign:    Sweep_Capacitance [Solution type: Q3D]\n",
      "INFO 05:50PM [get_setup]: \tOpened setup `Setup`  (<class 'pyEPR.ansys.AnsysQ3DSetup'>)\n",
      "INFO 05:50PM [connect]: \tConnected to project \"Project9\" and design \"Sweep_Capacitance\" 😀 \n",
      "\n",
      "INFO 05:50PM [connect_design]: \tOpened active design\n",
      "\tDesign:    Sweep_Capacitance [Solution type: Q3D]\n",
      "INFO 05:50PM [get_setup]: \tOpened setup `Sweep_q3d_setup`  (<class 'pyEPR.ansys.AnsysQ3DSetup'>)\n",
      "INFO 05:50PM [get_setup]: \tOpened setup `Sweep_q3d_setup`  (<class 'pyEPR.ansys.AnsysQ3DSetup'>)\n",
      "INFO 05:50PM [analyze]: Analyzing setup Sweep_q3d_setup\n",
      "INFO 05:51PM [get_matrix]: Exporting matrix data to (D:\\Users\\e196203\\AppData\\Local\\Temp\\2\\tmpw6mdkg94.txt, C, , Sweep_q3d_setup:LastAdaptive, \"Original\", \"ohm\", \"nH\", \"fF\", \"mSie\", 7200000000, Maxwell, 1, False\n",
      "INFO 05:51PM [get_setup]: \tOpened setup `Sweep_q3d_setup`  (<class 'pyEPR.ansys.AnsysQ3DSetup'>)\n",
      "INFO 05:51PM [analyze]: Analyzing setup Sweep_q3d_setup\n",
      "INFO 05:52PM [get_matrix]: Exporting matrix data to (D:\\Users\\e196203\\AppData\\Local\\Temp\\2\\tmpey8r7zte.txt, C, , Sweep_q3d_setup:LastAdaptive, \"Original\", \"ohm\", \"nH\", \"fF\", \"mSie\", 7200000000, Maxwell, 1, False\n",
      "INFO 05:52PM [get_setup]: \tOpened setup `Sweep_q3d_setup`  (<class 'pyEPR.ansys.AnsysQ3DSetup'>)\n",
      "INFO 05:52PM [analyze]: Analyzing setup Sweep_q3d_setup\n",
      "INFO 05:53PM [get_matrix]: Exporting matrix data to (D:\\Users\\e196203\\AppData\\Local\\Temp\\2\\tmpy93y4so6.txt, C, , Sweep_q3d_setup:LastAdaptive, \"Original\", \"ohm\", \"nH\", \"fF\", \"mSie\", 7200000000, Maxwell, 1, False\n",
      "INFO 05:53PM [get_setup]: \tOpened setup `Sweep_q3d_setup`  (<class 'pyEPR.ansys.AnsysQ3DSetup'>)\n",
      "INFO 05:53PM [analyze]: Analyzing setup Sweep_q3d_setup\n",
      "INFO 05:54PM [get_matrix]: Exporting matrix data to (D:\\Users\\e196203\\AppData\\Local\\Temp\\2\\tmpbtae3zcl.txt, C, , Sweep_q3d_setup:LastAdaptive, \"Original\", \"ohm\", \"nH\", \"fF\", \"mSie\", 7200000000, Maxwell, 1, False\n",
      "INFO 05:54PM [get_setup]: \tOpened setup `Sweep_q3d_setup`  (<class 'pyEPR.ansys.AnsysQ3DSetup'>)\n",
      "INFO 05:54PM [analyze]: Analyzing setup Sweep_q3d_setup\n",
      "INFO 05:55PM [get_matrix]: Exporting matrix data to (D:\\Users\\e196203\\AppData\\Local\\Temp\\2\\tmp795qhmcw.txt, C, , Sweep_q3d_setup:LastAdaptive, \"Original\", \"ohm\", \"nH\", \"fF\", \"mSie\", 7200000000, Maxwell, 1, False\n",
      "INFO 05:55PM [get_setup]: \tOpened setup `Sweep_q3d_setup`  (<class 'pyEPR.ansys.AnsysQ3DSetup'>)\n",
      "INFO 05:55PM [analyze]: Analyzing setup Sweep_q3d_setup\n",
      "INFO 05:56PM [get_matrix]: Exporting matrix data to (D:\\Users\\e196203\\AppData\\Local\\Temp\\2\\tmpgyujuhpe.txt, C, , Sweep_q3d_setup:LastAdaptive, \"Original\", \"ohm\", \"nH\", \"fF\", \"mSie\", 7200000000, Maxwell, 1, False\n"
     ]
    }
   ],
   "source": [
    "setup_args=Dict(\n",
    "    freq_ghz=7.2,\n",
    "    min_passes=2,\n",
    "    max_passes=15,\n",
    "    percent_error=0.2\n",
    ")\n",
    "\n",
    "all_sweep, retorn_code = sweep.sweep_one_option_get_capacitance_matrix(\n",
    "    qcomp_name='CENTRAL',\n",
    "    option_name='cap_length',\n",
    "    option_sweep=['65um','70um','75um','80um','85um','90um'],\n",
    "    qcomp_render=['CENTRAL'],\n",
    "    endcaps_render=[],\n",
    "    setup_args=setup_args\n",
    ")"
   ]
  },
  {
   "cell_type": "code",
   "execution_count": 14,
   "metadata": {},
   "outputs": [
    {
     "data": {
      "text/plain": [
       "{'65um': {'option_name': 'cap_length',\n",
       "  'convergence_target': 0.2,\n",
       "  'convergence_current': 0.19389,\n",
       "  'min_number_passes': 2,\n",
       "  'is_convergence': True,\n",
       "  'capacitance': (                   cpw1_CENTRAL  cpw2_CENTRAL  cpw3_CENTRAL  ground_main_plane\n",
       "   cpw1_CENTRAL           22.19007      -3.87552      -3.87131          -14.07593\n",
       "   cpw2_CENTRAL           -3.87552      22.19266      -3.86848          -14.08382\n",
       "   cpw3_CENTRAL           -3.87131      -3.86848      22.19318          -14.08666\n",
       "   ground_main_plane     -14.07593     -14.08382     -14.08666           77.57424,\n",
       "   'fF'),\n",
       "  'convergence_data':       # Triangle  Delta %\n",
       "  Pass                     \n",
       "  1             78      NaN\n",
       "  2            236  3.00520\n",
       "  3            642  3.87110\n",
       "  4           1476  0.88911\n",
       "  5           1876  0.41586\n",
       "  6           2410  0.24522\n",
       "  7           3154  0.17688\n",
       "  8           4266  0.19389},\n",
       " '70um': {'option_name': 'cap_length',\n",
       "  'convergence_target': 0.2,\n",
       "  'convergence_current': 0.14595,\n",
       "  'min_number_passes': 2,\n",
       "  'is_convergence': True,\n",
       "  'capacitance': (                   cpw1_CENTRAL  cpw2_CENTRAL  cpw3_CENTRAL  ground_main_plane\n",
       "   cpw1_CENTRAL           24.64435      -4.36614      -4.36296          -15.49739\n",
       "   cpw2_CENTRAL           -4.36614      24.65320      -4.36701          -15.50990\n",
       "   cpw3_CENTRAL           -4.36296      -4.36701      24.64619          -15.48055\n",
       "   ground_main_plane     -15.49739     -15.50990     -15.48055           81.85245,\n",
       "   'fF'),\n",
       "  'convergence_data':       # Triangle  Delta %\n",
       "  Pass                     \n",
       "  1             78      NaN\n",
       "  2            236  3.25700\n",
       "  3            648  3.32950\n",
       "  4           1506  0.89563\n",
       "  5           1918  0.43357\n",
       "  6           2478  0.25841\n",
       "  7           3208  0.19504\n",
       "  8           4364  0.20101\n",
       "  9           5860  0.11671\n",
       "  10          7640  0.14595},\n",
       " '75um': {'option_name': 'cap_length',\n",
       "  'convergence_target': 0.2,\n",
       "  'convergence_current': 0.19945,\n",
       "  'min_number_passes': 2,\n",
       "  'is_convergence': True,\n",
       "  'capacitance': (                   cpw1_CENTRAL  cpw2_CENTRAL  cpw3_CENTRAL  ground_main_plane\n",
       "   cpw1_CENTRAL           26.82672      -4.80218      -4.78946          -16.77586\n",
       "   cpw2_CENTRAL           -4.80218      26.82510      -4.79781          -16.75978\n",
       "   cpw3_CENTRAL           -4.78946      -4.79781      26.83043          -16.77565\n",
       "   ground_main_plane     -16.77586     -16.75978     -16.77565           86.38719,\n",
       "   'fF'),\n",
       "  'convergence_data':       # Triangle  Delta %\n",
       "  Pass                     \n",
       "  1             78      NaN\n",
       "  2            242  3.47910\n",
       "  3            678  2.75280\n",
       "  4           1570  0.84627\n",
       "  5           1972  0.53080\n",
       "  6           2526  0.29068\n",
       "  7           3308  0.19977\n",
       "  8           4500  0.19945},\n",
       " '80um': {'option_name': 'cap_length',\n",
       "  'convergence_target': 0.2,\n",
       "  'convergence_current': 0.15223,\n",
       "  'min_number_passes': 2,\n",
       "  'is_convergence': True,\n",
       "  'capacitance': (                   cpw1_CENTRAL  cpw2_CENTRAL  cpw3_CENTRAL  ground_main_plane\n",
       "   cpw1_CENTRAL           29.30178      -5.30559      -5.30845          -18.17164\n",
       "   cpw2_CENTRAL           -5.30559      29.32408      -5.31537          -18.17713\n",
       "   cpw3_CENTRAL           -5.30845      -5.31537      29.32665          -18.18978\n",
       "   ground_main_plane     -18.17164     -18.17713     -18.18978           90.86663,\n",
       "   'fF'),\n",
       "  'convergence_data':       # Triangle  Delta %\n",
       "  Pass                     \n",
       "  1             78      NaN\n",
       "  2            242  3.74500\n",
       "  3            688  2.22660\n",
       "  4           1590  0.77373\n",
       "  5           2016  0.44182\n",
       "  6           2544  0.27681\n",
       "  7           3366  0.26796\n",
       "  8           4578  0.14968\n",
       "  9           6108  0.15223},\n",
       " '85um': {'option_name': 'cap_length',\n",
       "  'convergence_target': 0.2,\n",
       "  'convergence_current': 0.16593,\n",
       "  'min_number_passes': 2,\n",
       "  'is_convergence': True,\n",
       "  'capacitance': (                   cpw1_CENTRAL  cpw2_CENTRAL  cpw3_CENTRAL  ground_main_plane\n",
       "   cpw1_CENTRAL           31.62445      -5.76551      -5.77207          -19.51953\n",
       "   cpw2_CENTRAL           -5.76551      31.63750      -5.77307          -19.52836\n",
       "   cpw3_CENTRAL           -5.77207      -5.77307      31.62820          -19.52463\n",
       "   ground_main_plane     -19.51953     -19.52836     -19.52463           95.34960,\n",
       "   'fF'),\n",
       "  'convergence_data':       # Triangle  Delta %\n",
       "  Pass                     \n",
       "  1             78      NaN\n",
       "  2            246  4.22910\n",
       "  3            660  2.43600\n",
       "  4           1578  1.02770\n",
       "  5           2000  0.44345\n",
       "  6           2602  0.25008\n",
       "  7           3392  0.17220\n",
       "  8           4592  0.16593},\n",
       " '90um': {'option_name': 'cap_length',\n",
       "  'convergence_target': 0.2,\n",
       "  'convergence_current': 0.16634,\n",
       "  'min_number_passes': 2,\n",
       "  'is_convergence': True,\n",
       "  'capacitance': (                   cpw1_CENTRAL  cpw2_CENTRAL  cpw3_CENTRAL  ground_main_plane\n",
       "   cpw1_CENTRAL           34.02639      -6.25266      -6.26324          -20.89048\n",
       "   cpw2_CENTRAL           -6.25266      34.04042      -6.25270          -20.92019\n",
       "   cpw3_CENTRAL           -6.26324      -6.25270      34.03174          -20.90909\n",
       "   ground_main_plane     -20.89048     -20.92019     -20.90909           99.95810,\n",
       "   'fF'),\n",
       "  'convergence_data':       # Triangle  Delta %\n",
       "  Pass                     \n",
       "  1             78      NaN\n",
       "  2            236  4.05560\n",
       "  3            620  2.27230\n",
       "  4           1476  0.99697\n",
       "  5           1862  0.50874\n",
       "  6           2448  0.27288\n",
       "  7           3200  0.19617\n",
       "  8           4278  0.16634}}"
      ]
     },
     "execution_count": 14,
     "metadata": {},
     "output_type": "execute_result"
    }
   ],
   "source": [
    "all_sweep"
   ]
  },
  {
   "cell_type": "code",
   "execution_count": 4,
   "metadata": {},
   "outputs": [
    {
     "ename": "NameError",
     "evalue": "name 'ansys' is not defined",
     "output_type": "error",
     "traceback": [
      "\u001b[1;31m---------------------------------------------------------------------------\u001b[0m",
      "\u001b[1;31mNameError\u001b[0m                                 Traceback (most recent call last)",
      "Cell \u001b[1;32mIn[4], line 1\u001b[0m\n\u001b[1;32m----> 1\u001b[0m \u001b[43mansys\u001b[49m\u001b[38;5;241m.\u001b[39mdisconnect_ansys()\n",
      "\u001b[1;31mNameError\u001b[0m: name 'ansys' is not defined"
     ]
    }
   ],
   "source": [
    "ansys.disconnect_ansys()"
   ]
  }
 ],
 "metadata": {
  "kernelspec": {
   "display_name": "qiskit-metal",
   "language": "python",
   "name": "python3"
  },
  "language_info": {
   "codemirror_mode": {
    "name": "ipython",
    "version": 3
   },
   "file_extension": ".py",
   "mimetype": "text/x-python",
   "name": "python",
   "nbconvert_exporter": "python",
   "pygments_lexer": "ipython3",
   "version": "3.11.10"
  }
 },
 "nbformat": 4,
 "nbformat_minor": 2
}
