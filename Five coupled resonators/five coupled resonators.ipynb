{
 "cells": [
  {
   "cell_type": "code",
   "execution_count": 1,
   "metadata": {},
   "outputs": [],
   "source": [
    "%load_ext autoreload\n",
    "%autoreload 2"
   ]
  },
  {
   "cell_type": "code",
   "execution_count": 2,
   "metadata": {},
   "outputs": [],
   "source": [
    "import qiskit_metal as metal\n",
    "from qiskit_metal import Dict, designs, MetalGUI"
   ]
  },
  {
   "cell_type": "code",
   "execution_count": 3,
   "metadata": {},
   "outputs": [],
   "source": [
    "design = designs.DesignPlanar(overwrite_enabled=True)"
   ]
  },
  {
   "cell_type": "code",
   "execution_count": 4,
   "metadata": {},
   "outputs": [],
   "source": [
    "gui = MetalGUI(design)"
   ]
  },
  {
   "cell_type": "code",
   "execution_count": 5,
   "metadata": {},
   "outputs": [],
   "source": [
    "design.variables['cpw_width']='20um'\n",
    "design.variables['cpw_gap']='12um'"
   ]
  },
  {
   "cell_type": "markdown",
   "metadata": {},
   "source": [
    "# Capacitors"
   ]
  },
  {
   "cell_type": "code",
   "execution_count": 6,
   "metadata": {},
   "outputs": [
    {
     "data": {
      "text/plain": [
       "{'pos_x': '0um',\n",
       " 'pos_y': '0um',\n",
       " 'orientation': '0',\n",
       " 'chip': 'main',\n",
       " 'layer': '1',\n",
       " 'cap_length': '50um',\n",
       " 'cap_gap': '2um',\n",
       " 'cpw_width': '20um',\n",
       " 'cpw_length': '10um',\n",
       " 'cpw_gap': '12um',\n",
       " 'gap_to_gnd': '12um',\n",
       " 'hfss_wire_bonds': False,\n",
       " 'q3d_wire_bonds': False}"
      ]
     },
     "execution_count": 6,
     "metadata": {},
     "output_type": "execute_result"
    }
   ],
   "source": [
    "from ThreeWaysCapacitor import TriCapacitor\n",
    "TriCapacitor.get_template_options(design)"
   ]
  },
  {
   "cell_type": "code",
   "execution_count": 7,
   "metadata": {},
   "outputs": [],
   "source": [
    "cap_opt = Dict(\n",
    "    cap_gap='10um',\n",
    "    cap_length='80um',\n",
    "    cpw_length='13um',\n",
    "    orientation='0'\n",
    ")\n",
    "\n",
    "cap_opt.pos_y='-3.4mm'\n",
    "cap1 = TriCapacitor(design, 'CAP1', options=cap_opt)\n",
    "\n",
    "cap_opt.pos_y='-1.05mm'\n",
    "cap_opt.pos_x='3.24mm'\n",
    "cap_opt.orientation='72'\n",
    "cap2 = TriCapacitor(design, 'CAP2', options=cap_opt)\n",
    "\n",
    "cap_opt.pos_y='2.75mm'\n",
    "cap_opt.pos_x='2mm'\n",
    "cap_opt.orientation='144'\n",
    "cap3 = TriCapacitor(design, 'CAP3', options=cap_opt)\n",
    "\n",
    "cap_opt.pos_x='-2mm'\n",
    "cap_opt.orientation='-144'\n",
    "cap4 = TriCapacitor(design, 'CAP4', options=cap_opt)\n",
    "\n",
    "cap_opt.pos_y='-1.05mm'\n",
    "cap_opt.pos_x='-3.24mm'\n",
    "cap_opt.orientation='-72'\n",
    "cap5 = TriCapacitor(design, 'CAP5', options=cap_opt)\n",
    "\n",
    "gui.rebuild()\n",
    "gui.autoscale()"
   ]
  },
  {
   "cell_type": "code",
   "execution_count": 8,
   "metadata": {},
   "outputs": [
    {
     "data": {
      "text/plain": [
       "\u001b[95m\u001b[1mname:    \u001b[94m\u001b[1mCAP1\u001b[0m\n",
       "\u001b[95m\u001b[1mclass:   \u001b[94m\u001b[1mTriCapacitor          \u001b[0m\n",
       "\u001b[95m\u001b[1moptions: \u001b[0m\n",
       "  'pos_x'             : '0um',                        \n",
       "  'pos_y'             : '0um',                        \n",
       "  'orientation'       : '90',                         \n",
       "  'chip'              : 'main',                       \n",
       "  'layer'             : '1',                          \n",
       "  'cap_length'        : '80um',                       \n",
       "  'cap_gap'           : '10um',                       \n",
       "  'cpw_width'         : '20um',                       \n",
       "  'cpw_length'        : '13um',                       \n",
       "  'cpw_gap'           : '12um',                       \n",
       "  'gap_to_gnd'        : '12um',                       \n",
       "  'hfss_wire_bonds'   : False,                        \n",
       "  'q3d_wire_bonds'    : False,                        \n",
       "\u001b[95m\u001b[1mmodule:  \u001b[94m\u001b[1mThreeWaysCapacitor\u001b[0m\n",
       "\u001b[95m\u001b[1mid:      \u001b[94m\u001b[1m1\u001b[0m"
      ]
     },
     "execution_count": 8,
     "metadata": {},
     "output_type": "execute_result"
    }
   ],
   "source": [
    "cap1"
   ]
  },
  {
   "cell_type": "markdown",
   "metadata": {},
   "source": [
    "# Resonators"
   ]
  },
  {
   "cell_type": "code",
   "execution_count": 8,
   "metadata": {},
   "outputs": [
    {
     "data": {
      "text/plain": [
       "{'chip': 'main',\n",
       " 'layer': '1',\n",
       " 'pin_inputs': {'start_pin': {'component': '', 'pin': ''},\n",
       "  'end_pin': {'component': '', 'pin': ''}},\n",
       " 'fillet': '0',\n",
       " 'lead': {'start_straight': '0mm',\n",
       "  'end_straight': '0mm',\n",
       "  'start_jogged_extension': '',\n",
       "  'end_jogged_extension': ''},\n",
       " 'total_length': '7mm',\n",
       " 'trace_width': 'cpw_width',\n",
       " 'meander': {'spacing': '200um', 'asymmetry': '0um'},\n",
       " 'snap': 'true',\n",
       " 'prevent_short_edges': 'true',\n",
       " 'hfss_wire_bonds': False,\n",
       " 'q3d_wire_bonds': False}"
      ]
     },
     "execution_count": 8,
     "metadata": {},
     "output_type": "execute_result"
    }
   ],
   "source": [
    "from qiskit_metal.qlibrary.tlines.meandered import RouteMeander\n",
    "RouteMeander.get_template_options(design)"
   ]
  },
  {
   "cell_type": "code",
   "execution_count": 18,
   "metadata": {},
   "outputs": [],
   "source": [
    "res_opt = Dict(\n",
    "    lead=Dict(\n",
    "        start_straight='1.2mm',\n",
    "        end_straight='0.7mm'\n",
    "    ),\n",
    "    fillet='130um',\n",
    "    total_length='16.8mm',\n",
    "    meander=Dict(spacing='280um'),\n",
    "    snap='false',\n",
    "    prevent_short_edges='false',\n",
    "    hfss_wire_bonds=True\n",
    ")\n",
    "\n",
    "res_opt.pin_inputs.start_pin.component='CAP1'\n",
    "res_opt.pin_inputs.start_pin.pin='pin_2'\n",
    "res_opt.pin_inputs.end_pin.component='CAP2'\n",
    "res_opt.pin_inputs.end_pin.pin='pin_3'\n",
    "res1 = RouteMeander(design, 'RES1', options=res_opt)\n",
    "\n",
    "res_opt.pin_inputs.start_pin.component='CAP2'\n",
    "res_opt.pin_inputs.start_pin.pin='pin_2'\n",
    "res_opt.pin_inputs.end_pin.component='CAP3'\n",
    "res_opt.pin_inputs.end_pin.pin='pin_3'\n",
    "res2 = RouteMeander(design, 'RES2', options=res_opt)\n",
    "\n",
    "res_opt.pin_inputs.start_pin.component='CAP3'\n",
    "res_opt.pin_inputs.start_pin.pin='pin_2'\n",
    "res_opt.pin_inputs.end_pin.component='CAP4'\n",
    "res_opt.pin_inputs.end_pin.pin='pin_3'\n",
    "res3 = RouteMeander(design, 'RES3', options=res_opt)\n",
    "\n",
    "res_opt.pin_inputs.start_pin.component='CAP4'\n",
    "res_opt.pin_inputs.start_pin.pin='pin_2'\n",
    "res_opt.pin_inputs.end_pin.component='CAP5'\n",
    "res_opt.pin_inputs.end_pin.pin='pin_3'\n",
    "res4 = RouteMeander(design, 'RES4', options=res_opt)\n",
    "\n",
    "res_opt.pin_inputs.start_pin.component='CAP5'\n",
    "res_opt.pin_inputs.start_pin.pin='pin_2'\n",
    "res_opt.pin_inputs.end_pin.component='CAP1'\n",
    "res_opt.pin_inputs.end_pin.pin='pin_3'\n",
    "res5 = RouteMeander(design, 'RES5', options=res_opt)\n",
    "\n",
    "gui.rebuild()\n",
    "gui.autoscale()\n",
    "#gui.zoom_on_components(['RES3'])"
   ]
  },
  {
   "cell_type": "markdown",
   "metadata": {},
   "source": [
    "# Lines"
   ]
  },
  {
   "cell_type": "code",
   "execution_count": 10,
   "metadata": {},
   "outputs": [
    {
     "data": {
      "text/plain": [
       "{'pos_x': '0.0um',\n",
       " 'pos_y': '0.0um',\n",
       " 'orientation': '0.0',\n",
       " 'chip': 'main',\n",
       " 'layer': '1',\n",
       " 'width': '10um',\n",
       " 'gap': '6um',\n",
       " 'termination_gap': '6um'}"
      ]
     },
     "execution_count": 10,
     "metadata": {},
     "output_type": "execute_result"
    }
   ],
   "source": [
    "from qiskit_metal.qlibrary.terminations.open_to_ground import OpenToGround\n",
    "OpenToGround.get_template_options(design)"
   ]
  },
  {
   "cell_type": "code",
   "execution_count": 22,
   "metadata": {},
   "outputs": [],
   "source": [
    "otg_opt = Dict(\n",
    "    pos_x='0mm',\n",
    "    pos_y='-4mm',\n",
    "    width='20um',\n",
    "    gap='12um',\n",
    "    termination_gap='12um',\n",
    "    orientation='-90'\n",
    ")\n",
    "\n",
    "otg1 = OpenToGround(design, 'OTG1', options=otg_opt)\n",
    "\n",
    "otg_opt.pos_x='4.2mm'\n",
    "otg_opt.pos_y='-1.2mm'\n",
    "otg_opt.orientation='0'\n",
    "otg2 = OpenToGround(design, 'OTG2', options=otg_opt)\n",
    "\n",
    "otg_opt.pos_x='2.6mm'\n",
    "otg_opt.pos_y='3mm'\n",
    "otg_opt.orientation='0'\n",
    "otg3 = OpenToGround(design, 'OTG3', options=otg_opt)\n",
    "\n",
    "otg_opt.pos_x='-2.6mm'\n",
    "otg_opt.pos_y='3mm'\n",
    "otg_opt.orientation='180'\n",
    "otg4 = OpenToGround(design, 'OTG4', options = otg_opt)\n",
    "\n",
    "otg_opt.pos_x='-4.2mm'\n",
    "otg_opt.pos_y='-1.2mm'\n",
    "otg_opt.orientation='180'\n",
    "otg5 = OpenToGround(design, 'OTG5', options=otg_opt)\n",
    "\n",
    "gui.rebuild()\n",
    "gui.autoscale()"
   ]
  },
  {
   "cell_type": "code",
   "execution_count": 12,
   "metadata": {},
   "outputs": [
    {
     "data": {
      "text/plain": [
       "{'chip': 'main',\n",
       " 'layer': '1',\n",
       " 'pin_inputs': {'start_pin': {'component': '', 'pin': ''},\n",
       "  'end_pin': {'component': '', 'pin': ''}},\n",
       " 'fillet': '0',\n",
       " 'lead': {'start_straight': '0mm',\n",
       "  'end_straight': '0mm',\n",
       "  'start_jogged_extension': '',\n",
       "  'end_jogged_extension': ''},\n",
       " 'total_length': '7mm',\n",
       " 'trace_width': 'cpw_width',\n",
       " 'hfss_wire_bonds': False,\n",
       " 'q3d_wire_bonds': False}"
      ]
     },
     "execution_count": 12,
     "metadata": {},
     "output_type": "execute_result"
    }
   ],
   "source": [
    "from qiskit_metal.qlibrary.tlines.straight_path import RouteStraight\n",
    "RouteStraight.get_template_options(design)"
   ]
  },
  {
   "cell_type": "code",
   "execution_count": 38,
   "metadata": {},
   "outputs": [],
   "source": [
    "line_opt = Dict(\n",
    "    pin_inputs=Dict(\n",
    "        start_pin=Dict(\n",
    "            component='CAP1',\n",
    "            pin='pin_1'\n",
    "        ),\n",
    "        end_pin=Dict(\n",
    "            component='OTG1',\n",
    "            pin='open'\n",
    "        )\n",
    "    ),\n",
    "    lead=Dict(\n",
    "        start_straight='0um',\n",
    "        end_straight='0um'\n",
    "    ),\n",
    "    fillet='200um'\n",
    ")\n",
    "\n",
    "line1 = RouteStraight(design, 'LINE1', options=line_opt)\n",
    "\n",
    "line_opt.pin_inputs.start_pin.component='CAP2'\n",
    "line_opt.pin_inputs.end_pin.component='OTG2'\n",
    "line_opt.lead.start_straight='200um'\n",
    "line_opt.lead.end_straight='200um'\n",
    "line2 = RouteStraight(design, 'LINE2', options=line_opt)\n",
    "\n",
    "line_opt.pin_inputs.start_pin.component='CAP3'\n",
    "line_opt.pin_inputs.end_pin.component='OTG3'\n",
    "line_opt.lead.start_straight='150um'\n",
    "line_opt.lead.end_straight='250um'\n",
    "line_opt.fillet='100um'\n",
    "line3 = RouteStraight(design, 'LINE3', options=line_opt)\n",
    "\n",
    "line_opt.pin_inputs.start_pin.component='CAP4'\n",
    "line_opt.pin_inputs.end_pin.component='OTG4'\n",
    "line_opt.lead.start_straight='150um'\n",
    "line_opt.lead.end_straight='250um'\n",
    "line_opt.fillet='100um'\n",
    "line4 = RouteStraight(design, 'LINE4', options=line_opt)\n",
    "\n",
    "line_opt.pin_inputs.start_pin.component='CAP5'\n",
    "line_opt.pin_inputs.end_pin.component='OTG5'\n",
    "line_opt.lead.start_straight='200um'\n",
    "line_opt.lead.end_straight='200um'\n",
    "line5 = RouteStraight(design, 'LINE5', options=line_opt)\n",
    "\n",
    "gui.rebuild()\n",
    "gui.autoscale()\n",
    "#gui.zoom_on_components(['LINE3'])"
   ]
  },
  {
   "cell_type": "markdown",
   "metadata": {},
   "source": [
    "# Simulating capacitor"
   ]
  },
  {
   "cell_type": "code",
   "execution_count": 39,
   "metadata": {},
   "outputs": [],
   "source": [
    "from qiskit_metal import renderers"
   ]
  },
  {
   "cell_type": "code",
   "execution_count": 40,
   "metadata": {},
   "outputs": [],
   "source": [
    "ansys = design.renderers.q3d"
   ]
  },
  {
   "cell_type": "code",
   "execution_count": 41,
   "metadata": {},
   "outputs": [
    {
     "name": "stderr",
     "output_type": "stream",
     "text": [
      "INFO 03:41PM [connect_project]: Connecting to Ansys Desktop API...\n",
      "INFO 03:41PM [load_ansys_project]: \tOpened Ansys App\n",
      "INFO 03:41PM [load_ansys_project]: \tOpened Ansys Desktop v2023.1.0\n",
      "INFO 03:41PM [load_ansys_project]: \tOpened Ansys Project\n",
      "\tFolder:    D:/Users/e196203/Desktop/Simulações/qiskit metal/Five coupled resonators/\n",
      "\tProject:   Simulating five coupled\n",
      "INFO 03:41PM [connect_design]: \tOpened active design\n",
      "\tDesign:    capacitance [Solution type: Q3D]\n",
      "INFO 03:41PM [get_setup]: \tOpened setup `Setup`  (<class 'pyEPR.ansys.AnsysQ3DSetup'>)\n",
      "INFO 03:41PM [connect]: \tConnected to project \"Simulating five coupled\" and design \"capacitance\" 😀 \n",
      "\n"
     ]
    }
   ],
   "source": [
    "ansys.connect_ansys()"
   ]
  },
  {
   "cell_type": "code",
   "execution_count": 42,
   "metadata": {},
   "outputs": [],
   "source": [
    "ansys.clean_active_design()\n",
    "ansys.render_design(selection=['CAP1'])"
   ]
  },
  {
   "cell_type": "code",
   "execution_count": 128,
   "metadata": {},
   "outputs": [
    {
     "data": {
      "text/plain": [
       "<pyEPR.ansys.AnsysQ3DSetup at 0x1db76333410>"
      ]
     },
     "execution_count": 128,
     "metadata": {},
     "output_type": "execute_result"
    }
   ],
   "source": [
    "ansys.add_q3d_setup(\n",
    "    name='capacitance',\n",
    "    freq_ghz=7.4,\n",
    "    min_passes=2,\n",
    "    max_passes=15,\n",
    "    percent_error=0.2\n",
    ")"
   ]
  },
  {
   "cell_type": "code",
   "execution_count": 43,
   "metadata": {},
   "outputs": [
    {
     "name": "stderr",
     "output_type": "stream",
     "text": [
      "INFO 03:44PM [get_setup]: \tOpened setup `capacitance`  (<class 'pyEPR.ansys.AnsysQ3DSetup'>)\n",
      "INFO 03:44PM [analyze]: Analyzing setup capacitance\n"
     ]
    }
   ],
   "source": [
    "ansys.analyze_setup('capacitance')"
   ]
  },
  {
   "cell_type": "code",
   "execution_count": 44,
   "metadata": {},
   "outputs": [
    {
     "name": "stderr",
     "output_type": "stream",
     "text": [
      "INFO 03:46PM [get_matrix]: Exporting matrix data to (D:\\Users\\e196203\\AppData\\Local\\Temp\\2\\tmpjri53psl.txt, C, , capacitance:LastAdaptive, \"Original\", \"ohm\", \"nH\", \"fF\", \"mSie\", 7400000000, Maxwell, 1, False\n"
     ]
    },
    {
     "data": {
      "text/plain": [
       "(                   cpw1_CAP1  cpw2_CAP1  cpw3_CAP1  ground_main_plane\n",
       " cpw1_CAP1           30.79622   -5.34609   -5.35105          -19.57486\n",
       " cpw2_CAP1           -5.34609   30.80051   -5.35427          -19.54301\n",
       " cpw3_CAP1           -5.35105   -5.35427   30.80188          -19.55491\n",
       " ground_main_plane  -19.57486  -19.54301  -19.55491           94.63777,\n",
       " 'fF')"
      ]
     },
     "execution_count": 44,
     "metadata": {},
     "output_type": "execute_result"
    }
   ],
   "source": [
    "ansys.get_capacitance_matrix()"
   ]
  },
  {
   "cell_type": "code",
   "execution_count": 45,
   "metadata": {},
   "outputs": [],
   "source": [
    "ansys.disconnect_ansys()"
   ]
  },
  {
   "cell_type": "markdown",
   "metadata": {},
   "source": [
    "# Eigenmode simulation"
   ]
  },
  {
   "cell_type": "code",
   "execution_count": 46,
   "metadata": {},
   "outputs": [],
   "source": [
    "ansys = design.renderers.hfss"
   ]
  },
  {
   "cell_type": "code",
   "execution_count": 47,
   "metadata": {},
   "outputs": [
    {
     "name": "stderr",
     "output_type": "stream",
     "text": [
      "INFO 03:46PM [connect_project]: Connecting to Ansys Desktop API...\n",
      "INFO 03:46PM [load_ansys_project]: \tOpened Ansys App\n",
      "INFO 03:46PM [load_ansys_project]: \tOpened Ansys Desktop v2023.1.0\n",
      "INFO 03:46PM [load_ansys_project]: \tOpened Ansys Project\n",
      "\tFolder:    D:/Users/e196203/Desktop/Simulações/qiskit metal/Five coupled resonators/\n",
      "\tProject:   Simulating five coupled\n",
      "INFO 03:46PM [connect_design]: \tOpened active design\n",
      "\tDesign:    capacitance [Solution type: Q3D]\n",
      "INFO 03:46PM [get_setup]: \tOpened setup `Setup`  (<class 'pyEPR.ansys.AnsysQ3DSetup'>)\n",
      "INFO 03:46PM [connect]: \tConnected to project \"Simulating five coupled\" and design \"capacitance\" 😀 \n",
      "\n"
     ]
    }
   ],
   "source": [
    "ansys.connect_ansys()"
   ]
  },
  {
   "cell_type": "code",
   "execution_count": 59,
   "metadata": {},
   "outputs": [
    {
     "name": "stderr",
     "output_type": "stream",
     "text": [
      "11:07AM 04s WARNING [activate_eigenmode_design]: This method is deprecated. Change your scripts to use activate_ansys_design()\n",
      "INFO 11:07AM [connect_design]: \tOpened active design\n",
      "\tDesign:    Resonator12 [Solution type: Eigenmode]\n"
     ]
    }
   ],
   "source": [
    "ansys.activate_eigenmode_design('Resonator12')"
   ]
  },
  {
   "cell_type": "code",
   "execution_count": 51,
   "metadata": {},
   "outputs": [],
   "source": [
    "ansys.clean_active_design()\n",
    "ansys.render_design(selection=['CAP1','CAP2','RES1','LINE1','LINE2'],\n",
    "                    open_pins=[('LINE1','end'),('LINE2','end')])"
   ]
  },
  {
   "cell_type": "code",
   "execution_count": 139,
   "metadata": {},
   "outputs": [
    {
     "data": {
      "text/plain": [
       "<pyEPR.ansys.HfssEMSetup at 0x1db78d08990>"
      ]
     },
     "execution_count": 139,
     "metadata": {},
     "output_type": "execute_result"
    }
   ],
   "source": [
    "ansys.add_eigenmode_setup(\n",
    "    name='resonances',\n",
    "    n_modes=2,\n",
    "    max_passes=15,\n",
    "    min_converged=2\n",
    ")"
   ]
  },
  {
   "cell_type": "code",
   "execution_count": 60,
   "metadata": {},
   "outputs": [
    {
     "name": "stderr",
     "output_type": "stream",
     "text": [
      "INFO 11:07AM [get_setup]: \tOpened setup `resonances`  (<class 'pyEPR.ansys.HfssEMSetup'>)\n",
      "INFO 11:07AM [analyze]: Analyzing setup resonances\n"
     ]
    }
   ],
   "source": [
    "ansys.analyze_setup('resonances')"
   ]
  },
  {
   "cell_type": "code",
   "execution_count": 61,
   "metadata": {},
   "outputs": [
    {
     "data": {
      "text/plain": [
       "([3.45755270359, 6.92919842462], None)"
      ]
     },
     "execution_count": 61,
     "metadata": {},
     "output_type": "execute_result"
    }
   ],
   "source": [
    "ansys.pinfo.setup.get_solutions().eigenmodes()"
   ]
  },
  {
   "cell_type": "code",
   "execution_count": 104,
   "metadata": {},
   "outputs": [
    {
     "name": "stderr",
     "output_type": "stream",
     "text": [
      "04:29PM 49s WARNING [plot_ansys_fields]: This method is deprecated. Change your scripts to use plot_fields()\n"
     ]
    }
   ],
   "source": [
    "ansys.plot_ansys_fields('main')"
   ]
  },
  {
   "cell_type": "code",
   "execution_count": 54,
   "metadata": {},
   "outputs": [
    {
     "name": "stderr",
     "output_type": "stream",
     "text": [
      "04:05PM 17s WARNING [activate_eigenmode_design]: This method is deprecated. Change your scripts to use activate_ansys_design()\n",
      "INFO 04:05PM [connect_design]: \tOpened active design\n",
      "\tDesign:    resonator23 [Solution type: Eigenmode]\n"
     ]
    }
   ],
   "source": [
    "ansys.activate_eigenmode_design('resonator23')"
   ]
  },
  {
   "cell_type": "code",
   "execution_count": 55,
   "metadata": {},
   "outputs": [],
   "source": [
    "ansys.clean_active_design()\n",
    "ansys.render_design(selection=['CAP2','CAP3','RES2'])"
   ]
  },
  {
   "cell_type": "code",
   "execution_count": 145,
   "metadata": {},
   "outputs": [
    {
     "data": {
      "text/plain": [
       "<pyEPR.ansys.HfssEMSetup at 0x1db75fa5850>"
      ]
     },
     "execution_count": 145,
     "metadata": {},
     "output_type": "execute_result"
    }
   ],
   "source": [
    "ansys.add_eigenmode_setup(\n",
    "    name='resonances',\n",
    "    n_modes=2,\n",
    "    max_passes=15,\n",
    "    min_converged=2\n",
    ")"
   ]
  },
  {
   "cell_type": "code",
   "execution_count": 56,
   "metadata": {},
   "outputs": [
    {
     "name": "stderr",
     "output_type": "stream",
     "text": [
      "INFO 04:08PM [get_setup]: \tOpened setup `resonances`  (<class 'pyEPR.ansys.HfssEMSetup'>)\n",
      "INFO 04:08PM [analyze]: Analyzing setup resonances\n"
     ]
    }
   ],
   "source": [
    "ansys.analyze_setup('resonances')"
   ]
  },
  {
   "cell_type": "code",
   "execution_count": 58,
   "metadata": {},
   "outputs": [
    {
     "data": {
      "text/plain": [
       "([3.46437678176, 6.92391615832], None)"
      ]
     },
     "execution_count": 58,
     "metadata": {},
     "output_type": "execute_result"
    }
   ],
   "source": [
    "ansys.pinfo.setup.get_solutions().eigenmodes()"
   ]
  },
  {
   "cell_type": "code",
   "execution_count": 62,
   "metadata": {},
   "outputs": [
    {
     "name": "stderr",
     "output_type": "stream",
     "text": [
      "11:08AM 25s WARNING [activate_eigenmode_design]: This method is deprecated. Change your scripts to use activate_ansys_design()\n",
      "INFO 11:08AM [connect_design]: \tOpened active design\n",
      "\tDesign:    resonator34 [Solution type: Eigenmode]\n"
     ]
    }
   ],
   "source": [
    "ansys.activate_eigenmode_design('resonator34')"
   ]
  },
  {
   "cell_type": "code",
   "execution_count": 63,
   "metadata": {},
   "outputs": [],
   "source": [
    "ansys.clean_active_design()\n",
    "ansys.render_design(selection=['CAP3','CAP4','RES3'])"
   ]
  },
  {
   "cell_type": "code",
   "execution_count": 150,
   "metadata": {},
   "outputs": [
    {
     "data": {
      "text/plain": [
       "<pyEPR.ansys.HfssEMSetup at 0x1db7658b790>"
      ]
     },
     "execution_count": 150,
     "metadata": {},
     "output_type": "execute_result"
    }
   ],
   "source": [
    "ansys.add_eigenmode_setup(\n",
    "    name='resonances',\n",
    "    n_modes=2,\n",
    "    max_passes=15,\n",
    "    min_converged=2\n",
    ")"
   ]
  },
  {
   "cell_type": "code",
   "execution_count": 64,
   "metadata": {},
   "outputs": [
    {
     "name": "stderr",
     "output_type": "stream",
     "text": [
      "INFO 11:18AM [get_setup]: \tOpened setup `resonances`  (<class 'pyEPR.ansys.HfssEMSetup'>)\n",
      "INFO 11:18AM [analyze]: Analyzing setup resonances\n"
     ]
    }
   ],
   "source": [
    "ansys.analyze_setup('resonances')"
   ]
  },
  {
   "cell_type": "code",
   "execution_count": 65,
   "metadata": {},
   "outputs": [
    {
     "data": {
      "text/plain": [
       "([3.44888777972, 6.91276591565], None)"
      ]
     },
     "execution_count": 65,
     "metadata": {},
     "output_type": "execute_result"
    }
   ],
   "source": [
    "ansys.pinfo.setup.get_solutions().eigenmodes()"
   ]
  },
  {
   "cell_type": "code",
   "execution_count": 66,
   "metadata": {},
   "outputs": [],
   "source": [
    "ansys.disconnect_ansys()"
   ]
  },
  {
   "cell_type": "markdown",
   "metadata": {},
   "source": [
    "# Drivenmodal simulation"
   ]
  },
  {
   "cell_type": "code",
   "execution_count": 67,
   "metadata": {},
   "outputs": [],
   "source": [
    "from qiskit_metal import renderers"
   ]
  },
  {
   "cell_type": "code",
   "execution_count": 68,
   "metadata": {},
   "outputs": [],
   "source": [
    "ansys = design.renderers.hfss"
   ]
  },
  {
   "cell_type": "code",
   "execution_count": 69,
   "metadata": {},
   "outputs": [
    {
     "name": "stderr",
     "output_type": "stream",
     "text": [
      "INFO 11:28AM [connect_project]: Connecting to Ansys Desktop API...\n",
      "INFO 11:28AM [load_ansys_project]: \tOpened Ansys App\n",
      "INFO 11:28AM [load_ansys_project]: \tOpened Ansys Desktop v2023.1.0\n",
      "INFO 11:28AM [load_ansys_project]: \tOpened Ansys Project\n",
      "\tFolder:    D:/Users/e196203/Desktop/Simulações/qiskit metal/Five coupled resonators/\n",
      "\tProject:   Simulating five coupled\n",
      "INFO 11:28AM [connect_design]: \tOpened active design\n",
      "\tDesign:    resonator34 [Solution type: Eigenmode]\n",
      "INFO 11:28AM [get_setup]: \tOpened setup `Setup`  (<class 'pyEPR.ansys.HfssEMSetup'>)\n",
      "INFO 11:28AM [connect]: \tConnected to project \"Simulating five coupled\" and design \"resonator34\" 😀 \n",
      "\n"
     ]
    }
   ],
   "source": [
    "ansys.connect_ansys()"
   ]
  },
  {
   "cell_type": "code",
   "execution_count": 70,
   "metadata": {},
   "outputs": [
    {
     "name": "stderr",
     "output_type": "stream",
     "text": [
      "11:28AM 35s WARNING [activate_drivenmodal_design]: This method is deprecated. Change your scripts to use activate_ansys_design()\n",
      "INFO 11:28AM [connect_design]: \tOpened active design\n",
      "\tDesign:    S21 resonator12 [Solution type: HFSS Hybrid Modal Network]\n",
      "11:28AM 36s WARNING [activate_ansys_design]: The design_name=S21 resonator12 already exists, but it has solution_type==hfss hybrid modal network, which is different from the requested==drivenmodal. If you want a design with solution type==drivenmodal, please change the name requested for your design to one that does not exist. Alternatively, manually modify the solution_type for design S21 resonator12 from the Ansys GUI.\n"
     ]
    }
   ],
   "source": [
    "ansys.activate_drivenmodal_design('S21 resonator12')"
   ]
  },
  {
   "cell_type": "code",
   "execution_count": 228,
   "metadata": {},
   "outputs": [
    {
     "data": {
      "text/plain": [
       "<pyEPR.ansys.HfssDMSetup at 0x1db73010050>"
      ]
     },
     "execution_count": 228,
     "metadata": {},
     "output_type": "execute_result"
    }
   ],
   "source": [
    "ansys.add_drivenmodal_setup(\n",
    "    name='Setup',\n",
    "    freq_ghz=7,\n",
    "    min_passes=15,\n",
    "    max_passes=20,\n",
    "    min_converged=2,\n",
    "    max_delta_s=0.001,\n",
    "    basis_order=-1\n",
    ")"
   ]
  },
  {
   "cell_type": "code",
   "execution_count": 71,
   "metadata": {},
   "outputs": [],
   "source": [
    "# res 12 \n",
    "ansys.clean_active_design()\n",
    "ansys.render_design(\n",
    "    selection=['CAP1','CAP2','RES1','LINE1','LINE2'],\n",
    "    open_pins=[],\n",
    "    port_list=[('LINE1','end',50),('LINE2','end',50)]\n",
    "    )"
   ]
  },
  {
   "cell_type": "code",
   "execution_count": 72,
   "metadata": {},
   "outputs": [
    {
     "name": "stderr",
     "output_type": "stream",
     "text": [
      "12:56AM 51s WARNING [activate_drivenmodal_design]: This method is deprecated. Change your scripts to use activate_ansys_design()\n",
      "INFO 12:56AM [connect_design]: \tOpened active design\n",
      "\tDesign:    S21 resonator23 [Solution type: HFSS Hybrid Modal Network]\n",
      "12:56AM 52s WARNING [activate_ansys_design]: The design_name=S21 resonator23 already exists, but it has solution_type==hfss hybrid modal network, which is different from the requested==drivenmodal. If you want a design with solution type==drivenmodal, please change the name requested for your design to one that does not exist. Alternatively, manually modify the solution_type for design S21 resonator23 from the Ansys GUI.\n"
     ]
    }
   ],
   "source": [
    "ansys.activate_drivenmodal_design('S21 resonator23')"
   ]
  },
  {
   "cell_type": "code",
   "execution_count": 73,
   "metadata": {},
   "outputs": [],
   "source": [
    "# res 23\n",
    "ansys.clean_active_design()\n",
    "ansys.render_design(\n",
    "    selection=['CAP2','CAP3','RES2','LINE2','LINE3'],\n",
    "    open_pins=[],\n",
    "    port_list=[('LINE2','end',50),('LINE3','end',50)]\n",
    ")"
   ]
  },
  {
   "cell_type": "code",
   "execution_count": 74,
   "metadata": {},
   "outputs": [
    {
     "name": "stderr",
     "output_type": "stream",
     "text": [
      "10:33AM 50s WARNING [activate_drivenmodal_design]: This method is deprecated. Change your scripts to use activate_ansys_design()\n",
      "INFO 10:33AM [connect_design]: \tOpened active design\n",
      "\tDesign:    S21 resonator34 [Solution type: HFSS Hybrid Modal Network]\n",
      "10:33AM 52s WARNING [activate_ansys_design]: The design_name=S21 resonator34 already exists, but it has solution_type==hfss hybrid modal network, which is different from the requested==drivenmodal. If you want a design with solution type==drivenmodal, please change the name requested for your design to one that does not exist. Alternatively, manually modify the solution_type for design S21 resonator34 from the Ansys GUI.\n"
     ]
    }
   ],
   "source": [
    "ansys.activate_drivenmodal_design('S21 resonator34')"
   ]
  },
  {
   "cell_type": "code",
   "execution_count": 75,
   "metadata": {},
   "outputs": [],
   "source": [
    "# res 34\n",
    "ansys.clean_active_design()\n",
    "ansys.render_design(\n",
    "    selection=['CAP3','CAP4','RES3','LINE3','LINE4'],\n",
    "    open_pins=[],\n",
    "    port_list=[('LINE3','end',50),('LINE4','end',50)]\n",
    ")"
   ]
  },
  {
   "cell_type": "code",
   "execution_count": 99,
   "metadata": {},
   "outputs": [
    {
     "data": {
      "text/plain": [
       "<pyEPR.ansys.HfssDMSetup at 0x2419f0ac6d0>"
      ]
     },
     "execution_count": 99,
     "metadata": {},
     "output_type": "execute_result"
    }
   ],
   "source": [
    "ansys.add_drivenmodal_setup(\n",
    "    name='Setup',\n",
    "    freq_ghz=7,\n",
    "    min_passes=15,\n",
    "    max_passes=20,\n",
    "    min_converged=2,\n",
    "    max_delta_s=0.002,\n",
    "    basis_order=-1\n",
    ")"
   ]
  },
  {
   "cell_type": "markdown",
   "metadata": {},
   "source": [
    "# Complete lattice"
   ]
  },
  {
   "cell_type": "code",
   "execution_count": 134,
   "metadata": {},
   "outputs": [
    {
     "name": "stderr",
     "output_type": "stream",
     "text": [
      "06:18PM 53s WARNING [add_drivenmodal_design]: This method is deprecated. Change your scripts to use new_ansys_design()\n",
      "INFO 06:18PM [connect_design]: \tOpened active design\n",
      "\tDesign:    Five resonators [Solution type: HFSS Hybrid Modal Network]\n",
      "WARNING 06:18PM [connect_setup]: \tNo design setup detected.\n",
      "ERROR 06:18PM [connect_setup]: Original error 😭: 'NoneType' object has no attribute 'name'\n",
      "\n"
     ]
    },
    {
     "ename": "Exception",
     "evalue": " Did you provide the correct setup name?                            Failed to pull up setup. 😭",
     "output_type": "error",
     "traceback": [
      "\u001b[1;31m---------------------------------------------------------------------------\u001b[0m",
      "\u001b[1;31mAttributeError\u001b[0m                            Traceback (most recent call last)",
      "File \u001b[1;32md:\\Users\\e196203\\.conda\\envs\\qiskit-metal\\Lib\\site-packages\\pyEPR\\project_info.py:335\u001b[0m, in \u001b[0;36mProjectInfo.connect_setup\u001b[1;34m(self)\u001b[0m\n\u001b[0;32m    334\u001b[0m         setup \u001b[38;5;241m=\u001b[39m \u001b[38;5;28mself\u001b[39m\u001b[38;5;241m.\u001b[39mdesign\u001b[38;5;241m.\u001b[39mcreate_q3d_setup()\n\u001b[1;32m--> 335\u001b[0m     \u001b[38;5;28mself\u001b[39m\u001b[38;5;241m.\u001b[39msetup_name \u001b[38;5;241m=\u001b[39m \u001b[43msetup\u001b[49m\u001b[38;5;241;43m.\u001b[39;49m\u001b[43mname\u001b[49m\n\u001b[0;32m    336\u001b[0m \u001b[38;5;28;01melse\u001b[39;00m:\n",
      "\u001b[1;31mAttributeError\u001b[0m: 'NoneType' object has no attribute 'name'",
      "\nDuring handling of the above exception, another exception occurred:\n",
      "\u001b[1;31mException\u001b[0m                                 Traceback (most recent call last)",
      "Cell \u001b[1;32mIn[134], line 1\u001b[0m\n\u001b[1;32m----> 1\u001b[0m \u001b[43mansys\u001b[49m\u001b[38;5;241;43m.\u001b[39;49m\u001b[43madd_drivenmodal_design\u001b[49m\u001b[43m(\u001b[49m\u001b[38;5;124;43m'\u001b[39;49m\u001b[38;5;124;43mFive resonators\u001b[39;49m\u001b[38;5;124;43m'\u001b[39;49m\u001b[43m)\u001b[49m\n",
      "File \u001b[1;32md:\\Users\\e196203\\.conda\\envs\\qiskit-metal\\Lib\\site-packages\\qiskit_metal\\renderers\\renderer_ansys\\hfss_renderer.py:416\u001b[0m, in \u001b[0;36mQHFSSRenderer.add_drivenmodal_design\u001b[1;34m(self, name, connect)\u001b[0m\n\u001b[0;32m    410\u001b[0m \u001b[38;5;250m\u001b[39m\u001b[38;5;124;03m\"\"\"\u001b[39;00m\n\u001b[0;32m    411\u001b[0m \u001b[38;5;124;03m(deprecated) use new_ansys_design()\u001b[39;00m\n\u001b[0;32m    412\u001b[0m \u001b[38;5;124;03m\"\"\"\u001b[39;00m\n\u001b[0;32m    413\u001b[0m \u001b[38;5;28mself\u001b[39m\u001b[38;5;241m.\u001b[39mlogger\u001b[38;5;241m.\u001b[39mwarning(\n\u001b[0;32m    414\u001b[0m     \u001b[38;5;124m'\u001b[39m\u001b[38;5;124mThis method is deprecated. Change your scripts to use new_ansys_design()\u001b[39m\u001b[38;5;124m'\u001b[39m\n\u001b[0;32m    415\u001b[0m )\n\u001b[1;32m--> 416\u001b[0m \u001b[38;5;28;43mself\u001b[39;49m\u001b[38;5;241;43m.\u001b[39;49m\u001b[43mnew_ansys_design\u001b[49m\u001b[43m(\u001b[49m\u001b[43mname\u001b[49m\u001b[43m,\u001b[49m\u001b[43m \u001b[49m\u001b[38;5;124;43m'\u001b[39;49m\u001b[38;5;124;43mdrivenmodal\u001b[39;49m\u001b[38;5;124;43m'\u001b[39;49m\u001b[43m,\u001b[49m\u001b[43m \u001b[49m\u001b[43mconnect\u001b[49m\u001b[43m)\u001b[49m\n",
      "File \u001b[1;32md:\\Users\\e196203\\.conda\\envs\\qiskit-metal\\Lib\\site-packages\\qiskit_metal\\renderers\\renderer_ansys\\ansys_renderer.py:794\u001b[0m, in \u001b[0;36mQAnsysRenderer.new_ansys_design\u001b[1;34m(self, design_name, solution_type, connect)\u001b[0m\n\u001b[0;32m    792\u001b[0m         \u001b[38;5;28;01mraise\u001b[39;00m\n\u001b[0;32m    793\u001b[0m     \u001b[38;5;28;01mif\u001b[39;00m connect:\n\u001b[1;32m--> 794\u001b[0m         \u001b[38;5;28;43mself\u001b[39;49m\u001b[38;5;241;43m.\u001b[39;49m\u001b[43mconnect_ansys_design\u001b[49m\u001b[43m(\u001b[49m\u001b[43madesign\u001b[49m\u001b[38;5;241;43m.\u001b[39;49m\u001b[43mname\u001b[49m\u001b[43m)\u001b[49m\n\u001b[0;32m    795\u001b[0m     \u001b[38;5;28;01mreturn\u001b[39;00m adesign\n\u001b[0;32m    796\u001b[0m \u001b[38;5;28;01melse\u001b[39;00m:\n",
      "File \u001b[1;32md:\\Users\\e196203\\.conda\\envs\\qiskit-metal\\Lib\\site-packages\\qiskit_metal\\renderers\\renderer_ansys\\ansys_renderer.py:462\u001b[0m, in \u001b[0;36mQAnsysRenderer.connect_ansys_design\u001b[1;34m(self, design_name)\u001b[0m\n\u001b[0;32m    460\u001b[0m \u001b[38;5;28;01mtry\u001b[39;00m:\n\u001b[0;32m    461\u001b[0m     \u001b[38;5;28mself\u001b[39m\u001b[38;5;241m.\u001b[39mpinfo\u001b[38;5;241m.\u001b[39mconnect_design(design_name)\n\u001b[1;32m--> 462\u001b[0m     \u001b[38;5;28;43mself\u001b[39;49m\u001b[38;5;241;43m.\u001b[39;49m\u001b[43mpinfo\u001b[49m\u001b[38;5;241;43m.\u001b[39;49m\u001b[43mconnect_setup\u001b[49m\u001b[43m(\u001b[49m\u001b[43m)\u001b[49m\n\u001b[0;32m    463\u001b[0m \u001b[38;5;28;01mexcept\u001b[39;00m \u001b[38;5;167;01mAttributeError\u001b[39;00m:\n\u001b[0;32m    464\u001b[0m     \u001b[38;5;28mself\u001b[39m\u001b[38;5;241m.\u001b[39mlogger\u001b[38;5;241m.\u001b[39merror(\n\u001b[0;32m    465\u001b[0m         \u001b[38;5;124m\"\u001b[39m\u001b[38;5;124mPlease install a more recent version of pyEPR (>=0.8.4.3)\u001b[39m\u001b[38;5;124m\"\u001b[39m\n\u001b[0;32m    466\u001b[0m     )\n",
      "File \u001b[1;32md:\\Users\\e196203\\.conda\\envs\\qiskit-metal\\Lib\\site-packages\\pyEPR\\project_info.py:346\u001b[0m, in \u001b[0;36mProjectInfo.connect_setup\u001b[1;34m(self)\u001b[0m\n\u001b[0;32m    344\u001b[0m         _traceback \u001b[38;5;241m=\u001b[39m sys\u001b[38;5;241m.\u001b[39mexc_info()[\u001b[38;5;241m2\u001b[39m]\n\u001b[0;32m    345\u001b[0m         logger\u001b[38;5;241m.\u001b[39merror(\u001b[38;5;124mf\u001b[39m\u001b[38;5;124m\"\u001b[39m\u001b[38;5;124mOriginal error \u001b[39m\u001b[38;5;130;01m\\N{loudly crying face}\u001b[39;00m\u001b[38;5;124m: \u001b[39m\u001b[38;5;132;01m{\u001b[39;00me\u001b[38;5;132;01m}\u001b[39;00m\u001b[38;5;130;01m\\n\u001b[39;00m\u001b[38;5;124m\"\u001b[39m)\n\u001b[1;32m--> 346\u001b[0m         \u001b[38;5;28;01mraise\u001b[39;00m \u001b[38;5;167;01mException\u001b[39;00m(\u001b[38;5;124m'\u001b[39m\u001b[38;5;124m Did you provide the correct setup name?\u001b[39m\u001b[38;5;130;01m\\\u001b[39;00m\n\u001b[0;32m    347\u001b[0m \u001b[38;5;124m                    Failed to pull up setup. \u001b[39m\u001b[38;5;130;01m\\N{loudly crying face}\u001b[39;00m\u001b[38;5;124m'\u001b[39m\n\u001b[0;32m    348\u001b[0m                         )\u001b[38;5;241m.\u001b[39mwith_traceback(_traceback)\n\u001b[0;32m    350\u001b[0m \u001b[38;5;28;01melse\u001b[39;00m:\n\u001b[0;32m    351\u001b[0m     \u001b[38;5;28mself\u001b[39m\u001b[38;5;241m.\u001b[39msetup \u001b[38;5;241m=\u001b[39m \u001b[38;5;28;01mNone\u001b[39;00m\n",
      "File \u001b[1;32md:\\Users\\e196203\\.conda\\envs\\qiskit-metal\\Lib\\site-packages\\pyEPR\\project_info.py:335\u001b[0m, in \u001b[0;36mProjectInfo.connect_setup\u001b[1;34m(self)\u001b[0m\n\u001b[0;32m    333\u001b[0m         logger\u001b[38;5;241m.\u001b[39mwarning(\u001b[38;5;124m'\u001b[39m\u001b[38;5;130;01m\\t\u001b[39;00m\u001b[38;5;124mCreating Q3D default setup.\u001b[39m\u001b[38;5;124m'\u001b[39m)\n\u001b[0;32m    334\u001b[0m         setup \u001b[38;5;241m=\u001b[39m \u001b[38;5;28mself\u001b[39m\u001b[38;5;241m.\u001b[39mdesign\u001b[38;5;241m.\u001b[39mcreate_q3d_setup()\n\u001b[1;32m--> 335\u001b[0m     \u001b[38;5;28mself\u001b[39m\u001b[38;5;241m.\u001b[39msetup_name \u001b[38;5;241m=\u001b[39m \u001b[43msetup\u001b[49m\u001b[38;5;241;43m.\u001b[39;49m\u001b[43mname\u001b[49m\n\u001b[0;32m    336\u001b[0m \u001b[38;5;28;01melse\u001b[39;00m:\n\u001b[0;32m    337\u001b[0m     \u001b[38;5;28mself\u001b[39m\u001b[38;5;241m.\u001b[39msetup_name \u001b[38;5;241m=\u001b[39m setup_names[\u001b[38;5;241m0\u001b[39m]\n",
      "\u001b[1;31mException\u001b[0m:  Did you provide the correct setup name?                            Failed to pull up setup. 😭"
     ]
    }
   ],
   "source": [
    "ansys.add_drivenmodal_design('Five resonators')"
   ]
  },
  {
   "cell_type": "code",
   "execution_count": 135,
   "metadata": {},
   "outputs": [],
   "source": [
    "ansys.clean_active_design()\n",
    "ansys.render_design(\n",
    "    selection=['CAP1','CAP2','CAP3','CAP4','CAP5','RES12','RES23','RES34','RES45','RES51','LINE1','LINE2','LINE3','LINE4','LINE5'],\n",
    "    open_pins=[],\n",
    "    port_list=[('LINE1','end',50),('LINE2','end',50),('LINE3','end',50),('LINE4','end',50),('LINE5','end',50)]\n",
    ")"
   ]
  },
  {
   "cell_type": "code",
   "execution_count": 136,
   "metadata": {},
   "outputs": [
    {
     "data": {
      "text/plain": [
       "<pyEPR.ansys.HfssDMSetup at 0x241a5775210>"
      ]
     },
     "execution_count": 136,
     "metadata": {},
     "output_type": "execute_result"
    }
   ],
   "source": [
    "ansys.add_drivenmodal_setup(\n",
    "    name='Setup',\n",
    "    freq_ghz=7,\n",
    "    min_passes=24,\n",
    "    max_passes=27,\n",
    "    min_converged=2,\n",
    "    max_delta_s=0.002,\n",
    "    basis_order=-1\n",
    ")"
   ]
  },
  {
   "cell_type": "code",
   "execution_count": 76,
   "metadata": {},
   "outputs": [
    {
     "data": {
      "text/plain": [
       "True"
      ]
     },
     "execution_count": 76,
     "metadata": {},
     "output_type": "execute_result"
    }
   ],
   "source": [
    "gui.main_window.close()"
   ]
  }
 ],
 "metadata": {
  "kernelspec": {
   "display_name": "qiskit-metal",
   "language": "python",
   "name": "python3"
  },
  "language_info": {
   "codemirror_mode": {
    "name": "ipython",
    "version": 3
   },
   "file_extension": ".py",
   "mimetype": "text/x-python",
   "name": "python",
   "nbconvert_exporter": "python",
   "pygments_lexer": "ipython3",
   "version": "3.11.10"
  }
 },
 "nbformat": 4,
 "nbformat_minor": 2
}
