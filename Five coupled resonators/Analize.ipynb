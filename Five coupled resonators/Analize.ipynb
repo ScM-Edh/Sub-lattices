{
 "cells": [
  {
   "cell_type": "code",
   "execution_count": 15,
   "metadata": {},
   "outputs": [],
   "source": [
    "import numpy as np\n",
    "import matplotlib.pyplot as plt"
   ]
  },
  {
   "cell_type": "markdown",
   "metadata": {},
   "source": [
    "# Hopping rate"
   ]
  },
  {
   "cell_type": "code",
   "execution_count": 16,
   "metadata": {},
   "outputs": [
    {
     "data": {
      "text/plain": [
       "-0.012970123268610904"
      ]
     },
     "execution_count": 16,
     "metadata": {},
     "output_type": "execute_result"
    }
   ],
   "source": [
    "f_ghz=7 # GHz\n",
    "f=f_ghz*1e9 # Hz\n",
    "C=5.3e-15 #F\n",
    "l= (16.8+0.026)*1e-3 # m\n",
    "C_l=1.7e-10 # F/m\n",
    "Z=50\n",
    "\n",
    "t= -(1/2 * f*C*2/(C_l*l))*1e-9\n",
    "\n",
    "t"
   ]
  },
  {
   "cell_type": "markdown",
   "metadata": {},
   "source": [
    "# Eigenvalues"
   ]
  },
  {
   "cell_type": "code",
   "execution_count": 24,
   "metadata": {},
   "outputs": [
    {
     "data": {
      "text/plain": [
       "array([[0., 1., 0., 0., 1.],\n",
       "       [1., 0., 1., 0., 0.],\n",
       "       [0., 1., 0., 1., 0.],\n",
       "       [0., 0., 1., 0., 1.],\n",
       "       [1., 0., 0., 1., 0.]])"
      ]
     },
     "execution_count": 24,
     "metadata": {},
     "output_type": "execute_result"
    }
   ],
   "source": [
    "indexes = [(0,1),(1,2),(2,3),(3,4),(0,4),(1,0),(2,1),(3,2),(4,3),(4,0)]\n",
    "\n",
    "ALG = np.zeros((5,5))\n",
    "i = 0\n",
    "\n",
    "for i in range(0,10):\n",
    "    ALG[indexes[i][0]][indexes[i][1]] = 1\n",
    "\n",
    "ALG\n"
   ]
  },
  {
   "cell_type": "code",
   "execution_count": 25,
   "metadata": {},
   "outputs": [
    {
     "data": {
      "text/plain": [
       "array([-1.61803399, -1.61803399,  0.61803399,  0.61803399,  2.        ])"
      ]
     },
     "execution_count": 25,
     "metadata": {},
     "output_type": "execute_result"
    }
   ],
   "source": [
    "# list of eigenvalues\n",
    "\n",
    "ev = np.sort(np.linalg.eigvals(ALG))\n",
    "ev"
   ]
  },
  {
   "cell_type": "code",
   "execution_count": 26,
   "metadata": {},
   "outputs": [
    {
     "name": "stdout",
     "output_type": "stream",
     "text": [
      "[[7.         0.01297012 0.         0.         0.01297012]\n",
      " [0.01297012 7.         0.01297012 0.         0.        ]\n",
      " [0.         0.01297012 7.         0.01297012 0.        ]\n",
      " [0.         0.         0.01297012 7.         0.01297012]\n",
      " [0.01297012 0.         0.         0.01297012 7.        ]] [6.9790139  6.9790139  7.00801598 7.00801598 7.02594025]\n"
     ]
    }
   ],
   "source": [
    "# Expeted frequencies\n",
    "\n",
    "diagonal = f_ghz*np.ones(5)\n",
    "H = -t*ALG\n",
    "np.fill_diagonal(H,diagonal)\n",
    "\n",
    "eigenv = np.sort(np.linalg.eigvals(H))\n",
    "print(H, eigenv)"
   ]
  }
 ],
 "metadata": {
  "kernelspec": {
   "display_name": "base",
   "language": "python",
   "name": "python3"
  },
  "language_info": {
   "codemirror_mode": {
    "name": "ipython",
    "version": 3
   },
   "file_extension": ".py",
   "mimetype": "text/x-python",
   "name": "python",
   "nbconvert_exporter": "python",
   "pygments_lexer": "ipython3",
   "version": "3.12.7"
  }
 },
 "nbformat": 4,
 "nbformat_minor": 2
}
