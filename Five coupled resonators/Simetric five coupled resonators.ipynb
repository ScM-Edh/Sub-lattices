{
 "cells": [
  {
   "cell_type": "code",
   "execution_count": 1,
   "id": "33de3315",
   "metadata": {},
   "outputs": [],
   "source": [
    "# Adicionando o caminho para o capacitor de 3 portas\n",
    "import sys\n",
    "import os\n",
    "\n",
    "sys.path.append('C:/Users/Ednilson/Desktop/Git hub/Dodecahedral-lattice/Dodecahedral-lattice')"
   ]
  },
  {
   "cell_type": "code",
   "execution_count": 2,
   "id": "298f10df",
   "metadata": {},
   "outputs": [],
   "source": [
    "%load_ext autoreload\n",
    "%autoreload 2"
   ]
  },
  {
   "cell_type": "code",
   "execution_count": 3,
   "id": "1a2305bf",
   "metadata": {},
   "outputs": [],
   "source": [
    "import qiskit_metal as metal\n",
    "from qiskit_metal import Dict, designs, MetalGUI"
   ]
  },
  {
   "cell_type": "code",
   "execution_count": 4,
   "id": "fa531eb6",
   "metadata": {},
   "outputs": [],
   "source": [
    "design = designs.DesignPlanar(overwrite_enabled=True)"
   ]
  },
  {
   "cell_type": "code",
   "execution_count": 5,
   "id": "d2e730e3",
   "metadata": {},
   "outputs": [],
   "source": [
    "gui = MetalGUI(design)"
   ]
  },
  {
   "cell_type": "code",
   "execution_count": 6,
   "id": "38a582b0",
   "metadata": {},
   "outputs": [],
   "source": [
    "design.variables['cpw_width']='20um'\n",
    "design.variables['cpw_gap']='12um'"
   ]
  },
  {
   "cell_type": "markdown",
   "id": "c0d20ac7",
   "metadata": {},
   "source": [
    "# Capacitors"
   ]
  },
  {
   "cell_type": "code",
   "execution_count": 7,
   "id": "9e8b2086",
   "metadata": {},
   "outputs": [
    {
     "data": {
      "text/plain": [
       "{'pos_x': '0um',\n",
       " 'pos_y': '0um',\n",
       " 'orientation': '0',\n",
       " 'chip': 'main',\n",
       " 'layer': '1',\n",
       " 'cap_length': '50um',\n",
       " 'cap_gap': '2um',\n",
       " 'cpw_width': '20um',\n",
       " 'cpw_length': '10um',\n",
       " 'cpw_gap': '12um',\n",
       " 'gap_to_gnd': '12um',\n",
       " 'hfss_wire_bonds': False,\n",
       " 'q3d_wire_bonds': False}"
      ]
     },
     "execution_count": 7,
     "metadata": {},
     "output_type": "execute_result"
    }
   ],
   "source": [
    "from ThreeWaysCapacitor import TriCapacitor\n",
    "TriCapacitor.get_template_options(design)"
   ]
  },
  {
   "cell_type": "code",
   "execution_count": 8,
   "id": "898dc2a6",
   "metadata": {},
   "outputs": [],
   "source": [
    "cap_opt = Dict(\n",
    "    cap_gap='10um',\n",
    "    cap_length='80um',\n",
    "    cpw_length='13um',\n",
    "    orientation='0'\n",
    ")\n",
    "\n",
    "cap_opt.pos_y='-3.4mm'\n",
    "cap1 = TriCapacitor(design, 'CAP1', options=cap_opt)\n",
    "\n",
    "cap_opt.pos_y='-1.05mm'\n",
    "cap_opt.pos_x='3.24mm'\n",
    "cap_opt.orientation='72'\n",
    "cap2 = TriCapacitor(design, 'CAP2', options=cap_opt)\n",
    "\n",
    "cap_opt.pos_y='2.75mm'\n",
    "cap_opt.pos_x='2mm'\n",
    "cap_opt.orientation='144'\n",
    "cap3 = TriCapacitor(design, 'CAP3', options=cap_opt)\n",
    "\n",
    "cap_opt.pos_x='-2mm'\n",
    "cap_opt.orientation='-144'\n",
    "cap4 = TriCapacitor(design, 'CAP4', options=cap_opt)\n",
    "\n",
    "cap_opt.pos_y='-1.05mm'\n",
    "cap_opt.pos_x='-3.24mm'\n",
    "cap_opt.orientation='-72'\n",
    "cap5 = TriCapacitor(design, 'CAP5', options=cap_opt)\n",
    "\n",
    "gui.rebuild()\n",
    "gui.autoscale()"
   ]
  },
  {
   "cell_type": "markdown",
   "id": "67bc6bfd",
   "metadata": {},
   "source": [
    "# Resonators"
   ]
  },
  {
   "cell_type": "code",
   "execution_count": 9,
   "id": "08e9fcbe",
   "metadata": {},
   "outputs": [
    {
     "data": {
      "text/plain": [
       "{'chip': 'main',\n",
       " 'layer': '1',\n",
       " 'pin_inputs': {'start_pin': {'component': '', 'pin': ''},\n",
       "  'end_pin': {'component': '', 'pin': ''}},\n",
       " 'fillet': '0',\n",
       " 'lead': {'start_straight': '0mm',\n",
       "  'end_straight': '0mm',\n",
       "  'start_jogged_extension': '',\n",
       "  'end_jogged_extension': ''},\n",
       " 'total_length': '7mm',\n",
       " 'trace_width': 'cpw_width',\n",
       " 'meander': {'spacing': '200um', 'asymmetry': '0um'},\n",
       " 'snap': 'true',\n",
       " 'prevent_short_edges': 'true',\n",
       " 'hfss_wire_bonds': False,\n",
       " 'q3d_wire_bonds': False}"
      ]
     },
     "execution_count": 9,
     "metadata": {},
     "output_type": "execute_result"
    }
   ],
   "source": [
    "from qiskit_metal.qlibrary.tlines.meandered import RouteMeander\n",
    "RouteMeander.get_template_options(design)"
   ]
  },
  {
   "cell_type": "code",
   "execution_count": 12,
   "id": "ded2646e",
   "metadata": {},
   "outputs": [],
   "source": [
    "res_opt = Dict(\n",
    "    lead=Dict(\n",
    "        start_straight='1.5mm',\n",
    "        end_straight='1mm'\n",
    "    ),\n",
    "    fillet='130um',\n",
    "    total_length='10.3mm',\n",
    "    meander=Dict(spacing='280um'),\n",
    "    snap='false',\n",
    "    prevent_short_edges='false',\n",
    "    hfss_wire_bonds=True\n",
    ")\n",
    "\n",
    "res_opt.pin_inputs.start_pin.component='CAP1'\n",
    "res_opt.pin_inputs.start_pin.pin='pin_2'\n",
    "res_opt.pin_inputs.end_pin.component='CAP2'\n",
    "res_opt.pin_inputs.end_pin.pin='pin_3'\n",
    "res1 = RouteMeander(design, 'RES1', options=res_opt)\n",
    "\n",
    "res_opt.pin_inputs.start_pin.component='CAP2'\n",
    "res_opt.pin_inputs.start_pin.pin='pin_2'\n",
    "res_opt.pin_inputs.end_pin.component='CAP3'\n",
    "res_opt.pin_inputs.end_pin.pin='pin_3'\n",
    "res2 = RouteMeander(design, 'RES2', options=res_opt)\n",
    "\n",
    "res_opt.pin_inputs.start_pin.component='CAP3'\n",
    "res_opt.pin_inputs.start_pin.pin='pin_2'\n",
    "res_opt.pin_inputs.end_pin.component='CAP4'\n",
    "res_opt.pin_inputs.end_pin.pin='pin_3'\n",
    "res3 = RouteMeander(design, 'RES3', options=res_opt)\n",
    "\n",
    "res_opt.pin_inputs.start_pin.component='CAP4'\n",
    "res_opt.pin_inputs.start_pin.pin='pin_2'\n",
    "res_opt.pin_inputs.end_pin.component='CAP5'\n",
    "res_opt.pin_inputs.end_pin.pin='pin_3'\n",
    "res4 = RouteMeander(design, 'RES4', options=res_opt)\n",
    "\n",
    "res_opt.pin_inputs.start_pin.component='CAP5'\n",
    "res_opt.pin_inputs.start_pin.pin='pin_2'\n",
    "res_opt.pin_inputs.end_pin.component='CAP1'\n",
    "res_opt.pin_inputs.end_pin.pin='pin_3'\n",
    "res5 = RouteMeander(design, 'RES5', options=res_opt)\n",
    "\n",
    "gui.rebuild()\n",
    "gui.autoscale()\n",
    "#gui.zoom_on_components(['RES3'])"
   ]
  },
  {
   "cell_type": "markdown",
   "id": "3ae46249",
   "metadata": {},
   "source": [
    "# Add pads"
   ]
  },
  {
   "cell_type": "code",
   "execution_count": 15,
   "id": "5b9d40a9",
   "metadata": {},
   "outputs": [
    {
     "data": {
      "text/plain": [
       "{'pos_x': '0.0um',\n",
       " 'pos_y': '0.0um',\n",
       " 'orientation': '0.0',\n",
       " 'chip': 'main',\n",
       " 'layer': '1',\n",
       " 'trace_width': 'cpw_width',\n",
       " 'trace_gap': 'cpw_gap',\n",
       " 'lead_length': '25um',\n",
       " 'pad_width': '80um',\n",
       " 'pad_height': '80um',\n",
       " 'pad_gap': '58um',\n",
       " 'taper_height': '122um'}"
      ]
     },
     "execution_count": 15,
     "metadata": {},
     "output_type": "execute_result"
    }
   ],
   "source": [
    "from qiskit_metal.qlibrary.terminations.launchpad_wb import LaunchpadWirebond\n",
    "LaunchpadWirebond.get_template_options(design)"
   ]
  },
  {
   "cell_type": "code",
   "execution_count": 18,
   "id": "d43983d7",
   "metadata": {},
   "outputs": [],
   "source": [
    "pad1 = LaunchpadWirebond(design, 'PAD1', options=Dict(\n",
    "    pos_x='-4.3mm',\n",
    "    pos_y='4mm',\n",
    "    orientation='-90',\n",
    "    lead_length='25um',\n",
    "    pad_width='350um',\n",
    "    pad_height='350um',\n",
    "    pad_gap='150um',\n",
    "    taper_height='370um'\n",
    "))\n",
    "\n",
    "pad2 = LaunchpadWirebond(design, 'PAD2', options=Dict(\n",
    "    pos_x='4.3mm',\n",
    "    pos_y='4mm',\n",
    "    orientation='-90',\n",
    "    lead_length='25um',\n",
    "    pad_width='350um',\n",
    "    pad_height='350um',\n",
    "    pad_gap='150um',\n",
    "    taper_height='370um'\n",
    "))\n",
    "\n",
    "pad3 = LaunchpadWirebond(design, 'PAD3', options=Dict(\n",
    "    pos_x='-4.3mm',\n",
    "    pos_y='-4mm',\n",
    "    orientation='90',\n",
    "    lead_length='25um',\n",
    "    pad_width='350um',\n",
    "    pad_height='350um',\n",
    "    pad_gap='150um',\n",
    "    taper_height='370um'\n",
    "))\n",
    "\n",
    "pad4 = LaunchpadWirebond(design, 'PAD4', options=Dict(\n",
    "    pos_x='0mm',\n",
    "    pos_y='-4mm',\n",
    "    orientation='90',\n",
    "    lead_length='25um',\n",
    "    pad_width='350um',\n",
    "    pad_height='350um',\n",
    "    pad_gap='150um',\n",
    "    taper_height='370um'\n",
    "))\n",
    "\n",
    "pad5 = LaunchpadWirebond(design, 'PAD5', options=Dict(\n",
    "    pos_x='4.3mm',\n",
    "    pos_y='-4mm',\n",
    "    orientation='90',\n",
    "    lead_length='25um',\n",
    "    pad_width='350um',\n",
    "    pad_height='350um',\n",
    "    pad_gap='150um',\n",
    "    taper_height='370um'\n",
    "))\n",
    "\n",
    "gui.rebuild()\n",
    "gui.autoscale()"
   ]
  },
  {
   "cell_type": "code",
   "execution_count": 19,
   "id": "29eb8bf6",
   "metadata": {},
   "outputs": [
    {
     "data": {
      "text/plain": [
       "{'chip': 'main',\n",
       " 'layer': '1',\n",
       " 'pin_inputs': {'start_pin': {'component': '', 'pin': ''},\n",
       "  'end_pin': {'component': '', 'pin': ''}},\n",
       " 'fillet': '0',\n",
       " 'lead': {'start_straight': '0mm',\n",
       "  'end_straight': '0mm',\n",
       "  'start_jogged_extension': '',\n",
       "  'end_jogged_extension': ''},\n",
       " 'total_length': '7mm',\n",
       " 'trace_width': 'cpw_width',\n",
       " 'hfss_wire_bonds': False,\n",
       " 'q3d_wire_bonds': False}"
      ]
     },
     "execution_count": 19,
     "metadata": {},
     "output_type": "execute_result"
    }
   ],
   "source": [
    "from qiskit_metal.qlibrary.tlines.straight_path import RouteStraight\n",
    "RouteStraight.get_template_options(design)"
   ]
  },
  {
   "cell_type": "code",
   "execution_count": 53,
   "id": "40cf16db",
   "metadata": {},
   "outputs": [],
   "source": [
    "line1 = RouteStraight(design, 'LINE1', options=Dict(\n",
    "    pin_inputs=Dict(\n",
    "        start_pin=Dict(\n",
    "            component='CAP4',\n",
    "            pin='pin_1'\n",
    "        ),\n",
    "        end_pin=Dict(\n",
    "            component='PAD1',\n",
    "            pin='tie'\n",
    "        ),\n",
    "    ),\n",
    "    lead=Dict(\n",
    "        start_straight='400um',\n",
    "        end_straight='400um'\n",
    "    ),\n",
    "    fillet='300um'\n",
    "))\n",
    "\n",
    "line2 = RouteStraight(design, 'LINE2', options=Dict(\n",
    "    pin_inputs=Dict(\n",
    "        start_pin=Dict(\n",
    "            component='CAP3',\n",
    "            pin='pin_1'\n",
    "        ),\n",
    "        end_pin=Dict(\n",
    "            component='PAD2',\n",
    "            pin='tie'\n",
    "        ),\n",
    "    ),\n",
    "    lead=Dict(\n",
    "        start_straight='400um',\n",
    "        end_straight='400um'\n",
    "    ),\n",
    "    fillet='300um'\n",
    "))\n",
    "\n",
    "line3 = RouteStraight(design, 'LINE3', options=Dict(\n",
    "    pin_inputs=Dict(\n",
    "        start_pin=Dict(\n",
    "            component='CAP5',\n",
    "            pin='pin_1'\n",
    "        ),\n",
    "        end_pin=Dict(\n",
    "            component='PAD3',\n",
    "            pin='tie'\n",
    "        ),\n",
    "    ),\n",
    "    lead=Dict(\n",
    "        start_straight='700um',\n",
    "        end_straight='1000um'\n",
    "    ),\n",
    "    fillet='600um'\n",
    "))\n",
    "\n",
    "line4 = RouteStraight(design, 'LINE4', options=Dict(\n",
    "    pin_inputs=Dict(\n",
    "        start_pin=Dict(\n",
    "            component='CAP1',\n",
    "            pin='pin_1'\n",
    "        ),\n",
    "        end_pin=Dict(\n",
    "            component='PAD4',\n",
    "            pin='tie'\n",
    "        ),\n",
    "    )\n",
    "))\n",
    "\n",
    "line5 = RouteStraight(design, 'LINE5', options=Dict(\n",
    "    pin_inputs=Dict(\n",
    "        start_pin=Dict(\n",
    "            component='CAP2',\n",
    "            pin='pin_1'\n",
    "        ),\n",
    "        end_pin=Dict(\n",
    "            component='PAD5',\n",
    "            pin='tie'\n",
    "        ),\n",
    "    ),\n",
    "    lead=Dict(\n",
    "        start_straight='700um',\n",
    "        end_straight='1000um'\n",
    "    ),\n",
    "    fillet='600um'\n",
    "))\n",
    "\n",
    "gui.rebuild()\n",
    "gui.zoom_on_components(['LINE5'])\n",
    "#gui.autoscale()"
   ]
  },
  {
   "cell_type": "markdown",
   "id": "466e8147",
   "metadata": {},
   "source": [
    "# Render to GDS"
   ]
  },
  {
   "cell_type": "code",
   "execution_count": 13,
   "id": "4b89e495",
   "metadata": {},
   "outputs": [
    {
     "data": {
      "text/plain": [
       "{'material': 'silicon',\n",
       " 'layer_start': '0',\n",
       " 'layer_end': '2048',\n",
       " 'size': {'center_x': '0.0mm',\n",
       "  'center_y': '0.0mm',\n",
       "  'center_z': '0.0mm',\n",
       "  'size_x': '10mm',\n",
       "  'size_y': '10mm',\n",
       "  'size_z': '-750um',\n",
       "  'sample_holder_top': '890um',\n",
       "  'sample_holder_bottom': '1650um'}}"
      ]
     },
     "execution_count": 13,
     "metadata": {},
     "output_type": "execute_result"
    }
   ],
   "source": [
    "design.chips.main.size['size_x'] = '10mm'\n",
    "design.chips.main.size['size_y'] = '10mm'\n",
    "design.chips.main"
   ]
  },
  {
   "cell_type": "code",
   "execution_count": 52,
   "id": "05fbbf0b",
   "metadata": {},
   "outputs": [
    {
     "name": "stderr",
     "output_type": "stream",
     "text": [
      "03:18PM 21s WARNING [_import_junctions_to_one_cell]: Not able to find file:\"../resources/Fake_Junctions.GDS\".  Not used to replace junction. Checked directory:\"c:\\Users\\Ednilson\\Desktop\\Git hub\\Dodecahedral-lattice\\Dodecahedral-lattice\\resources\".\n"
     ]
    },
    {
     "data": {
      "text/plain": [
       "1"
      ]
     },
     "execution_count": 52,
     "metadata": {},
     "output_type": "execute_result"
    }
   ],
   "source": [
    "design.renderers.gds.export_to_gds('Simetric five coupled resonators.gds')"
   ]
  },
  {
   "cell_type": "code",
   "execution_count": 54,
   "id": "e1077443",
   "metadata": {},
   "outputs": [
    {
     "data": {
      "text/plain": [
       "True"
      ]
     },
     "execution_count": 54,
     "metadata": {},
     "output_type": "execute_result"
    }
   ],
   "source": [
    "gui.main_window.close()"
   ]
  }
 ],
 "metadata": {
  "kernelspec": {
   "display_name": "qiskit-metal",
   "language": "python",
   "name": "python3"
  },
  "language_info": {
   "codemirror_mode": {
    "name": "ipython",
    "version": 3
   },
   "file_extension": ".py",
   "mimetype": "text/x-python",
   "name": "python",
   "nbconvert_exporter": "python",
   "pygments_lexer": "ipython3",
   "version": "3.11.10"
  }
 },
 "nbformat": 4,
 "nbformat_minor": 5
}
