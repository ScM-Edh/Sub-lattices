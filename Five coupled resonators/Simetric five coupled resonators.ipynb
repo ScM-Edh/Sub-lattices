{
 "cells": [
  {
   "cell_type": "code",
   "execution_count": 1,
   "id": "33de3315",
   "metadata": {},
   "outputs": [],
   "source": [
    "# Adicionando o caminho para o capacitor de 3 portas\n",
    "import sys\n",
    "import os\n",
    "\n",
    "sys.path.append('C:/Users/Ednilson/Desktop/Git hub/Dodecahedral-lattice/Dodecahedral-lattice')"
   ]
  },
  {
   "cell_type": "code",
   "execution_count": 1,
   "id": "1bce4513",
   "metadata": {},
   "outputs": [],
   "source": [
    "# Adicionando o caminho para o capacitor de 3 portas\n",
    "import sys\n",
    "import os\n",
    "\n",
    "sys.path.append('C:/Users/edhan/Desktop/Git hub/Sub-lattices')"
   ]
  },
  {
   "cell_type": "code",
   "execution_count": 2,
   "id": "298f10df",
   "metadata": {},
   "outputs": [],
   "source": [
    "%load_ext autoreload\n",
    "%autoreload 2"
   ]
  },
  {
   "cell_type": "code",
   "execution_count": 3,
   "id": "1a2305bf",
   "metadata": {},
   "outputs": [],
   "source": [
    "import qiskit_metal as metal\n",
    "from qiskit_metal import Dict, designs, MetalGUI"
   ]
  },
  {
   "cell_type": "code",
   "execution_count": 4,
   "id": "fa531eb6",
   "metadata": {},
   "outputs": [],
   "source": [
    "design = designs.DesignPlanar(overwrite_enabled=True)"
   ]
  },
  {
   "cell_type": "code",
   "execution_count": 5,
   "id": "d2e730e3",
   "metadata": {},
   "outputs": [],
   "source": [
    "gui = MetalGUI(design)"
   ]
  },
  {
   "cell_type": "code",
   "execution_count": 6,
   "id": "38a582b0",
   "metadata": {},
   "outputs": [],
   "source": [
    "design.variables['cpw_width']='20um'\n",
    "design.variables['cpw_gap']='12um'"
   ]
  },
  {
   "cell_type": "markdown",
   "id": "c0d20ac7",
   "metadata": {},
   "source": [
    "# Capacitors"
   ]
  },
  {
   "cell_type": "code",
   "execution_count": 7,
   "id": "9e8b2086",
   "metadata": {},
   "outputs": [
    {
     "data": {
      "text/plain": [
       "{'pos_x': '0um',\n",
       " 'pos_y': '0um',\n",
       " 'orientation': '0',\n",
       " 'chip': 'main',\n",
       " 'layer': '1',\n",
       " 'cap_length': '50um',\n",
       " 'cap_gap': '2um',\n",
       " 'cpw_width': '20um',\n",
       " 'cpw_length': '10um',\n",
       " 'cpw_gap': '12um',\n",
       " 'gap_to_gnd': '12um',\n",
       " 'hfss_wire_bonds': False,\n",
       " 'q3d_wire_bonds': False}"
      ]
     },
     "execution_count": 7,
     "metadata": {},
     "output_type": "execute_result"
    }
   ],
   "source": [
    "from ThreeWaysCapacitor import TriCapacitor\n",
    "TriCapacitor.get_template_options(design)"
   ]
  },
  {
   "cell_type": "code",
   "execution_count": 8,
   "id": "898dc2a6",
   "metadata": {},
   "outputs": [],
   "source": [
    "cap_opt = Dict(\n",
    "    cap_gap='10um',\n",
    "    cap_length='80um',\n",
    "    cpw_length='13um',\n",
    "    orientation='0'\n",
    ")\n",
    "\n",
    "cap_opt.pos_y='-3.4mm'\n",
    "cap1 = TriCapacitor(design, 'CAP1', options=cap_opt)\n",
    "\n",
    "cap_opt.pos_y='-1.05mm'\n",
    "cap_opt.pos_x='3.24mm'\n",
    "cap_opt.orientation='72'\n",
    "cap2 = TriCapacitor(design, 'CAP2', options=cap_opt)\n",
    "\n",
    "cap_opt.pos_y='2.75mm'\n",
    "cap_opt.pos_x='2mm'\n",
    "cap_opt.orientation='144'\n",
    "cap3 = TriCapacitor(design, 'CAP3', options=cap_opt)\n",
    "\n",
    "cap_opt.pos_x='-2mm'\n",
    "cap_opt.orientation='-144'\n",
    "cap4 = TriCapacitor(design, 'CAP4', options=cap_opt)\n",
    "\n",
    "cap_opt.pos_y='-1.05mm'\n",
    "cap_opt.pos_x='-3.24mm'\n",
    "cap_opt.orientation='-72'\n",
    "cap5 = TriCapacitor(design, 'CAP5', options=cap_opt)\n",
    "\n",
    "gui.rebuild()\n",
    "gui.autoscale()"
   ]
  },
  {
   "cell_type": "markdown",
   "id": "67bc6bfd",
   "metadata": {},
   "source": [
    "# Resonators"
   ]
  },
  {
   "cell_type": "code",
   "execution_count": 9,
   "id": "08e9fcbe",
   "metadata": {},
   "outputs": [
    {
     "data": {
      "text/plain": [
       "{'chip': 'main',\n",
       " 'layer': '1',\n",
       " 'pin_inputs': {'start_pin': {'component': '', 'pin': ''},\n",
       "  'end_pin': {'component': '', 'pin': ''}},\n",
       " 'fillet': '0',\n",
       " 'lead': {'start_straight': '0mm',\n",
       "  'end_straight': '0mm',\n",
       "  'start_jogged_extension': '',\n",
       "  'end_jogged_extension': ''},\n",
       " 'total_length': '7mm',\n",
       " 'trace_width': 'cpw_width',\n",
       " 'meander': {'spacing': '200um', 'asymmetry': '0um'},\n",
       " 'snap': 'true',\n",
       " 'prevent_short_edges': 'true',\n",
       " 'hfss_wire_bonds': False,\n",
       " 'q3d_wire_bonds': False}"
      ]
     },
     "execution_count": 9,
     "metadata": {},
     "output_type": "execute_result"
    }
   ],
   "source": [
    "from qiskit_metal.qlibrary.tlines.meandered import RouteMeander\n",
    "RouteMeander.get_template_options(design)"
   ]
  },
  {
   "cell_type": "code",
   "execution_count": 10,
   "id": "ded2646e",
   "metadata": {},
   "outputs": [],
   "source": [
    "res_opt = Dict(\n",
    "    lead=Dict(\n",
    "        start_straight='1.5mm',\n",
    "        end_straight='1mm'\n",
    "    ),\n",
    "    fillet='130um',\n",
    "    total_length='10.3mm',\n",
    "    meander=Dict(spacing='280um'),\n",
    "    snap='false',\n",
    "    prevent_short_edges='false',\n",
    "    hfss_wire_bonds=True\n",
    ")\n",
    "\n",
    "res_opt.pin_inputs.start_pin.component='CAP1'\n",
    "res_opt.pin_inputs.start_pin.pin='pin_2'\n",
    "res_opt.pin_inputs.end_pin.component='CAP2'\n",
    "res_opt.pin_inputs.end_pin.pin='pin_3'\n",
    "res1 = RouteMeander(design, 'RES1', options=res_opt)\n",
    "\n",
    "res_opt.pin_inputs.start_pin.component='CAP2'\n",
    "res_opt.pin_inputs.start_pin.pin='pin_2'\n",
    "res_opt.pin_inputs.end_pin.component='CAP3'\n",
    "res_opt.pin_inputs.end_pin.pin='pin_3'\n",
    "res2 = RouteMeander(design, 'RES2', options=res_opt)\n",
    "\n",
    "res_opt.pin_inputs.start_pin.component='CAP3'\n",
    "res_opt.pin_inputs.start_pin.pin='pin_2'\n",
    "res_opt.pin_inputs.end_pin.component='CAP4'\n",
    "res_opt.pin_inputs.end_pin.pin='pin_3'\n",
    "res3 = RouteMeander(design, 'RES3', options=res_opt)\n",
    "\n",
    "res_opt.pin_inputs.start_pin.component='CAP4'\n",
    "res_opt.pin_inputs.start_pin.pin='pin_2'\n",
    "res_opt.pin_inputs.end_pin.component='CAP5'\n",
    "res_opt.pin_inputs.end_pin.pin='pin_3'\n",
    "res4 = RouteMeander(design, 'RES4', options=res_opt)\n",
    "\n",
    "res_opt.pin_inputs.start_pin.component='CAP5'\n",
    "res_opt.pin_inputs.start_pin.pin='pin_2'\n",
    "res_opt.pin_inputs.end_pin.component='CAP1'\n",
    "res_opt.pin_inputs.end_pin.pin='pin_3'\n",
    "res5 = RouteMeander(design, 'RES5', options=res_opt)\n",
    "\n",
    "gui.rebuild()\n",
    "gui.autoscale()\n",
    "#gui.zoom_on_components(['RES3'])"
   ]
  },
  {
   "cell_type": "code",
   "execution_count": 54,
   "id": "b6d12aba",
   "metadata": {},
   "outputs": [
    {
     "data": {
      "text/plain": [
       "\u001b[95m\u001b[1mname:    \u001b[94m\u001b[1mRES1\u001b[0m\n",
       "\u001b[95m\u001b[1mclass:   \u001b[94m\u001b[1mRouteMeander          \u001b[0m\n",
       "\u001b[95m\u001b[1moptions: \u001b[0m\n",
       "  'chip'              : 'main',                       \n",
       "  'layer'             : '1',                          \n",
       "  \u001b[1m'pin_inputs'        \u001b[0m: {\n",
       "       \u001b[1m'start_pin'         \u001b[0m: {\n",
       "            'component'         : 'CAP1',                       \n",
       "            'pin'               : 'pin_2',                      \n",
       "                             },\n",
       "       \u001b[1m'end_pin'           \u001b[0m: {\n",
       "            'component'         : 'CAP2',                       \n",
       "            'pin'               : 'pin_3',                      \n",
       "                             },\n",
       "                        },\n",
       "  'fillet'            : '130um',                      \n",
       "  \u001b[1m'lead'              \u001b[0m: {\n",
       "       'start_straight'    : '1.5mm',                      \n",
       "       'end_straight'      : '1mm',                        \n",
       "       'start_jogged_extension': '',                           \n",
       "       'end_jogged_extension': '',                           \n",
       "                        },\n",
       "  'total_length'      : '10.3mm',                     \n",
       "  'trace_width'       : 'cpw_width',                  \n",
       "  \u001b[1m'meander'           \u001b[0m: {\n",
       "       'spacing'           : '280um',                      \n",
       "       'asymmetry'         : '0um',                        \n",
       "                        },\n",
       "  'snap'              : 'false',                      \n",
       "  'prevent_short_edges': 'false',                      \n",
       "  'hfss_wire_bonds'   : True,                         \n",
       "  'q3d_wire_bonds'    : False,                        \n",
       "  'trace_gap'         : 'cpw_gap',                    \n",
       "  '_actual_length'    : '10.3 mm',                    \n",
       "\u001b[95m\u001b[1mmodule:  \u001b[94m\u001b[1mqiskit_metal.qlibrary.tlines.meandered\u001b[0m\n",
       "\u001b[95m\u001b[1mid:      \u001b[94m\u001b[1m6\u001b[0m"
      ]
     },
     "execution_count": 54,
     "metadata": {},
     "output_type": "execute_result"
    }
   ],
   "source": [
    "res1"
   ]
  },
  {
   "cell_type": "markdown",
   "id": "3ae46249",
   "metadata": {},
   "source": [
    "# Add pads"
   ]
  },
  {
   "cell_type": "code",
   "execution_count": 11,
   "id": "5b9d40a9",
   "metadata": {},
   "outputs": [
    {
     "data": {
      "text/plain": [
       "{'pos_x': '0.0um',\n",
       " 'pos_y': '0.0um',\n",
       " 'orientation': '0.0',\n",
       " 'chip': 'main',\n",
       " 'layer': '1',\n",
       " 'trace_width': 'cpw_width',\n",
       " 'trace_gap': 'cpw_gap',\n",
       " 'lead_length': '25um',\n",
       " 'pad_width': '80um',\n",
       " 'pad_height': '80um',\n",
       " 'pad_gap': '58um',\n",
       " 'taper_height': '122um'}"
      ]
     },
     "execution_count": 11,
     "metadata": {},
     "output_type": "execute_result"
    }
   ],
   "source": [
    "from qiskit_metal.qlibrary.terminations.launchpad_wb import LaunchpadWirebond\n",
    "LaunchpadWirebond.get_template_options(design)"
   ]
  },
  {
   "cell_type": "code",
   "execution_count": 15,
   "id": "d43983d7",
   "metadata": {},
   "outputs": [],
   "source": [
    "pad1 = LaunchpadWirebond(design, 'PAD1', options=Dict(\n",
    "    pos_x='-4.3mm',\n",
    "    pos_y='3.8mm',\n",
    "    orientation='-90',\n",
    "    lead_length='25um',\n",
    "    pad_width='350um',\n",
    "    pad_height='350um',\n",
    "    pad_gap='150um',\n",
    "    taper_height='370um'\n",
    "))\n",
    "\n",
    "pad2 = LaunchpadWirebond(design, 'PAD2', options=Dict(\n",
    "    pos_x='4.3mm',\n",
    "    pos_y='3.8mm',\n",
    "    orientation='-90',\n",
    "    lead_length='25um',\n",
    "    pad_width='350um',\n",
    "    pad_height='350um',\n",
    "    pad_gap='150um',\n",
    "    taper_height='370um'\n",
    "))\n",
    "\n",
    "pad3 = LaunchpadWirebond(design, 'PAD3', options=Dict(\n",
    "    pos_x='-4.3mm',\n",
    "    pos_y='-3.8mm',\n",
    "    orientation='90',\n",
    "    lead_length='25um',\n",
    "    pad_width='350um',\n",
    "    pad_height='350um',\n",
    "    pad_gap='150um',\n",
    "    taper_height='370um'\n",
    "))\n",
    "\n",
    "pad4 = LaunchpadWirebond(design, 'PAD4', options=Dict(\n",
    "    pos_x='0mm',\n",
    "    pos_y='-3.8mm',\n",
    "    orientation='90',\n",
    "    lead_length='25um',\n",
    "    pad_width='350um',\n",
    "    pad_height='350um',\n",
    "    pad_gap='150um',\n",
    "    taper_height='370um'\n",
    "))\n",
    "\n",
    "pad5 = LaunchpadWirebond(design, 'PAD5', options=Dict(\n",
    "    pos_x='4.3mm',\n",
    "    pos_y='-3.8mm',\n",
    "    orientation='90',\n",
    "    lead_length='25um',\n",
    "    pad_width='350um',\n",
    "    pad_height='350um',\n",
    "    pad_gap='150um',\n",
    "    taper_height='370um'\n",
    "))\n",
    "\n",
    "gui.rebuild()\n",
    "gui.autoscale()"
   ]
  },
  {
   "cell_type": "code",
   "execution_count": 16,
   "id": "29eb8bf6",
   "metadata": {},
   "outputs": [
    {
     "data": {
      "text/plain": [
       "{'chip': 'main',\n",
       " 'layer': '1',\n",
       " 'pin_inputs': {'start_pin': {'component': '', 'pin': ''},\n",
       "  'end_pin': {'component': '', 'pin': ''}},\n",
       " 'fillet': '0',\n",
       " 'lead': {'start_straight': '0mm',\n",
       "  'end_straight': '0mm',\n",
       "  'start_jogged_extension': '',\n",
       "  'end_jogged_extension': ''},\n",
       " 'total_length': '7mm',\n",
       " 'trace_width': 'cpw_width',\n",
       " 'hfss_wire_bonds': False,\n",
       " 'q3d_wire_bonds': False}"
      ]
     },
     "execution_count": 16,
     "metadata": {},
     "output_type": "execute_result"
    }
   ],
   "source": [
    "from qiskit_metal.qlibrary.tlines.straight_path import RouteStraight\n",
    "RouteStraight.get_template_options(design)"
   ]
  },
  {
   "cell_type": "code",
   "execution_count": 17,
   "id": "40cf16db",
   "metadata": {},
   "outputs": [],
   "source": [
    "line1 = RouteStraight(design, 'LINE1', options=Dict(\n",
    "    pin_inputs=Dict(\n",
    "        start_pin=Dict(\n",
    "            component='CAP4',\n",
    "            pin='pin_1'\n",
    "        ),\n",
    "        end_pin=Dict(\n",
    "            component='PAD1',\n",
    "            pin='tie'\n",
    "        ),\n",
    "    ),\n",
    "    lead=Dict(\n",
    "        start_straight='400um',\n",
    "        end_straight='400um'\n",
    "    ),\n",
    "    fillet='300um'\n",
    "))\n",
    "\n",
    "line2 = RouteStraight(design, 'LINE2', options=Dict(\n",
    "    pin_inputs=Dict(\n",
    "        start_pin=Dict(\n",
    "            component='CAP3',\n",
    "            pin='pin_1'\n",
    "        ),\n",
    "        end_pin=Dict(\n",
    "            component='PAD2',\n",
    "            pin='tie'\n",
    "        ),\n",
    "    ),\n",
    "    lead=Dict(\n",
    "        start_straight='400um',\n",
    "        end_straight='400um'\n",
    "    ),\n",
    "    fillet='300um'\n",
    "))\n",
    "\n",
    "line3 = RouteStraight(design, 'LINE3', options=Dict(\n",
    "    pin_inputs=Dict(\n",
    "        start_pin=Dict(\n",
    "            component='CAP5',\n",
    "            pin='pin_1'\n",
    "        ),\n",
    "        end_pin=Dict(\n",
    "            component='PAD3',\n",
    "            pin='tie'\n",
    "        ),\n",
    "    ),\n",
    "    lead=Dict(\n",
    "        start_straight='700um',\n",
    "        end_straight='1000um'\n",
    "    ),\n",
    "    fillet='600um'\n",
    "))\n",
    "\n",
    "line4 = RouteStraight(design, 'LINE4', options=Dict(\n",
    "    pin_inputs=Dict(\n",
    "        start_pin=Dict(\n",
    "            component='CAP1',\n",
    "            pin='pin_1'\n",
    "        ),\n",
    "        end_pin=Dict(\n",
    "            component='PAD4',\n",
    "            pin='tie'\n",
    "        ),\n",
    "    )\n",
    "))\n",
    "\n",
    "line5 = RouteStraight(design, 'LINE5', options=Dict(\n",
    "    pin_inputs=Dict(\n",
    "        start_pin=Dict(\n",
    "            component='CAP2',\n",
    "            pin='pin_1'\n",
    "        ),\n",
    "        end_pin=Dict(\n",
    "            component='PAD5',\n",
    "            pin='tie'\n",
    "        ),\n",
    "    ),\n",
    "    lead=Dict(\n",
    "        start_straight='700um',\n",
    "        end_straight='1000um'\n",
    "    ),\n",
    "    fillet='600um'\n",
    "))\n",
    "\n",
    "gui.rebuild()\n",
    "#gui.zoom_on_components(['LINE5'])\n",
    "gui.autoscale()"
   ]
  },
  {
   "cell_type": "markdown",
   "id": "466e8147",
   "metadata": {},
   "source": [
    "# Render to GDS"
   ]
  },
  {
   "cell_type": "code",
   "execution_count": 18,
   "id": "4b89e495",
   "metadata": {},
   "outputs": [
    {
     "data": {
      "text/plain": [
       "{'material': 'silicon',\n",
       " 'layer_start': '0',\n",
       " 'layer_end': '2048',\n",
       " 'size': {'center_x': '0.0mm',\n",
       "  'center_y': '0.0mm',\n",
       "  'center_z': '0.0mm',\n",
       "  'size_x': '10mm',\n",
       "  'size_y': '10mm',\n",
       "  'size_z': '-750um',\n",
       "  'sample_holder_top': '890um',\n",
       "  'sample_holder_bottom': '1650um'}}"
      ]
     },
     "execution_count": 18,
     "metadata": {},
     "output_type": "execute_result"
    }
   ],
   "source": [
    "design.chips.main.size['size_x'] = '10mm'\n",
    "design.chips.main.size['size_y'] = '10mm'\n",
    "design.chips.main"
   ]
  },
  {
   "cell_type": "code",
   "execution_count": 19,
   "id": "05fbbf0b",
   "metadata": {},
   "outputs": [
    {
     "name": "stderr",
     "output_type": "stream",
     "text": [
      "12:09AM 22s WARNING [_import_junctions_to_one_cell]: Not able to find file:\"../resources/Fake_Junctions.GDS\".  Not used to replace junction. Checked directory:\"c:\\Users\\edhan\\Desktop\\Git hub\\Sub-lattices\\resources\".\n"
     ]
    },
    {
     "data": {
      "text/plain": [
       "1"
      ]
     },
     "execution_count": 19,
     "metadata": {},
     "output_type": "execute_result"
    }
   ],
   "source": [
    "design.renderers.gds.export_to_gds('Simetric five coupled resonators new.gds')"
   ]
  },
  {
   "cell_type": "markdown",
   "id": "89d41400",
   "metadata": {},
   "source": [
    "# Capacitor simulation"
   ]
  },
  {
   "cell_type": "code",
   "execution_count": 16,
   "id": "582cc950",
   "metadata": {},
   "outputs": [],
   "source": [
    "ansys = design.renderers.q3d"
   ]
  },
  {
   "cell_type": "code",
   "execution_count": 17,
   "id": "51736e29",
   "metadata": {},
   "outputs": [
    {
     "name": "stderr",
     "output_type": "stream",
     "text": [
      "INFO 05:44PM [connect_project]: Connecting to Ansys Desktop API...\n",
      "INFO 05:44PM [load_ansys_project]: \tOpened Ansys App\n",
      "INFO 05:44PM [load_ansys_project]: \tOpened Ansys Desktop v2025.1.0\n",
      "INFO 05:44PM [load_ansys_project]: \tOpened Ansys Project\n",
      "\tFolder:    D:/Users/e196203/Desktop/Simulações/qiskit metal/Five coupled resonators/\n",
      "\tProject:   Simulating five coupled\n",
      "INFO 05:44PM [connect_design]: \tOpened active design\n",
      "\tDesign:    Capacitance [Solution type: Q3D]\n",
      "INFO 05:44PM [get_setup]: \tOpened setup `Setup`  (<class 'pyEPR.ansys.AnsysQ3DSetup'>)\n",
      "INFO 05:44PM [connect]: \tConnected to project \"Simulating five coupled\" and design \"Capacitance\" 😀 \n",
      "\n"
     ]
    }
   ],
   "source": [
    "ansys.connect_ansys()"
   ]
  },
  {
   "cell_type": "code",
   "execution_count": 18,
   "id": "e756b367",
   "metadata": {},
   "outputs": [
    {
     "name": "stderr",
     "output_type": "stream",
     "text": [
      "05:44PM 37s WARNING [activate_q3d_design]: This method is deprecated. Change your scripts to use activate_ansys_design()\n",
      "INFO 05:44PM [connect_design]: \tOpened active design\n",
      "\tDesign:    Capacitance [Solution type: Q3D]\n"
     ]
    }
   ],
   "source": [
    "ansys.activate_q3d_design('Capacitance')"
   ]
  },
  {
   "cell_type": "code",
   "execution_count": 19,
   "id": "2f835d37",
   "metadata": {},
   "outputs": [],
   "source": [
    "ansys.clean_active_design()\n",
    "ansys.render_design(['CAP1'])"
   ]
  },
  {
   "cell_type": "code",
   "execution_count": 20,
   "id": "836d33a2",
   "metadata": {},
   "outputs": [
    {
     "data": {
      "text/plain": [
       "<pyEPR.ansys.AnsysQ3DSetup at 0x185db382d90>"
      ]
     },
     "execution_count": 20,
     "metadata": {},
     "output_type": "execute_result"
    }
   ],
   "source": [
    "ansys.add_q3d_setup(\n",
    "    name='capacitance',\n",
    "    freq_ghz=11.6,\n",
    "    max_passes=12,\n",
    "    min_passes=2,\n",
    "    min_converged_passes=2,\n",
    "    percent_error=0.2\n",
    ")"
   ]
  },
  {
   "cell_type": "code",
   "execution_count": 21,
   "id": "dfb6c08a",
   "metadata": {},
   "outputs": [
    {
     "name": "stderr",
     "output_type": "stream",
     "text": [
      "INFO 05:45PM [get_setup]: \tOpened setup `capacitance`  (<class 'pyEPR.ansys.AnsysQ3DSetup'>)\n",
      "INFO 05:45PM [analyze]: Analyzing setup capacitance\n"
     ]
    }
   ],
   "source": [
    "ansys.analyze_setup('capacitance')"
   ]
  },
  {
   "cell_type": "code",
   "execution_count": 22,
   "id": "7dccf716",
   "metadata": {},
   "outputs": [
    {
     "name": "stderr",
     "output_type": "stream",
     "text": [
      "INFO 05:47PM [get_matrix]: Exporting matrix data to (D:\\Users\\e196203\\AppData\\Local\\Temp\\6\\tmpo75e9qtv.txt, C, , capacitance:LastAdaptive, \"Original\", \"ohm\", \"nH\", \"fF\", \"mSie\", 11600000000, Maxwell, 1, False\n"
     ]
    },
    {
     "data": {
      "text/plain": [
       "(                   cpw1_CAP1  cpw2_CAP1  cpw3_CAP1  ground_main_plane\n",
       " cpw1_CAP1           30.79615   -5.34606   -5.35098          -19.57463\n",
       " cpw2_CAP1           -5.34606   30.80037   -5.35424          -19.54196\n",
       " cpw3_CAP1           -5.35098   -5.35424   30.80171          -19.55401\n",
       " ground_main_plane  -19.57463  -19.54196  -19.55401           94.63785,\n",
       " 'fF')"
      ]
     },
     "execution_count": 22,
     "metadata": {},
     "output_type": "execute_result"
    }
   ],
   "source": [
    "ansys.get_capacitance_matrix()"
   ]
  },
  {
   "cell_type": "code",
   "execution_count": 23,
   "id": "1a38b618",
   "metadata": {},
   "outputs": [],
   "source": [
    "ansys.disconnect_ansys()"
   ]
  },
  {
   "cell_type": "markdown",
   "id": "823c8a7a",
   "metadata": {},
   "source": [
    "# Eigenmode simulation of resonators"
   ]
  },
  {
   "cell_type": "code",
   "execution_count": 15,
   "id": "2abb529c",
   "metadata": {},
   "outputs": [],
   "source": [
    "ansys = design.renderers.hfss"
   ]
  },
  {
   "cell_type": "code",
   "execution_count": 16,
   "id": "147da185",
   "metadata": {},
   "outputs": [
    {
     "name": "stderr",
     "output_type": "stream",
     "text": [
      "INFO 05:52PM [connect_project]: Connecting to Ansys Desktop API...\n",
      "INFO 05:52PM [load_ansys_project]: \tOpened Ansys App\n",
      "INFO 05:52PM [load_ansys_project]: \tOpened Ansys Desktop v2025.1.0\n",
      "INFO 05:52PM [load_ansys_project]: \tOpened Ansys Project\n",
      "\tFolder:    D:/Users/e196203/Desktop/Simulações/qiskit metal/Five coupled resonators/\n",
      "\tProject:   Simulating five coupled\n",
      "INFO 05:52PM [connect_design]: \tOpened active design\n",
      "\tDesign:    Resonator 1 [Solution type: Eigenmode]\n",
      "WARNING 05:52PM [connect_setup]: \tNo design setup detected.\n",
      "WARNING 05:52PM [connect_setup]: \tCreating eigenmode default setup.\n",
      "INFO 05:52PM [get_setup]: \tOpened setup `Setup`  (<class 'pyEPR.ansys.HfssEMSetup'>)\n",
      "INFO 05:52PM [connect]: \tConnected to project \"Simulating five coupled\" and design \"Resonator 1\" 😀 \n",
      "\n"
     ]
    }
   ],
   "source": [
    "ansys.connect_ansys()"
   ]
  },
  {
   "cell_type": "markdown",
   "id": "a57abfcd",
   "metadata": {},
   "source": [
    "## Resonator 1"
   ]
  },
  {
   "cell_type": "code",
   "execution_count": 17,
   "id": "c36c9f80",
   "metadata": {},
   "outputs": [
    {
     "name": "stderr",
     "output_type": "stream",
     "text": [
      "05:52PM 13s WARNING [activate_eigenmode_design]: This method is deprecated. Change your scripts to use activate_ansys_design()\n",
      "INFO 05:52PM [connect_design]: \tOpened active design\n",
      "\tDesign:    Resonator 1 [Solution type: Eigenmode]\n"
     ]
    }
   ],
   "source": [
    "ansys.activate_eigenmode_design('Resonator 1')"
   ]
  },
  {
   "cell_type": "code",
   "execution_count": 20,
   "id": "20e04977",
   "metadata": {},
   "outputs": [],
   "source": [
    "ansys.clean_active_design()\n",
    "ansys.render_design(selection=['RES1','CAP1','CAP2','LINE4','LINE5'], open_pins=[('LINE4','end'),('LINE5','end')])"
   ]
  },
  {
   "cell_type": "code",
   "execution_count": 21,
   "id": "db1ec684",
   "metadata": {},
   "outputs": [
    {
     "data": {
      "text/plain": [
       "<pyEPR.ansys.HfssEMSetup at 0x1c2c4ec1350>"
      ]
     },
     "execution_count": 21,
     "metadata": {},
     "output_type": "execute_result"
    }
   ],
   "source": [
    "ansys.add_eigenmode_setup(\n",
    "    name='resonance',\n",
    "    min_freq_ghz=3,\n",
    "    n_modes=2,\n",
    "    max_delta_f=0.2,\n",
    "    max_passes=15,\n",
    "    min_passes=2,\n",
    "    min_converged=2,\n",
    ")"
   ]
  },
  {
   "cell_type": "code",
   "execution_count": 24,
   "id": "4fa0773f",
   "metadata": {},
   "outputs": [
    {
     "name": "stderr",
     "output_type": "stream",
     "text": [
      "INFO 07:59PM [get_setup]: \tOpened setup `resonance`  (<class 'pyEPR.ansys.HfssEMSetup'>)\n",
      "INFO 07:59PM [analyze]: Analyzing setup resonance\n"
     ]
    }
   ],
   "source": [
    "ansys.analyze_setup('resonance')"
   ]
  },
  {
   "cell_type": "code",
   "execution_count": 26,
   "id": "c8cf3910",
   "metadata": {},
   "outputs": [
    {
     "data": {
      "text/plain": [
       "([5.53008377573, 11.0649930523], None)"
      ]
     },
     "execution_count": 26,
     "metadata": {},
     "output_type": "execute_result"
    }
   ],
   "source": [
    "ansys.pinfo.setup.get_solutions().eigenmodes()"
   ]
  },
  {
   "cell_type": "markdown",
   "id": "eb6244d5",
   "metadata": {},
   "source": [
    "## Resonator 2"
   ]
  },
  {
   "cell_type": "code",
   "execution_count": 55,
   "id": "71281ba4",
   "metadata": {},
   "outputs": [
    {
     "name": "stderr",
     "output_type": "stream",
     "text": [
      "12:16PM 41s WARNING [activate_eigenmode_design]: This method is deprecated. Change your scripts to use activate_ansys_design()\n",
      "INFO 12:16PM [connect_design]: \tOpened active design\n",
      "\tDesign:    Resonator 2 [Solution type: Eigenmode]\n"
     ]
    }
   ],
   "source": [
    "ansys.activate_eigenmode_design('Resonator 2')"
   ]
  },
  {
   "cell_type": "code",
   "execution_count": 28,
   "id": "54209684",
   "metadata": {},
   "outputs": [],
   "source": [
    "ansys.clean_active_design()\n",
    "ansys.render_design(selection=['RES2','CAP2','CAP3','LINE5','LINE2'], open_pins=[('LINE5','end'),('LINE2','end')])"
   ]
  },
  {
   "cell_type": "code",
   "execution_count": 29,
   "id": "d12e37e1",
   "metadata": {},
   "outputs": [
    {
     "data": {
      "text/plain": [
       "<pyEPR.ansys.HfssEMSetup at 0x1c2c4ec1890>"
      ]
     },
     "execution_count": 29,
     "metadata": {},
     "output_type": "execute_result"
    }
   ],
   "source": [
    "ansys.add_eigenmode_setup(\n",
    "    name='resonance',\n",
    "    min_freq_ghz=3,\n",
    "    n_modes=2,\n",
    "    max_delta_f=0.2,\n",
    "    max_passes=15,\n",
    "    min_passes=2,\n",
    "    min_converged=2,\n",
    ")"
   ]
  },
  {
   "cell_type": "code",
   "execution_count": 30,
   "id": "d7e5da25",
   "metadata": {},
   "outputs": [
    {
     "name": "stderr",
     "output_type": "stream",
     "text": [
      "INFO 08:08PM [get_setup]: \tOpened setup `resonance`  (<class 'pyEPR.ansys.HfssEMSetup'>)\n",
      "INFO 08:08PM [analyze]: Analyzing setup resonance\n"
     ]
    }
   ],
   "source": [
    "ansys.analyze_setup('resonance')"
   ]
  },
  {
   "cell_type": "code",
   "execution_count": 31,
   "id": "7c0172b6",
   "metadata": {},
   "outputs": [
    {
     "data": {
      "text/plain": [
       "([5.52599074862, 11.0632076153], None)"
      ]
     },
     "execution_count": 31,
     "metadata": {},
     "output_type": "execute_result"
    }
   ],
   "source": [
    "ansys.pinfo.setup.get_solutions().eigenmodes()"
   ]
  },
  {
   "cell_type": "markdown",
   "id": "2c3945e4",
   "metadata": {},
   "source": [
    "## Resonator 3"
   ]
  },
  {
   "cell_type": "code",
   "execution_count": 32,
   "id": "ceb67d94",
   "metadata": {},
   "outputs": [
    {
     "name": "stderr",
     "output_type": "stream",
     "text": [
      "11:19AM 31s WARNING [activate_eigenmode_design]: This method is deprecated. Change your scripts to use activate_ansys_design()\n",
      "11:19AM 31s WARNING [activate_ansys_design]: The design_name=Resonator 3 was not in active project.  Designs in active project are: \n",
      "['Resonator 1', 'Capacitance', 'Resonator 2'].  A new design will be added to the project.  \n",
      "INFO 11:19AM [connect_design]: \tOpened active design\n",
      "\tDesign:    Resonator 3 [Solution type: Eigenmode]\n",
      "WARNING 11:19AM [connect_setup]: \tNo design setup detected.\n",
      "WARNING 11:19AM [connect_setup]: \tCreating eigenmode default setup.\n",
      "INFO 11:19AM [get_setup]: \tOpened setup `Setup`  (<class 'pyEPR.ansys.HfssEMSetup'>)\n"
     ]
    }
   ],
   "source": [
    "ansys.activate_eigenmode_design('Resonator 3')"
   ]
  },
  {
   "cell_type": "code",
   "execution_count": 33,
   "id": "c4c32b92",
   "metadata": {},
   "outputs": [],
   "source": [
    "ansys.clean_active_design()\n",
    "ansys.render_design(selection=['RES3','CAP3','CAP4','LINE1','LINE2'], open_pins=[('LINE1','end'),('LINE2','end')])"
   ]
  },
  {
   "cell_type": "code",
   "execution_count": 34,
   "id": "28915383",
   "metadata": {},
   "outputs": [
    {
     "data": {
      "text/plain": [
       "<pyEPR.ansys.HfssEMSetup at 0x1c2c48f36d0>"
      ]
     },
     "execution_count": 34,
     "metadata": {},
     "output_type": "execute_result"
    }
   ],
   "source": [
    "ansys.add_eigenmode_setup(\n",
    "    name='resonance',\n",
    "    min_freq_ghz=3,\n",
    "    n_modes=2,\n",
    "    max_delta_f=0.2,\n",
    "    max_passes=15,\n",
    "    min_passes=2,\n",
    "    min_converged=2,\n",
    ")"
   ]
  },
  {
   "cell_type": "code",
   "execution_count": 35,
   "id": "408e3d19",
   "metadata": {},
   "outputs": [
    {
     "name": "stderr",
     "output_type": "stream",
     "text": [
      "INFO 11:22AM [get_setup]: \tOpened setup `resonance`  (<class 'pyEPR.ansys.HfssEMSetup'>)\n",
      "INFO 11:22AM [analyze]: Analyzing setup resonance\n"
     ]
    }
   ],
   "source": [
    "ansys.analyze_setup('resonance')"
   ]
  },
  {
   "cell_type": "code",
   "execution_count": 36,
   "id": "efd0208b",
   "metadata": {},
   "outputs": [
    {
     "data": {
      "text/plain": [
       "([5.53994690139, 11.0788869671], None)"
      ]
     },
     "execution_count": 36,
     "metadata": {},
     "output_type": "execute_result"
    }
   ],
   "source": [
    "ansys.pinfo.setup.get_solutions().eigenmodes()"
   ]
  },
  {
   "cell_type": "markdown",
   "id": "c6955519",
   "metadata": {},
   "source": [
    "# Drivenmodal simulation"
   ]
  },
  {
   "cell_type": "markdown",
   "id": "a5f72835",
   "metadata": {},
   "source": [
    "## Resonator 1"
   ]
  },
  {
   "cell_type": "code",
   "execution_count": 51,
   "id": "6415c225",
   "metadata": {},
   "outputs": [
    {
     "name": "stderr",
     "output_type": "stream",
     "text": [
      "05:26PM 35s WARNING [activate_drivenmodal_design]: This method is deprecated. Change your scripts to use activate_ansys_design()\n",
      "INFO 05:26PM [connect_design]: \tOpened active design\n",
      "\tDesign:    S21 Resonator 1 [Solution type: HFSS Hybrid Modal Network]\n",
      "05:26PM 35s WARNING [activate_ansys_design]: The design_name=S21 Resonator 1 already exists, but it has solution_type==hfss hybrid modal network, which is different from the requested==drivenmodal. If you want a design with solution type==drivenmodal, please change the name requested for your design to one that does not exist. Alternatively, manually modify the solution_type for design S21 Resonator 1 from the Ansys GUI.\n"
     ]
    }
   ],
   "source": [
    "ansys.activate_drivenmodal_design('S21 Resonator 1')"
   ]
  },
  {
   "cell_type": "code",
   "execution_count": 50,
   "id": "b5826654",
   "metadata": {},
   "outputs": [
    {
     "data": {
      "text/plain": [
       "<pyEPR.ansys.HfssDMSetup at 0x1c2ccdecc50>"
      ]
     },
     "execution_count": 50,
     "metadata": {},
     "output_type": "execute_result"
    }
   ],
   "source": [
    "ansys.add_drivenmodal_setup(\n",
    "    name='Setup',\n",
    "    freq_ghz=11.06,\n",
    "    max_delta_s=0.02,\n",
    "    max_passes=23,\n",
    "    min_passes=20,\n",
    "    min_converged=2,\n",
    "    basis_order=-1\n",
    ")"
   ]
  },
  {
   "cell_type": "code",
   "execution_count": 53,
   "id": "385d1bc0",
   "metadata": {},
   "outputs": [],
   "source": [
    "ansys.clean_active_design()\n",
    "ansys.render_design(\n",
    "    selection=['RES1','CAP1','CAP2','LINE4','LINE5'],\n",
    "    open_pins=[],\n",
    "    port_list=[('LINE4','end',50),('LINE5','end',50)]\n",
    ")"
   ]
  },
  {
   "cell_type": "markdown",
   "id": "7bfa104b",
   "metadata": {},
   "source": [
    "## Resonator 2"
   ]
  },
  {
   "cell_type": "code",
   "execution_count": 56,
   "id": "d0598837",
   "metadata": {},
   "outputs": [
    {
     "name": "stderr",
     "output_type": "stream",
     "text": [
      "12:17PM 14s WARNING [activate_drivenmodal_design]: This method is deprecated. Change your scripts to use activate_ansys_design()\n",
      "INFO 12:17PM [connect_design]: \tOpened active design\n",
      "\tDesign:    S21 Resonator 2 [Solution type: HFSS Hybrid Modal Network]\n",
      "12:17PM 15s WARNING [activate_ansys_design]: The design_name=S21 Resonator 2 already exists, but it has solution_type==hfss hybrid modal network, which is different from the requested==drivenmodal. If you want a design with solution type==drivenmodal, please change the name requested for your design to one that does not exist. Alternatively, manually modify the solution_type for design S21 Resonator 2 from the Ansys GUI.\n"
     ]
    }
   ],
   "source": [
    "ansys.activate_drivenmodal_design('S21 Resonator 2')"
   ]
  },
  {
   "cell_type": "code",
   "execution_count": 57,
   "id": "a9502b99",
   "metadata": {},
   "outputs": [],
   "source": [
    "ansys.clean_active_design()\n",
    "ansys.render_design(\n",
    "    selection=['RES2','CAP2','CAP3','LINE2','LINE5'],\n",
    "    open_pins=[],\n",
    "    port_list=[('LINE2','end',50),('LINE5','end',50)]\n",
    ")"
   ]
  }
 ],
 "metadata": {
  "kernelspec": {
   "display_name": "quantum_devices",
   "language": "python",
   "name": "python3"
  },
  "language_info": {
   "codemirror_mode": {
    "name": "ipython",
    "version": 3
   },
   "file_extension": ".py",
   "mimetype": "text/x-python",
   "name": "python",
   "nbconvert_exporter": "python",
   "pygments_lexer": "ipython3",
   "version": "3.11.10"
  }
 },
 "nbformat": 4,
 "nbformat_minor": 5
}
